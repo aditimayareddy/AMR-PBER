{
 "cells": [
  {
   "cell_type": "markdown",
   "id": "9b21be60",
   "metadata": {},
   "source": [
    "### Hawaii PBER Annotated file\n",
    "I annotated this more than usual to illustrate my steps. A clean version of my code is also available and titled \"AMR_HIG22_Clean\"\n",
    "\n",
    "- #TODO: Automate Vote Total Checks\n",
    "- #TODO : Fix Multilevel index before JER merge\n",
    "- #TODO : Change order of columns for each race to descending vote totals"
   ]
  },
  {
   "cell_type": "markdown",
   "id": "32fe3707",
   "metadata": {},
   "source": [
    "\n",
    "### Sources\n",
    "[Hawaii Election results file from MEDSL](https://github.com/MEDSL/2022-elections-official/blob/main/individual_states/2022-hi-local-precinct-general.zip), [Hawaii Precinct boundaries](https://geoportal.hawaii.gov/datasets/HiStateGIS::election-precincts/about), and [State Office of Elections Certified Report Summaries](https://elections.hawaii.gov/election-results/)"
   ]
  },
  {
   "cell_type": "code",
   "execution_count": 1,
   "id": "3576112c",
   "metadata": {},
   "outputs": [],
   "source": [
    "# load packages\n",
    "import numpy as np\n",
    "import pandas as pd\n",
    "import geopandas as gpd\n",
    "pd.set_option('display.max_rows', None) #see all columns of dataframe"
   ]
  },
  {
   "cell_type": "code",
   "execution_count": 2,
   "id": "fed40f27",
   "metadata": {},
   "outputs": [],
   "source": [
    "# Load in files\n",
    "gdf = gpd.read_file('HISHP/Election_Precincts.shp')\n",
    "er = pd.read_csv('HI-cleaned.csv')"
   ]
  },
  {
   "cell_type": "code",
   "execution_count": 3,
   "id": "27abdee9",
   "metadata": {},
   "outputs": [
    {
     "data": {
      "text/plain": [
       "248"
      ]
     },
     "execution_count": 3,
     "metadata": {},
     "output_type": "execute_result"
    }
   ],
   "source": [
    "# check both dataframes for number of unique precincts and unique precinct ID for later merging\n",
    "er.precinct.nunique() # 236 \n",
    "gdf.dp.nunique() # 248"
   ]
  },
  {
   "cell_type": "code",
   "execution_count": 4,
   "id": "21436347",
   "metadata": {},
   "outputs": [],
   "source": [
    "# CHECK\n",
    "#er.precinct.head(1) == gdf.dp.head(1)\n",
    "#gdf.dp.head()\n",
    "#gdf.dp.dtype"
   ]
  },
  {
   "cell_type": "markdown",
   "id": "62df040a",
   "metadata": {},
   "source": [
    "#### summary\n",
    "- 12 More precincts in shapefile than in election returns data frame, will need to look into 12 'nonvoting' areas in shapefile\n",
    "- unique precinct id present in same format in both dfs for later merging"
   ]
  },
  {
   "cell_type": "markdown",
   "id": "9698386a",
   "metadata": {},
   "source": [
    "### Preparing Shapefile for merging\n",
    "Referenced [Metadata for shapefile](https://files.hawaii.gov/dbedt/op/gis/data/precincts.pdf)\n",
    "\n",
    "#### summary\n",
    "\n",
    "- Converted districts 18-05 and 42-01 from multiple geographies to multipolygons\n",
    "- subset df to columns required in final merged df"
   ]
  },
  {
   "cell_type": "code",
   "execution_count": 5,
   "id": "5be0e2f0",
   "metadata": {},
   "outputs": [],
   "source": [
    "# CHECK\n",
    "#gdf.crs"
   ]
  },
  {
   "cell_type": "code",
   "execution_count": 6,
   "id": "dcfc7d0a",
   "metadata": {},
   "outputs": [
    {
     "data": {
      "text/plain": [
       "Index(['objectid', 'dp', 'dpnum', 'dptype', 'county', 'zeropop', 'ballottype',\n",
       "       'us_house', 'state_hous', 'state_sena', 'county_cou', 'st_areasha',\n",
       "       'st_perimet', 'geometry'],\n",
       "      dtype='object')"
      ]
     },
     "execution_count": 6,
     "metadata": {},
     "output_type": "execute_result"
    }
   ],
   "source": [
    "gdf.columns"
   ]
  },
  {
   "cell_type": "code",
   "execution_count": 7,
   "id": "ecce23a3",
   "metadata": {},
   "outputs": [
    {
     "data": {
      "text/plain": [
       "dptype \n",
       "VBMO       239\n",
       "ZEROPOP     11\n",
       "dtype: int64"
      ]
     },
     "execution_count": 7,
     "metadata": {},
     "output_type": "execute_result"
    }
   ],
   "source": [
    "# check # of zero pop precincts\n",
    "gdf[['dptype']].value_counts() #239, still 3 more than er df"
   ]
  },
  {
   "cell_type": "code",
   "execution_count": 8,
   "id": "ec45ae47",
   "metadata": {},
   "outputs": [
    {
     "data": {
      "text/plain": [
       "(250, 14)"
      ]
     },
     "execution_count": 8,
     "metadata": {},
     "output_type": "execute_result"
    }
   ],
   "source": [
    "gdf.shape # gdf has 250 rows, but 248 unique precincts"
   ]
  },
  {
   "cell_type": "code",
   "execution_count": 9,
   "id": "97a8ab9f",
   "metadata": {},
   "outputs": [],
   "source": [
    "# gdf['ballottype'].unique().size #some precincts have same ballot type, precincts smaller than county council districts"
   ]
  },
  {
   "cell_type": "code",
   "execution_count": 10,
   "id": "8738ae8c",
   "metadata": {},
   "outputs": [
    {
     "data": {
      "text/plain": [
       "248"
      ]
     },
     "execution_count": 10,
     "metadata": {},
     "output_type": "execute_result"
    }
   ],
   "source": [
    "# look for duplicates\n",
    "#gdf['objectid'].nunique() #250\n",
    "gdf['dp'].nunique() #248"
   ]
  },
  {
   "cell_type": "code",
   "execution_count": 11,
   "id": "e4cf2b50",
   "metadata": {
    "scrolled": true
   },
   "outputs": [
    {
     "data": {
      "text/html": [
       "<div>\n",
       "<style scoped>\n",
       "    .dataframe tbody tr th:only-of-type {\n",
       "        vertical-align: middle;\n",
       "    }\n",
       "\n",
       "    .dataframe tbody tr th {\n",
       "        vertical-align: top;\n",
       "    }\n",
       "\n",
       "    .dataframe thead th {\n",
       "        text-align: right;\n",
       "    }\n",
       "</style>\n",
       "<table border=\"1\" class=\"dataframe\">\n",
       "  <thead>\n",
       "    <tr style=\"text-align: right;\">\n",
       "      <th></th>\n",
       "      <th>objectid</th>\n",
       "      <th>dp</th>\n",
       "      <th>dpnum</th>\n",
       "      <th>dptype</th>\n",
       "      <th>county</th>\n",
       "      <th>zeropop</th>\n",
       "      <th>ballottype</th>\n",
       "      <th>us_house</th>\n",
       "      <th>state_hous</th>\n",
       "      <th>state_sena</th>\n",
       "      <th>county_cou</th>\n",
       "      <th>st_areasha</th>\n",
       "      <th>st_perimet</th>\n",
       "      <th>geometry</th>\n",
       "    </tr>\n",
       "  </thead>\n",
       "  <tbody>\n",
       "    <tr>\n",
       "      <th>246</th>\n",
       "      <td>247</td>\n",
       "      <td>42-01</td>\n",
       "      <td>4201</td>\n",
       "      <td>VBMO</td>\n",
       "      <td>OAHU</td>\n",
       "      <td>None</td>\n",
       "      <td>CD1-H42-S20-CC9</td>\n",
       "      <td>CD1</td>\n",
       "      <td>H42</td>\n",
       "      <td>S20</td>\n",
       "      <td>CC9</td>\n",
       "      <td>9.219847e+04</td>\n",
       "      <td>1370.015977</td>\n",
       "      <td>POLYGON ((-158.03044 21.33709, -158.03090 21.3...</td>\n",
       "    </tr>\n",
       "    <tr>\n",
       "      <th>247</th>\n",
       "      <td>248</td>\n",
       "      <td>42-01</td>\n",
       "      <td>4201</td>\n",
       "      <td>VBMO</td>\n",
       "      <td>OAHU</td>\n",
       "      <td>None</td>\n",
       "      <td>CD1-H42-S20-CC9</td>\n",
       "      <td>CD1</td>\n",
       "      <td>H42</td>\n",
       "      <td>S20</td>\n",
       "      <td>CC9</td>\n",
       "      <td>2.152954e+05</td>\n",
       "      <td>2002.045649</td>\n",
       "      <td>POLYGON ((-158.02814 21.34041, -158.02829 21.3...</td>\n",
       "    </tr>\n",
       "    <tr>\n",
       "      <th>248</th>\n",
       "      <td>249</td>\n",
       "      <td>18-05</td>\n",
       "      <td>1805</td>\n",
       "      <td>VBMO</td>\n",
       "      <td>OAHU</td>\n",
       "      <td>None</td>\n",
       "      <td>CD1-H18-S09-CC4</td>\n",
       "      <td>CD1</td>\n",
       "      <td>H18</td>\n",
       "      <td>S09</td>\n",
       "      <td>CC4</td>\n",
       "      <td>2.572862e+05</td>\n",
       "      <td>2852.785704</td>\n",
       "      <td>POLYGON ((-157.71873 21.28422, -157.71864 21.2...</td>\n",
       "    </tr>\n",
       "    <tr>\n",
       "      <th>249</th>\n",
       "      <td>250</td>\n",
       "      <td>18-05</td>\n",
       "      <td>1805</td>\n",
       "      <td>VBMO</td>\n",
       "      <td>OAHU</td>\n",
       "      <td>None</td>\n",
       "      <td>CD1-H18-S09-CC4</td>\n",
       "      <td>CD1</td>\n",
       "      <td>H18</td>\n",
       "      <td>S09</td>\n",
       "      <td>CC4</td>\n",
       "      <td>2.780304e+06</td>\n",
       "      <td>11075.929342</td>\n",
       "      <td>POLYGON ((-157.70717 21.31775, -157.70638 21.3...</td>\n",
       "    </tr>\n",
       "  </tbody>\n",
       "</table>\n",
       "</div>"
      ],
      "text/plain": [
       "     objectid     dp  dpnum dptype county zeropop       ballottype us_house  \\\n",
       "246       247  42-01   4201   VBMO   OAHU    None  CD1-H42-S20-CC9      CD1   \n",
       "247       248  42-01   4201   VBMO   OAHU    None  CD1-H42-S20-CC9      CD1   \n",
       "248       249  18-05   1805   VBMO   OAHU    None  CD1-H18-S09-CC4      CD1   \n",
       "249       250  18-05   1805   VBMO   OAHU    None  CD1-H18-S09-CC4      CD1   \n",
       "\n",
       "    state_hous state_sena county_cou    st_areasha    st_perimet  \\\n",
       "246        H42        S20        CC9  9.219847e+04   1370.015977   \n",
       "247        H42        S20        CC9  2.152954e+05   2002.045649   \n",
       "248        H18        S09        CC4  2.572862e+05   2852.785704   \n",
       "249        H18        S09        CC4  2.780304e+06  11075.929342   \n",
       "\n",
       "                                              geometry  \n",
       "246  POLYGON ((-158.03044 21.33709, -158.03090 21.3...  \n",
       "247  POLYGON ((-158.02814 21.34041, -158.02829 21.3...  \n",
       "248  POLYGON ((-157.71873 21.28422, -157.71864 21.2...  \n",
       "249  POLYGON ((-157.70717 21.31775, -157.70638 21.3...  "
      ]
     },
     "execution_count": 11,
     "metadata": {},
     "output_type": "execute_result"
    }
   ],
   "source": [
    "# filtering duplicated rows\n",
    "gdf[gdf.duplicated(subset='dp', keep=False)]"
   ]
  },
  {
   "cell_type": "markdown",
   "id": "4da8078a",
   "metadata": {},
   "source": [
    "noticing that for each pair, every column seems to be duplicated exactly, except columns pertaining to geometry."
   ]
  },
  {
   "cell_type": "code",
   "execution_count": 12,
   "id": "5817bece",
   "metadata": {},
   "outputs": [
    {
     "data": {
      "text/plain": [
       "<AxesSubplot:>"
      ]
     },
     "execution_count": 12,
     "metadata": {},
     "output_type": "execute_result"
    },
    {
     "data": {
      "image/png": "[encoded data removed]",
      "text/plain": [
       "<Figure size 432x288 with 1 Axes>"
      ]
     },
     "metadata": {
      "needs_background": "light"
     },
     "output_type": "display_data"
    },
    {
     "data": {
      "image/png": "[encoded data removed]",
      "text/plain": [
       "<Figure size 432x288 with 1 Axes>"
      ]
     },
     "metadata": {
      "needs_background": "light"
     },
     "output_type": "display_data"
    }
   ],
   "source": [
    "# look at geometries of precinct 18-05, and 42-01\n",
    "gdf.iloc[[-1,-2]].plot()\n",
    "gdf.iloc[[-3,-4]].plot()"
   ]
  },
  {
   "cell_type": "markdown",
   "id": "1be7461f",
   "metadata": {},
   "source": [
    "For each pair, the two geometries seem to comprise one non-contiguous precinct. Looked at all four of these geometries in QGIS with OSM to confirm they are two precincts."
   ]
  },
  {
   "cell_type": "code",
   "execution_count": 13,
   "id": "25a46364",
   "metadata": {},
   "outputs": [],
   "source": [
    "# merging 18-05,42-01 two polygons into multipolygon\n",
    "gdf.geometry[len(gdf.geometry) - 2] = gdf.iloc[[-1,-2]].unary_union\n",
    "gdf.geometry[len(gdf.geometry) - 4] = gdf.iloc[[-3,-4]].unary_union"
   ]
  },
  {
   "cell_type": "code",
   "execution_count": 14,
   "id": "571455d6",
   "metadata": {},
   "outputs": [
    {
     "data": {
      "text/html": [
       "<div>\n",
       "<style scoped>\n",
       "    .dataframe tbody tr th:only-of-type {\n",
       "        vertical-align: middle;\n",
       "    }\n",
       "\n",
       "    .dataframe tbody tr th {\n",
       "        vertical-align: top;\n",
       "    }\n",
       "\n",
       "    .dataframe thead th {\n",
       "        text-align: right;\n",
       "    }\n",
       "</style>\n",
       "<table border=\"1\" class=\"dataframe\">\n",
       "  <thead>\n",
       "    <tr style=\"text-align: right;\">\n",
       "      <th></th>\n",
       "      <th>objectid</th>\n",
       "      <th>dp</th>\n",
       "      <th>dpnum</th>\n",
       "      <th>dptype</th>\n",
       "      <th>county</th>\n",
       "      <th>zeropop</th>\n",
       "      <th>ballottype</th>\n",
       "      <th>us_house</th>\n",
       "      <th>state_hous</th>\n",
       "      <th>state_sena</th>\n",
       "      <th>county_cou</th>\n",
       "      <th>st_areasha</th>\n",
       "      <th>st_perimet</th>\n",
       "      <th>geometry</th>\n",
       "    </tr>\n",
       "  </thead>\n",
       "  <tbody>\n",
       "    <tr>\n",
       "      <th>244</th>\n",
       "      <td>245</td>\n",
       "      <td>51-04</td>\n",
       "      <td>5104</td>\n",
       "      <td>VBMO</td>\n",
       "      <td>OAHU</td>\n",
       "      <td>None</td>\n",
       "      <td>CD2-H51-S25-CC3</td>\n",
       "      <td>CD2</td>\n",
       "      <td>H51</td>\n",
       "      <td>S25</td>\n",
       "      <td>CC3</td>\n",
       "      <td>1.115431e+07</td>\n",
       "      <td>18414.007240</td>\n",
       "      <td>POLYGON ((-157.70963 21.36491, -157.70948 21.3...</td>\n",
       "    </tr>\n",
       "    <tr>\n",
       "      <th>245</th>\n",
       "      <td>246</td>\n",
       "      <td>51-05</td>\n",
       "      <td>5105</td>\n",
       "      <td>VBMO</td>\n",
       "      <td>OAHU</td>\n",
       "      <td>None</td>\n",
       "      <td>CD2-H51-S25-CC3</td>\n",
       "      <td>CD2</td>\n",
       "      <td>H51</td>\n",
       "      <td>S25</td>\n",
       "      <td>CC3</td>\n",
       "      <td>1.395584e+07</td>\n",
       "      <td>30871.886835</td>\n",
       "      <td>POLYGON ((-157.75148 21.34024, -157.75128 21.3...</td>\n",
       "    </tr>\n",
       "    <tr>\n",
       "      <th>246</th>\n",
       "      <td>247</td>\n",
       "      <td>42-01</td>\n",
       "      <td>4201</td>\n",
       "      <td>VBMO</td>\n",
       "      <td>OAHU</td>\n",
       "      <td>None</td>\n",
       "      <td>CD1-H42-S20-CC9</td>\n",
       "      <td>CD1</td>\n",
       "      <td>H42</td>\n",
       "      <td>S20</td>\n",
       "      <td>CC9</td>\n",
       "      <td>9.219847e+04</td>\n",
       "      <td>1370.015977</td>\n",
       "      <td>MULTIPOLYGON (((-158.03090 21.33665, -158.0309...</td>\n",
       "    </tr>\n",
       "    <tr>\n",
       "      <th>248</th>\n",
       "      <td>249</td>\n",
       "      <td>18-05</td>\n",
       "      <td>1805</td>\n",
       "      <td>VBMO</td>\n",
       "      <td>OAHU</td>\n",
       "      <td>None</td>\n",
       "      <td>CD1-H18-S09-CC4</td>\n",
       "      <td>CD1</td>\n",
       "      <td>H18</td>\n",
       "      <td>S09</td>\n",
       "      <td>CC4</td>\n",
       "      <td>2.572862e+05</td>\n",
       "      <td>2852.785704</td>\n",
       "      <td>MULTIPOLYGON (((-157.71864 21.28445, -157.7186...</td>\n",
       "    </tr>\n",
       "  </tbody>\n",
       "</table>\n",
       "</div>"
      ],
      "text/plain": [
       "     objectid     dp  dpnum dptype county zeropop       ballottype us_house  \\\n",
       "244       245  51-04   5104   VBMO   OAHU    None  CD2-H51-S25-CC3      CD2   \n",
       "245       246  51-05   5105   VBMO   OAHU    None  CD2-H51-S25-CC3      CD2   \n",
       "246       247  42-01   4201   VBMO   OAHU    None  CD1-H42-S20-CC9      CD1   \n",
       "248       249  18-05   1805   VBMO   OAHU    None  CD1-H18-S09-CC4      CD1   \n",
       "\n",
       "    state_hous state_sena county_cou    st_areasha    st_perimet  \\\n",
       "244        H51        S25        CC3  1.115431e+07  18414.007240   \n",
       "245        H51        S25        CC3  1.395584e+07  30871.886835   \n",
       "246        H42        S20        CC9  9.219847e+04   1370.015977   \n",
       "248        H18        S09        CC4  2.572862e+05   2852.785704   \n",
       "\n",
       "                                              geometry  \n",
       "244  POLYGON ((-157.70963 21.36491, -157.70948 21.3...  \n",
       "245  POLYGON ((-157.75148 21.34024, -157.75128 21.3...  \n",
       "246  MULTIPOLYGON (((-158.03090 21.33665, -158.0309...  \n",
       "248  MULTIPOLYGON (((-157.71864 21.28445, -157.7186...  "
      ]
     },
     "execution_count": 14,
     "metadata": {},
     "output_type": "execute_result"
    }
   ],
   "source": [
    "# drop duplicate rows, check gdf\n",
    "gdf.drop(labels = [247, 249], axis = 0, inplace=True)\n",
    "gdf.tail(4)"
   ]
  },
  {
   "cell_type": "code",
   "execution_count": 15,
   "id": "7ac21940",
   "metadata": {},
   "outputs": [],
   "source": [
    "# CHECK\n",
    "#gdf.shape #looking for 248\n",
    "#gdf.objectid.nunique()"
   ]
  },
  {
   "cell_type": "code",
   "execution_count": 16,
   "id": "99b76722",
   "metadata": {},
   "outputs": [
    {
     "data": {
      "text/plain": [
       "237"
      ]
     },
     "execution_count": 16,
     "metadata": {},
     "output_type": "execute_result"
    }
   ],
   "source": [
    "#check # of populated unique precincts in shapefile\n",
    "gdf['dp'].nunique() - int(gdf['zeropop'].value_counts())"
   ]
  },
  {
   "cell_type": "markdown",
   "id": "158defb7",
   "metadata": {},
   "source": [
    "Shapefile still has 1 more 'populated' precinct than the election returns"
   ]
  },
  {
   "cell_type": "code",
   "execution_count": 17,
   "id": "109a1667",
   "metadata": {},
   "outputs": [
    {
     "data": {
      "text/plain": [
       "Index(['objectid', 'dp', 'dpnum', 'dptype', 'county', 'zeropop', 'ballottype',\n",
       "       'us_house', 'state_hous', 'state_sena', 'county_cou', 'st_areasha',\n",
       "       'st_perimet', 'geometry'],\n",
       "      dtype='object')"
      ]
     },
     "execution_count": 17,
     "metadata": {},
     "output_type": "execute_result"
    }
   ],
   "source": [
    "#more investigating\n",
    "gdf.columns"
   ]
  },
  {
   "cell_type": "code",
   "execution_count": 18,
   "id": "f273ee9c",
   "metadata": {
    "scrolled": false
   },
   "outputs": [
    {
     "data": {
      "text/plain": [
       "OAHU      154\n",
       "HAWAII     42\n",
       "MAUI       36\n",
       "KAUAI      16\n",
       "Name: county, dtype: int64"
      ]
     },
     "execution_count": 18,
     "metadata": {},
     "output_type": "execute_result"
    }
   ],
   "source": [
    "gdf.county.value_counts() #good to know for later, # of precincts in each county in this shapefile, and # and name of counties"
   ]
  },
  {
   "cell_type": "code",
   "execution_count": 19,
   "id": "33f95151",
   "metadata": {},
   "outputs": [],
   "source": [
    "#desperation searching for anomalous final precinct\n",
    "#gdf.county_cou.nunique()\n",
    "#gdf.ballottype.value_counts()"
   ]
  },
  {
   "cell_type": "markdown",
   "id": "c2634a30",
   "metadata": {},
   "source": [
    "Looked at previous [PBER files on RDH github](https://github.com/nonpartisan-redistricting-datahub/pber_collection) to see column conventions\n",
    "\n",
    "1. PRECINCT   County precinct identifier\n",
    "2. SLDL_DIST  State House District\n",
    "3. SLDU_DIST  State Senate District  "
   ]
  },
  {
   "cell_type": "code",
   "execution_count": 20,
   "id": "99a18c95",
   "metadata": {},
   "outputs": [],
   "source": [
    "#subset gdf for merging\n",
    "gdf_sub = gdf[['dp', 'county', 'us_house', 'state_hous', 'state_sena','geometry']].copy()"
   ]
  },
  {
   "cell_type": "code",
   "execution_count": 21,
   "id": "c3b9038e",
   "metadata": {
    "scrolled": true
   },
   "outputs": [
    {
     "data": {
      "text/html": [
       "<div>\n",
       "<style scoped>\n",
       "    .dataframe tbody tr th:only-of-type {\n",
       "        vertical-align: middle;\n",
       "    }\n",
       "\n",
       "    .dataframe tbody tr th {\n",
       "        vertical-align: top;\n",
       "    }\n",
       "\n",
       "    .dataframe thead th {\n",
       "        text-align: right;\n",
       "    }\n",
       "</style>\n",
       "<table border=\"1\" class=\"dataframe\">\n",
       "  <thead>\n",
       "    <tr style=\"text-align: right;\">\n",
       "      <th></th>\n",
       "      <th>PRECINCT</th>\n",
       "      <th>COUNTY</th>\n",
       "      <th>USHOUSE</th>\n",
       "      <th>SLDL</th>\n",
       "      <th>SLDU</th>\n",
       "      <th>geometry</th>\n",
       "    </tr>\n",
       "  </thead>\n",
       "  <tbody>\n",
       "    <tr>\n",
       "      <th>0</th>\n",
       "      <td>01-01</td>\n",
       "      <td>HAWAII</td>\n",
       "      <td>CD2</td>\n",
       "      <td>H01</td>\n",
       "      <td>S04</td>\n",
       "      <td>POLYGON ((-155.69865 20.18589, -155.69855 20.1...</td>\n",
       "    </tr>\n",
       "    <tr>\n",
       "      <th>1</th>\n",
       "      <td>01-02</td>\n",
       "      <td>HAWAII</td>\n",
       "      <td>CD2</td>\n",
       "      <td>H01</td>\n",
       "      <td>S01</td>\n",
       "      <td>POLYGON ((-155.08329 19.85094, -155.08346 19.8...</td>\n",
       "    </tr>\n",
       "  </tbody>\n",
       "</table>\n",
       "</div>"
      ],
      "text/plain": [
       "  PRECINCT  COUNTY USHOUSE SLDL SLDU  \\\n",
       "0    01-01  HAWAII     CD2  H01  S04   \n",
       "1    01-02  HAWAII     CD2  H01  S01   \n",
       "\n",
       "                                            geometry  \n",
       "0  POLYGON ((-155.69865 20.18589, -155.69855 20.1...  \n",
       "1  POLYGON ((-155.08329 19.85094, -155.08346 19.8...  "
      ]
     },
     "execution_count": 21,
     "metadata": {},
     "output_type": "execute_result"
    }
   ],
   "source": [
    "#rename columns\n",
    "cols = ['PRECINCT', 'COUNTY', 'USHOUSE', 'SLDL', 'SLDU', 'geometry']\n",
    "gdf_sub.columns = cols\n",
    "gdf_sub.head(2)"
   ]
  },
  {
   "cell_type": "code",
   "execution_count": 22,
   "id": "a920a934",
   "metadata": {},
   "outputs": [],
   "source": [
    "gdf_sub['SLDL'] = gdf_sub['SLDL'].apply(lambda x: str(x)[1:])\n",
    "gdf_sub['SLDU'] = gdf_sub['SLDU'].apply(lambda x: str(x)[1:])\n",
    "gdf_sub['USHOUSE'] = gdf_sub['USHOUSE'].apply(lambda x: str(x)[2:])"
   ]
  },
  {
   "cell_type": "code",
   "execution_count": 23,
   "id": "c4927dd3",
   "metadata": {},
   "outputs": [
    {
     "data": {
      "text/html": [
       "<div>\n",
       "<style scoped>\n",
       "    .dataframe tbody tr th:only-of-type {\n",
       "        vertical-align: middle;\n",
       "    }\n",
       "\n",
       "    .dataframe tbody tr th {\n",
       "        vertical-align: top;\n",
       "    }\n",
       "\n",
       "    .dataframe thead th {\n",
       "        text-align: right;\n",
       "    }\n",
       "</style>\n",
       "<table border=\"1\" class=\"dataframe\">\n",
       "  <thead>\n",
       "    <tr style=\"text-align: right;\">\n",
       "      <th></th>\n",
       "      <th>PRECINCT</th>\n",
       "      <th>COUNTY</th>\n",
       "      <th>USHOUSE</th>\n",
       "      <th>SLDL</th>\n",
       "      <th>SLDU</th>\n",
       "      <th>geometry</th>\n",
       "    </tr>\n",
       "  </thead>\n",
       "  <tbody>\n",
       "    <tr>\n",
       "      <th>0</th>\n",
       "      <td>01-01</td>\n",
       "      <td>HAWAII</td>\n",
       "      <td>2</td>\n",
       "      <td>01</td>\n",
       "      <td>04</td>\n",
       "      <td>POLYGON ((-155.69865 20.18589, -155.69855 20.1...</td>\n",
       "    </tr>\n",
       "    <tr>\n",
       "      <th>1</th>\n",
       "      <td>01-02</td>\n",
       "      <td>HAWAII</td>\n",
       "      <td>2</td>\n",
       "      <td>01</td>\n",
       "      <td>01</td>\n",
       "      <td>POLYGON ((-155.08329 19.85094, -155.08346 19.8...</td>\n",
       "    </tr>\n",
       "  </tbody>\n",
       "</table>\n",
       "</div>"
      ],
      "text/plain": [
       "  PRECINCT  COUNTY USHOUSE SLDL SLDU  \\\n",
       "0    01-01  HAWAII       2   01   04   \n",
       "1    01-02  HAWAII       2   01   01   \n",
       "\n",
       "                                            geometry  \n",
       "0  POLYGON ((-155.69865 20.18589, -155.69855 20.1...  \n",
       "1  POLYGON ((-155.08329 19.85094, -155.08346 19.8...  "
      ]
     },
     "execution_count": 23,
     "metadata": {},
     "output_type": "execute_result"
    }
   ],
   "source": [
    "# CHECK\n",
    "gdf_sub.head(2)"
   ]
  },
  {
   "cell_type": "markdown",
   "id": "d9f9d018",
   "metadata": {},
   "source": [
    "### Preparing Elections Returns for merging\n",
    "\n",
    "#### summary\n",
    "\n",
    "- subset to statewide offices, or offices pertaining to a state-wide governing body\n",
    "- Modified to VEST naming conventions (with further modifications to ensure under 10 letter naming convention for offices with contests in districts)\n",
    "- subset df to columns required in final merged df\n",
    "- created df for readme key"
   ]
  },
  {
   "cell_type": "code",
   "execution_count": 24,
   "id": "1166c94a",
   "metadata": {
    "scrolled": true
   },
   "outputs": [],
   "source": [
    "#er.head()\n",
    "#er.shape()\n",
    "#er.isnull().sum()"
   ]
  },
  {
   "cell_type": "code",
   "execution_count": 25,
   "id": "d4470aec",
   "metadata": {},
   "outputs": [
    {
     "data": {
      "text/plain": [
       "False    16552\n",
       "Name: writein, dtype: int64"
      ]
     },
     "execution_count": 25,
     "metadata": {},
     "output_type": "execute_result"
    }
   ],
   "source": [
    "# Checck Write In\n",
    "er.writein.value_counts()"
   ]
  },
  {
   "cell_type": "code",
   "execution_count": 26,
   "id": "3c7ea151",
   "metadata": {},
   "outputs": [
    {
     "data": {
      "text/plain": [
       "236"
      ]
     },
     "execution_count": 26,
     "metadata": {},
     "output_type": "execute_result"
    }
   ],
   "source": [
    "#check how many unique precincts\n",
    "er['precinct'].nunique()"
   ]
  },
  {
   "cell_type": "code",
   "execution_count": 27,
   "id": "938c065a",
   "metadata": {
    "scrolled": true
   },
   "outputs": [
    {
     "data": {
      "text/plain": [
       "array(['US SENATE', 'US HOUSE', 'GOVERNOR', 'STATE SENATOR',\n",
       "       'HAWAII RESIDENT TRUSTEE VACANCY', 'AT-LARGE TRUSTEE',\n",
       "       \"1 HAWAI'I: MEMBERSHIP FOR THE BOARD OF ETHICS\",\n",
       "       \"2 HAWAI'I: EXPANDING THE DUTIES OF THE COUNTY AUDITOR\",\n",
       "       \"3 HAWAI'I: ESTABLISHING A YOUTH COMMISSION\", 'COUNCILMEMBER',\n",
       "       'STATE HOUSE', 'MAYOR', 'COUNCILMEMBER (EAST MAUI)',\n",
       "       'COUNCILMEMBER (WEST MAUI)',\n",
       "       'COUNCILMEMBER (WAILUKU-WAIHEE-WAIKAPU)',\n",
       "       'COUNCILMEMBER (KAHULUI)', 'COUNCILMEMBER (SOUTH MAUI)',\n",
       "       'COUNCILMEMBER (MAKAWAO-HAIKU-PAIA)', 'COUNCILMEMBER (UPCOUNTRY)',\n",
       "       'COUNCILMEMBER (LANAI)', 'COUNCILMEMBER (MOLOKAI)',\n",
       "       'MAUI COMMISSION PROPOSAL 1: CREATE A SEPARATE HOUSING DEPARTMENT DEDICATED TO AFFORDABLE HOUSING; INCLUDING AN ADVISORY BOARD AND HAWAIIAN HOME LANDS LIAISON',\n",
       "       \"MAUI COMMISSION PROPOSAL 2: DEPARTMENT OF 'OIWI RESOURCES\",\n",
       "       'MAUI COMMISSION PROPOSAL 3: ETHICS AND FINANCIAL DISCLOSURES',\n",
       "       'MAUI COMMISSION PROPOSAL 4: PLANNING COMMISSIONS AND COMMUNITY PLAN UPDATES',\n",
       "       'MAUI COMMISSION PROPOSAL 5: COUNCIL ORGANIZATIONAL MEETING, REMOTE ACCESS, GOVERNMENT RECORDS',\n",
       "       'MAUI COMMISSION PROPOSAL 6: FINES AND PENALTIES',\n",
       "       'MAUI COMMISSION PROPOSAL 7: ADMINISTRATIVE DEPARTMENT HEADS',\n",
       "       'MAUI COMMISSION PROPOSAL 8: COUNTY CLERK',\n",
       "       'MAUI COMMISSION PROPOSAL 9: POLICE CHIEF',\n",
       "       \"MAUI COUNCIL ALTERNATIVE PROPOSAL 9A: COUNCIL'S ALTERNATIVE TO PROPOSAL 9; POLICE CHIEF\",\n",
       "       'MAUI COMMISSION PROPOSAL 10: INDEPENDENT NOMINATION BOARD',\n",
       "       \"MAUI COUNCIL ALTERNATIVE PROPOSAL 10A: COUNCIL'S ALTERNATIVE TO PROPOSAL 10; MAKEUP OF INDEPENDENT NOMINATION BOARD\",\n",
       "       'MAUI COMMISSION PROPOSAL 11: IMPACTS OF CHARTER AMENDMENTS ON COUNTY TAXATION AND SPENDING',\n",
       "       'MAUI COUNCIL PROPOSAL 12: MAUI COUNTY COMMUNITY WATER AUTHORITIES',\n",
       "       'MAUI COUNCIL PROPOSAL 13: PROMOTING CLIMATE CHANGE ADAPTATION',\n",
       "       'RELATING TO PROSECUTOR VACANCY',\n",
       "       'RELATING TO ELECTRIC POWER AUTHORITY',\n",
       "       'RELATING TO SALARY COMMISSION', 'RELATING TO SURETY BONDS',\n",
       "       'CHARTER QUESTION #1', 'CHARTER QUESTION #2',\n",
       "       'CHARTER QUESTION #3', 'CHARTER QUESTION #4'], dtype=object)"
      ]
     },
     "execution_count": 27,
     "metadata": {},
     "output_type": "execute_result"
    }
   ],
   "source": [
    "er.office.unique()"
   ]
  },
  {
   "cell_type": "markdown",
   "id": "9cb830c5",
   "metadata": {},
   "source": [
    "Checked [Ballotpedia](https://ballotpedia.org/Hawaii_state_executive_official_elections,_2022) for statewide races, and races pertaining to a state-wide governing body. There are 7 types of offices that fit this criteria.\n",
    "\n",
    "    - US Senate\n",
    "    - US House\n",
    "    - Governor/Lt Gov\n",
    "    - State Senator\n",
    "    - State House\n",
    "    - Office of Hawaiian Affairs At Large Trustee\n",
    "    - Office of Hawaiian Affairs Resident Trustee\n",
    "\n",
    "    - charter questions are COUNTY wide\n",
    "    - councilmembers are also COUNTY wide"
   ]
  },
  {
   "cell_type": "code",
   "execution_count": 28,
   "id": "fd789775",
   "metadata": {},
   "outputs": [],
   "source": [
    "# subset df to rows pertaining to offices of interest\n",
    "office_list = ['US SENATE', 'US HOUSE', 'GOVERNOR', 'STATE SENATOR', 'STATE HOUSE', 'AT-LARGE TRUSTEE', 'HAWAII RESIDENT TRUSTEE VACANCY']\n",
    "er_sub = er[er['office'].isin(office_list)]"
   ]
  },
  {
   "cell_type": "code",
   "execution_count": 29,
   "id": "a3e3ce5a",
   "metadata": {
    "scrolled": true
   },
   "outputs": [
    {
     "data": {
      "text/plain": [
       "7"
      ]
     },
     "execution_count": 29,
     "metadata": {},
     "output_type": "execute_result"
    }
   ],
   "source": [
    "# CHECK, looking for 7 types of races\n",
    "er_sub.office.value_counts().nunique()"
   ]
  },
  {
   "cell_type": "code",
   "execution_count": 30,
   "id": "e75d8577",
   "metadata": {
    "scrolled": true
   },
   "outputs": [
    {
     "data": {
      "text/html": [
       "<div>\n",
       "<style scoped>\n",
       "    .dataframe tbody tr th:only-of-type {\n",
       "        vertical-align: middle;\n",
       "    }\n",
       "\n",
       "    .dataframe tbody tr th {\n",
       "        vertical-align: top;\n",
       "    }\n",
       "\n",
       "    .dataframe thead th {\n",
       "        text-align: right;\n",
       "    }\n",
       "</style>\n",
       "<table border=\"1\" class=\"dataframe\">\n",
       "  <thead>\n",
       "    <tr style=\"text-align: right;\">\n",
       "      <th></th>\n",
       "      <th>precinct</th>\n",
       "      <th>district</th>\n",
       "      <th>office</th>\n",
       "      <th>writein</th>\n",
       "      <th>party_detailed</th>\n",
       "      <th>party_simplified</th>\n",
       "      <th>candidate</th>\n",
       "      <th>dataverse</th>\n",
       "      <th>mode</th>\n",
       "      <th>votes</th>\n",
       "      <th>...</th>\n",
       "      <th>state_fips</th>\n",
       "      <th>state_cen</th>\n",
       "      <th>state_ic</th>\n",
       "      <th>date</th>\n",
       "      <th>jurisdiction_fips</th>\n",
       "      <th>county_name</th>\n",
       "      <th>county_fips</th>\n",
       "      <th>readme_check</th>\n",
       "      <th>magnitude</th>\n",
       "      <th>special</th>\n",
       "    </tr>\n",
       "  </thead>\n",
       "  <tbody>\n",
       "    <tr>\n",
       "      <th>0</th>\n",
       "      <td>01-01</td>\n",
       "      <td>NaN</td>\n",
       "      <td>US SENATE</td>\n",
       "      <td>False</td>\n",
       "      <td>REPUBLICAN</td>\n",
       "      <td>REPUBLICAN</td>\n",
       "      <td>BOB MCDERMOTT</td>\n",
       "      <td>SENATE</td>\n",
       "      <td>MAIL IN</td>\n",
       "      <td>609</td>\n",
       "      <td>...</td>\n",
       "      <td>15</td>\n",
       "      <td>95</td>\n",
       "      <td>82</td>\n",
       "      <td>2022-11-08</td>\n",
       "      <td>15001</td>\n",
       "      <td>HAWAII</td>\n",
       "      <td>15001</td>\n",
       "      <td>False</td>\n",
       "      <td>1</td>\n",
       "      <td>False</td>\n",
       "    </tr>\n",
       "    <tr>\n",
       "      <th>1</th>\n",
       "      <td>01-01</td>\n",
       "      <td>NaN</td>\n",
       "      <td>US SENATE</td>\n",
       "      <td>False</td>\n",
       "      <td>ALOHA AINA PARTY</td>\n",
       "      <td>OTHER</td>\n",
       "      <td>EMMA JANE A POHLMAN</td>\n",
       "      <td>SENATE</td>\n",
       "      <td>MAIL IN</td>\n",
       "      <td>29</td>\n",
       "      <td>...</td>\n",
       "      <td>15</td>\n",
       "      <td>95</td>\n",
       "      <td>82</td>\n",
       "      <td>2022-11-08</td>\n",
       "      <td>15001</td>\n",
       "      <td>HAWAII</td>\n",
       "      <td>15001</td>\n",
       "      <td>False</td>\n",
       "      <td>1</td>\n",
       "      <td>False</td>\n",
       "    </tr>\n",
       "  </tbody>\n",
       "</table>\n",
       "<p>2 rows × 25 columns</p>\n",
       "</div>"
      ],
      "text/plain": [
       "  precinct  district     office  writein    party_detailed party_simplified  \\\n",
       "0    01-01       NaN  US SENATE    False        REPUBLICAN       REPUBLICAN   \n",
       "1    01-01       NaN  US SENATE    False  ALOHA AINA PARTY            OTHER   \n",
       "\n",
       "             candidate dataverse     mode  votes  ... state_fips state_cen  \\\n",
       "0        BOB MCDERMOTT    SENATE  MAIL IN    609  ...         15        95   \n",
       "1  EMMA JANE A POHLMAN    SENATE  MAIL IN     29  ...         15        95   \n",
       "\n",
       "   state_ic        date jurisdiction_fips  county_name  county_fips  \\\n",
       "0        82  2022-11-08             15001       HAWAII        15001   \n",
       "1        82  2022-11-08             15001       HAWAII        15001   \n",
       "\n",
       "   readme_check magnitude  special  \n",
       "0         False         1    False  \n",
       "1         False         1    False  \n",
       "\n",
       "[2 rows x 25 columns]"
      ]
     },
     "execution_count": 30,
     "metadata": {},
     "output_type": "execute_result"
    }
   ],
   "source": [
    "er_sub.head(2)"
   ]
  },
  {
   "cell_type": "code",
   "execution_count": 31,
   "id": "e89c4ce5",
   "metadata": {},
   "outputs": [],
   "source": [
    "#subset columns\n",
    "er_sub = er_sub[['precinct', 'office', 'party_detailed', 'candidate', 'mode', 'votes']]"
   ]
  },
  {
   "cell_type": "code",
   "execution_count": 32,
   "id": "8e510a30",
   "metadata": {
    "scrolled": true
   },
   "outputs": [
    {
     "data": {
      "text/html": [
       "<div>\n",
       "<style scoped>\n",
       "    .dataframe tbody tr th:only-of-type {\n",
       "        vertical-align: middle;\n",
       "    }\n",
       "\n",
       "    .dataframe tbody tr th {\n",
       "        vertical-align: top;\n",
       "    }\n",
       "\n",
       "    .dataframe thead th {\n",
       "        text-align: right;\n",
       "    }\n",
       "</style>\n",
       "<table border=\"1\" class=\"dataframe\">\n",
       "  <thead>\n",
       "    <tr style=\"text-align: right;\">\n",
       "      <th></th>\n",
       "      <th>precinct</th>\n",
       "      <th>office</th>\n",
       "      <th>party_detailed</th>\n",
       "      <th>candidate</th>\n",
       "      <th>mode</th>\n",
       "      <th>votes</th>\n",
       "    </tr>\n",
       "  </thead>\n",
       "  <tbody>\n",
       "    <tr>\n",
       "      <th>0</th>\n",
       "      <td>01-01</td>\n",
       "      <td>US SENATE</td>\n",
       "      <td>REPUBLICAN</td>\n",
       "      <td>BOB MCDERMOTT</td>\n",
       "      <td>MAIL IN</td>\n",
       "      <td>609</td>\n",
       "    </tr>\n",
       "    <tr>\n",
       "      <th>1</th>\n",
       "      <td>01-01</td>\n",
       "      <td>US SENATE</td>\n",
       "      <td>ALOHA AINA PARTY</td>\n",
       "      <td>EMMA JANE A POHLMAN</td>\n",
       "      <td>MAIL IN</td>\n",
       "      <td>29</td>\n",
       "    </tr>\n",
       "    <tr>\n",
       "      <th>2</th>\n",
       "      <td>01-01</td>\n",
       "      <td>US SENATE</td>\n",
       "      <td>ALOHA AINA PARTY</td>\n",
       "      <td>BRIAN SCHATZ</td>\n",
       "      <td>MAIL IN</td>\n",
       "      <td>2521</td>\n",
       "    </tr>\n",
       "    <tr>\n",
       "      <th>3</th>\n",
       "      <td>01-01</td>\n",
       "      <td>US HOUSE</td>\n",
       "      <td>ALOHA AINA PARTY</td>\n",
       "      <td>JOE AKANA</td>\n",
       "      <td>MAIL IN</td>\n",
       "      <td>864</td>\n",
       "    </tr>\n",
       "    <tr>\n",
       "      <th>4</th>\n",
       "      <td>01-01</td>\n",
       "      <td>US HOUSE</td>\n",
       "      <td>LIBERTARIAN</td>\n",
       "      <td>MICHELLE ROSE TIPPENS</td>\n",
       "      <td>MAIL IN</td>\n",
       "      <td>84</td>\n",
       "    </tr>\n",
       "  </tbody>\n",
       "</table>\n",
       "</div>"
      ],
      "text/plain": [
       "  precinct     office    party_detailed              candidate     mode  votes\n",
       "0    01-01  US SENATE        REPUBLICAN          BOB MCDERMOTT  MAIL IN    609\n",
       "1    01-01  US SENATE  ALOHA AINA PARTY    EMMA JANE A POHLMAN  MAIL IN     29\n",
       "2    01-01  US SENATE  ALOHA AINA PARTY           BRIAN SCHATZ  MAIL IN   2521\n",
       "3    01-01   US HOUSE  ALOHA AINA PARTY              JOE AKANA  MAIL IN    864\n",
       "4    01-01   US HOUSE       LIBERTARIAN  MICHELLE ROSE TIPPENS  MAIL IN     84"
      ]
     },
     "execution_count": 32,
     "metadata": {},
     "output_type": "execute_result"
    }
   ],
   "source": [
    "er_sub.head()"
   ]
  },
  {
   "cell_type": "markdown",
   "id": "cfb12236",
   "metadata": {},
   "source": [
    "Adapting VEST field naming convention, these are the office codes\n",
    "##### (modified for contests with districts, to fit GIS 10 character limit)\n",
    "\n",
    "- USS - U.S. Senate\n",
    "- CD# - U.S. Congress District\n",
    "- GOV - Governor/Lieutenant Governor\n",
    "- SL##  - State Legislative Lower District ##\n",
    "- SU##  - State Legislative Upper District ##\n",
    "- ALT - Office of Hawaiian Affairs, At Large Trustee\n",
    "- RTH - Office of Hawaiian Affairs, Resident Trustee for Hawaii (H - Hawaii, M - Maui, O - Oahu) **general election only occured for county of Hawaii"
   ]
  },
  {
   "cell_type": "code",
   "execution_count": 33,
   "id": "f0892c05",
   "metadata": {
    "scrolled": true
   },
   "outputs": [
    {
     "data": {
      "text/plain": [
       "['US SENATE',\n",
       " 'US HOUSE',\n",
       " 'GOVERNOR',\n",
       " 'STATE SENATOR',\n",
       " 'HAWAII RESIDENT TRUSTEE VACANCY',\n",
       " 'AT-LARGE TRUSTEE',\n",
       " 'STATE HOUSE']"
      ]
     },
     "execution_count": 33,
     "metadata": {},
     "output_type": "execute_result"
    }
   ],
   "source": [
    "office_list = list(er_sub['office'].unique())\n",
    "office_list"
   ]
  },
  {
   "cell_type": "code",
   "execution_count": 34,
   "id": "c857c4e5",
   "metadata": {},
   "outputs": [],
   "source": [
    "#rename offices\n",
    "new_office_list = ['G22USS', 'G22CD', 'G22GOV', 'GSU', 'G22RTH', 'G22ALT', 'GSL']\n",
    "er_sub['race'] = er_sub['office']\n",
    "er_sub['race'].replace(office_list, new_office_list, inplace=True)"
   ]
  },
  {
   "cell_type": "code",
   "execution_count": 35,
   "id": "2d6a7d7a",
   "metadata": {},
   "outputs": [
    {
     "data": {
      "text/html": [
       "<div>\n",
       "<style scoped>\n",
       "    .dataframe tbody tr th:only-of-type {\n",
       "        vertical-align: middle;\n",
       "    }\n",
       "\n",
       "    .dataframe tbody tr th {\n",
       "        vertical-align: top;\n",
       "    }\n",
       "\n",
       "    .dataframe thead th {\n",
       "        text-align: right;\n",
       "    }\n",
       "</style>\n",
       "<table border=\"1\" class=\"dataframe\">\n",
       "  <thead>\n",
       "    <tr style=\"text-align: right;\">\n",
       "      <th></th>\n",
       "      <th>precinct</th>\n",
       "      <th>office</th>\n",
       "      <th>party_detailed</th>\n",
       "      <th>candidate</th>\n",
       "      <th>mode</th>\n",
       "      <th>votes</th>\n",
       "      <th>race</th>\n",
       "    </tr>\n",
       "  </thead>\n",
       "  <tbody>\n",
       "    <tr>\n",
       "      <th>0</th>\n",
       "      <td>01-01</td>\n",
       "      <td>US SENATE</td>\n",
       "      <td>REPUBLICAN</td>\n",
       "      <td>BOB MCDERMOTT</td>\n",
       "      <td>MAIL IN</td>\n",
       "      <td>609</td>\n",
       "      <td>G22USS</td>\n",
       "    </tr>\n",
       "    <tr>\n",
       "      <th>1</th>\n",
       "      <td>01-01</td>\n",
       "      <td>US SENATE</td>\n",
       "      <td>ALOHA AINA PARTY</td>\n",
       "      <td>EMMA JANE A POHLMAN</td>\n",
       "      <td>MAIL IN</td>\n",
       "      <td>29</td>\n",
       "      <td>G22USS</td>\n",
       "    </tr>\n",
       "  </tbody>\n",
       "</table>\n",
       "</div>"
      ],
      "text/plain": [
       "  precinct     office    party_detailed            candidate     mode  votes  \\\n",
       "0    01-01  US SENATE        REPUBLICAN        BOB MCDERMOTT  MAIL IN    609   \n",
       "1    01-01  US SENATE  ALOHA AINA PARTY  EMMA JANE A POHLMAN  MAIL IN     29   \n",
       "\n",
       "     race  \n",
       "0  G22USS  \n",
       "1  G22USS  "
      ]
     },
     "execution_count": 35,
     "metadata": {},
     "output_type": "execute_result"
    }
   ],
   "source": [
    "er_sub.head(2)"
   ]
  },
  {
   "cell_type": "markdown",
   "id": "63acaab1",
   "metadata": {},
   "source": [
    "Will need State Senate, State House, and US congressional districts to complete naming convention. Will append from gdf."
   ]
  },
  {
   "cell_type": "code",
   "execution_count": 36,
   "id": "c7012ea4",
   "metadata": {},
   "outputs": [],
   "source": [
    "#merge subset of gdf to append columns for districts\n",
    "er_sub = pd.merge(er_sub,gdf_sub[['PRECINCT', 'USHOUSE', 'SLDL', 'SLDU']],left_on='precinct', right_on = 'PRECINCT', how= 'left', indicator = True)"
   ]
  },
  {
   "cell_type": "code",
   "execution_count": 37,
   "id": "03d1629c",
   "metadata": {},
   "outputs": [
    {
     "data": {
      "text/plain": [
       "both          9369\n",
       "left_only        0\n",
       "right_only       0\n",
       "Name: _merge, dtype: int64"
      ]
     },
     "execution_count": 37,
     "metadata": {},
     "output_type": "execute_result"
    }
   ],
   "source": [
    "#check indicator to see if merge was successful\n",
    "er_sub._merge.value_counts()"
   ]
  },
  {
   "cell_type": "code",
   "execution_count": 38,
   "id": "2939a427",
   "metadata": {},
   "outputs": [
    {
     "data": {
      "text/html": [
       "<div>\n",
       "<style scoped>\n",
       "    .dataframe tbody tr th:only-of-type {\n",
       "        vertical-align: middle;\n",
       "    }\n",
       "\n",
       "    .dataframe tbody tr th {\n",
       "        vertical-align: top;\n",
       "    }\n",
       "\n",
       "    .dataframe thead th {\n",
       "        text-align: right;\n",
       "    }\n",
       "</style>\n",
       "<table border=\"1\" class=\"dataframe\">\n",
       "  <thead>\n",
       "    <tr style=\"text-align: right;\">\n",
       "      <th></th>\n",
       "      <th>precinct</th>\n",
       "      <th>office</th>\n",
       "      <th>party_detailed</th>\n",
       "      <th>candidate</th>\n",
       "      <th>mode</th>\n",
       "      <th>votes</th>\n",
       "      <th>race</th>\n",
       "      <th>PRECINCT</th>\n",
       "      <th>USHOUSE</th>\n",
       "      <th>SLDL</th>\n",
       "      <th>SLDU</th>\n",
       "      <th>_merge</th>\n",
       "    </tr>\n",
       "  </thead>\n",
       "  <tbody>\n",
       "    <tr>\n",
       "      <th>0</th>\n",
       "      <td>01-01</td>\n",
       "      <td>US SENATE</td>\n",
       "      <td>REPUBLICAN</td>\n",
       "      <td>BOB MCDERMOTT</td>\n",
       "      <td>MAIL IN</td>\n",
       "      <td>609</td>\n",
       "      <td>G22USS</td>\n",
       "      <td>01-01</td>\n",
       "      <td>2</td>\n",
       "      <td>01</td>\n",
       "      <td>04</td>\n",
       "      <td>both</td>\n",
       "    </tr>\n",
       "    <tr>\n",
       "      <th>1</th>\n",
       "      <td>01-01</td>\n",
       "      <td>US SENATE</td>\n",
       "      <td>ALOHA AINA PARTY</td>\n",
       "      <td>EMMA JANE A POHLMAN</td>\n",
       "      <td>MAIL IN</td>\n",
       "      <td>29</td>\n",
       "      <td>G22USS</td>\n",
       "      <td>01-01</td>\n",
       "      <td>2</td>\n",
       "      <td>01</td>\n",
       "      <td>04</td>\n",
       "      <td>both</td>\n",
       "    </tr>\n",
       "  </tbody>\n",
       "</table>\n",
       "</div>"
      ],
      "text/plain": [
       "  precinct     office    party_detailed            candidate     mode  votes  \\\n",
       "0    01-01  US SENATE        REPUBLICAN        BOB MCDERMOTT  MAIL IN    609   \n",
       "1    01-01  US SENATE  ALOHA AINA PARTY  EMMA JANE A POHLMAN  MAIL IN     29   \n",
       "\n",
       "     race PRECINCT USHOUSE SLDL SLDU _merge  \n",
       "0  G22USS    01-01       2   01   04   both  \n",
       "1  G22USS    01-01       2   01   04   both  "
      ]
     },
     "execution_count": 38,
     "metadata": {},
     "output_type": "execute_result"
    }
   ],
   "source": [
    "er_sub.head(2)"
   ]
  },
  {
   "cell_type": "code",
   "execution_count": 39,
   "id": "2af07058",
   "metadata": {},
   "outputs": [],
   "source": [
    "#replace 'CD#' with Congressional District\n",
    "er_sub.loc[er_sub.race=='G22CD', 'race'] =  er_sub['race'] + er_sub['USHOUSE']\n",
    "#replace 'SU#' with SLDU\n",
    "er_sub.loc[er_sub.race=='GSU', 'race'] = er_sub['race'] + er_sub['SLDU']\n",
    "#replace 'SL#' with SLDL\n",
    "er_sub.loc[er_sub.race=='GSL', 'race'] = er_sub.race + er_sub['SLDL']"
   ]
  },
  {
   "cell_type": "code",
   "execution_count": 40,
   "id": "f52b09b7",
   "metadata": {},
   "outputs": [
    {
     "data": {
      "text/plain": [
       "32"
      ]
     },
     "execution_count": 40,
     "metadata": {},
     "output_type": "execute_result"
    }
   ],
   "source": [
    "#check\n",
    "er_sub.race.value_counts().nunique()"
   ]
  },
  {
   "cell_type": "markdown",
   "id": "32cc08ba",
   "metadata": {},
   "source": [
    "Before modifying party column, checking for how non-partisan or unregistered is noted"
   ]
  },
  {
   "cell_type": "code",
   "execution_count": 41,
   "id": "f800ff56",
   "metadata": {
    "scrolled": true
   },
   "outputs": [
    {
     "data": {
      "text/plain": [
       "ALOHA AINA PARTY    7073\n",
       "REPUBLICAN           797\n",
       "GREEN                562\n",
       "LIBERTARIAN          411\n",
       "DEMOCRAT              55\n",
       "Name: party_detailed, dtype: int64"
      ]
     },
     "execution_count": 41,
     "metadata": {},
     "output_type": "execute_result"
    }
   ],
   "source": [
    "er_sub['party_detailed'].value_counts()"
   ]
  },
  {
   "cell_type": "code",
   "execution_count": 42,
   "id": "31a62bdd",
   "metadata": {},
   "outputs": [
    {
     "data": {
      "text/plain": [
       "471"
      ]
     },
     "execution_count": 42,
     "metadata": {},
     "output_type": "execute_result"
    }
   ],
   "source": [
    "er_sub['party_detailed'].isnull().sum()"
   ]
  },
  {
   "cell_type": "markdown",
   "id": "15765c2a",
   "metadata": {},
   "source": [
    "#TODO: Double check HI state metadata for what null party column means"
   ]
  },
  {
   "cell_type": "code",
   "execution_count": 43,
   "id": "1b84a272",
   "metadata": {},
   "outputs": [],
   "source": [
    "#change null to NONPARTISAN/UNREGISTERED\n",
    "er_sub['party_detailed'].fillna('NONPARTISAN/UNREGISTERED', inplace = True)"
   ]
  },
  {
   "cell_type": "code",
   "execution_count": 44,
   "id": "6b5f458b",
   "metadata": {},
   "outputs": [],
   "source": [
    "#append 1 letter party to make VEST column\n",
    "er_sub['VEST'] = er_sub['race'] + er_sub['party_detailed'].apply(lambda x : str(x)[0])\n",
    "#create 3 letter party for readme\n",
    "er_sub['party_detailed'] = er_sub['party_detailed'].apply(lambda x: str(x)[:3].upper())"
   ]
  },
  {
   "cell_type": "markdown",
   "id": "b5abac68",
   "metadata": {},
   "source": [
    "Before modifying candidate names for README, double check for write-in candidates"
   ]
  },
  {
   "cell_type": "code",
   "execution_count": 45,
   "id": "22de3b9f",
   "metadata": {},
   "outputs": [
    {
     "data": {
      "text/plain": [
       "False"
      ]
     },
     "execution_count": 45,
     "metadata": {},
     "output_type": "execute_result"
    }
   ],
   "source": [
    "('WRITE IN' in er_sub['candidate'].unique())"
   ]
  },
  {
   "cell_type": "code",
   "execution_count": 46,
   "id": "7a84ebb4",
   "metadata": {},
   "outputs": [],
   "source": [
    "#double check visually\n",
    "\n",
    "#er_sub['candidate'].value_counts()"
   ]
  },
  {
   "cell_type": "code",
   "execution_count": 47,
   "id": "cf918f25",
   "metadata": {},
   "outputs": [],
   "source": [
    "#append 3 letter last name to 'VEST' column\n",
    "er_sub['VEST'] = er_sub['VEST'] + er_sub['candidate'].apply(lambda x: str(x).split()[-1][:3])"
   ]
  },
  {
   "cell_type": "code",
   "execution_count": 48,
   "id": "ae1772a1",
   "metadata": {},
   "outputs": [],
   "source": [
    "#create candidate column for readme\n",
    "er_sub['candidate'] = er_sub['candidate'].apply(lambda x: str(x).split()[-1] + ', ' + ' '.join(str(x).split()[:-1]))"
   ]
  },
  {
   "cell_type": "code",
   "execution_count": 49,
   "id": "0bdd7617",
   "metadata": {},
   "outputs": [],
   "source": [
    "#add 3 letter party\n",
    "er_sub['candidate'] += ' - ' + er_sub['party_detailed']"
   ]
  },
  {
   "cell_type": "code",
   "execution_count": 50,
   "id": "30de575d",
   "metadata": {
    "scrolled": true
   },
   "outputs": [
    {
     "data": {
      "text/html": [
       "<div>\n",
       "<style scoped>\n",
       "    .dataframe tbody tr th:only-of-type {\n",
       "        vertical-align: middle;\n",
       "    }\n",
       "\n",
       "    .dataframe tbody tr th {\n",
       "        vertical-align: top;\n",
       "    }\n",
       "\n",
       "    .dataframe thead th {\n",
       "        text-align: right;\n",
       "    }\n",
       "</style>\n",
       "<table border=\"1\" class=\"dataframe\">\n",
       "  <thead>\n",
       "    <tr style=\"text-align: right;\">\n",
       "      <th></th>\n",
       "      <th>precinct</th>\n",
       "      <th>office</th>\n",
       "      <th>party_detailed</th>\n",
       "      <th>candidate</th>\n",
       "      <th>mode</th>\n",
       "      <th>votes</th>\n",
       "      <th>race</th>\n",
       "      <th>PRECINCT</th>\n",
       "      <th>USHOUSE</th>\n",
       "      <th>SLDL</th>\n",
       "      <th>SLDU</th>\n",
       "      <th>_merge</th>\n",
       "      <th>VEST</th>\n",
       "    </tr>\n",
       "  </thead>\n",
       "  <tbody>\n",
       "    <tr>\n",
       "      <th>0</th>\n",
       "      <td>01-01</td>\n",
       "      <td>US SENATE</td>\n",
       "      <td>REP</td>\n",
       "      <td>MCDERMOTT, BOB - REP</td>\n",
       "      <td>MAIL IN</td>\n",
       "      <td>609</td>\n",
       "      <td>G22USS</td>\n",
       "      <td>01-01</td>\n",
       "      <td>2</td>\n",
       "      <td>01</td>\n",
       "      <td>04</td>\n",
       "      <td>both</td>\n",
       "      <td>G22USSRMCD</td>\n",
       "    </tr>\n",
       "    <tr>\n",
       "      <th>1</th>\n",
       "      <td>01-01</td>\n",
       "      <td>US SENATE</td>\n",
       "      <td>ALO</td>\n",
       "      <td>POHLMAN, EMMA JANE A - ALO</td>\n",
       "      <td>MAIL IN</td>\n",
       "      <td>29</td>\n",
       "      <td>G22USS</td>\n",
       "      <td>01-01</td>\n",
       "      <td>2</td>\n",
       "      <td>01</td>\n",
       "      <td>04</td>\n",
       "      <td>both</td>\n",
       "      <td>G22USSAPOH</td>\n",
       "    </tr>\n",
       "    <tr>\n",
       "      <th>2</th>\n",
       "      <td>01-01</td>\n",
       "      <td>US SENATE</td>\n",
       "      <td>ALO</td>\n",
       "      <td>SCHATZ, BRIAN - ALO</td>\n",
       "      <td>MAIL IN</td>\n",
       "      <td>2521</td>\n",
       "      <td>G22USS</td>\n",
       "      <td>01-01</td>\n",
       "      <td>2</td>\n",
       "      <td>01</td>\n",
       "      <td>04</td>\n",
       "      <td>both</td>\n",
       "      <td>G22USSASCH</td>\n",
       "    </tr>\n",
       "    <tr>\n",
       "      <th>3</th>\n",
       "      <td>01-01</td>\n",
       "      <td>US HOUSE</td>\n",
       "      <td>ALO</td>\n",
       "      <td>AKANA, JOE - ALO</td>\n",
       "      <td>MAIL IN</td>\n",
       "      <td>864</td>\n",
       "      <td>G22CD2</td>\n",
       "      <td>01-01</td>\n",
       "      <td>2</td>\n",
       "      <td>01</td>\n",
       "      <td>04</td>\n",
       "      <td>both</td>\n",
       "      <td>G22CD2AAKA</td>\n",
       "    </tr>\n",
       "    <tr>\n",
       "      <th>4</th>\n",
       "      <td>01-01</td>\n",
       "      <td>US HOUSE</td>\n",
       "      <td>LIB</td>\n",
       "      <td>TIPPENS, MICHELLE ROSE - LIB</td>\n",
       "      <td>MAIL IN</td>\n",
       "      <td>84</td>\n",
       "      <td>G22CD2</td>\n",
       "      <td>01-01</td>\n",
       "      <td>2</td>\n",
       "      <td>01</td>\n",
       "      <td>04</td>\n",
       "      <td>both</td>\n",
       "      <td>G22CD2LTIP</td>\n",
       "    </tr>\n",
       "  </tbody>\n",
       "</table>\n",
       "</div>"
      ],
      "text/plain": [
       "  precinct     office party_detailed                     candidate     mode  \\\n",
       "0    01-01  US SENATE            REP          MCDERMOTT, BOB - REP  MAIL IN   \n",
       "1    01-01  US SENATE            ALO    POHLMAN, EMMA JANE A - ALO  MAIL IN   \n",
       "2    01-01  US SENATE            ALO           SCHATZ, BRIAN - ALO  MAIL IN   \n",
       "3    01-01   US HOUSE            ALO              AKANA, JOE - ALO  MAIL IN   \n",
       "4    01-01   US HOUSE            LIB  TIPPENS, MICHELLE ROSE - LIB  MAIL IN   \n",
       "\n",
       "   votes    race PRECINCT USHOUSE SLDL SLDU _merge        VEST  \n",
       "0    609  G22USS    01-01       2   01   04   both  G22USSRMCD  \n",
       "1     29  G22USS    01-01       2   01   04   both  G22USSAPOH  \n",
       "2   2521  G22USS    01-01       2   01   04   both  G22USSASCH  \n",
       "3    864  G22CD2    01-01       2   01   04   both  G22CD2AAKA  \n",
       "4     84  G22CD2    01-01       2   01   04   both  G22CD2LTIP  "
      ]
     },
     "execution_count": 50,
     "metadata": {},
     "output_type": "execute_result"
    }
   ],
   "source": [
    "er_sub.head()"
   ]
  },
  {
   "cell_type": "code",
   "execution_count": 51,
   "id": "ed59df71",
   "metadata": {
    "scrolled": true
   },
   "outputs": [
    {
     "data": {
      "text/plain": [
       "ALO    7073\n",
       "REP     797\n",
       "GRE     562\n",
       "NON     471\n",
       "LIB     411\n",
       "DEM      55\n",
       "Name: party_detailed, dtype: int64"
      ]
     },
     "execution_count": 51,
     "metadata": {},
     "output_type": "execute_result"
    }
   ],
   "source": [
    "#check party value_counts\n",
    "er_sub['party_detailed'].value_counts()"
   ]
  },
  {
   "cell_type": "code",
   "execution_count": 52,
   "id": "99546fe1",
   "metadata": {},
   "outputs": [],
   "source": [
    "#drop extra columns\n",
    "er_sub.drop(labels = ['PRECINCT', 'party_detailed','USHOUSE', 'SLDL', 'SLDU', '_merge'], axis = 1, inplace = True)"
   ]
  },
  {
   "cell_type": "code",
   "execution_count": 53,
   "id": "502ee79e",
   "metadata": {},
   "outputs": [
    {
     "data": {
      "text/html": [
       "<div>\n",
       "<style scoped>\n",
       "    .dataframe tbody tr th:only-of-type {\n",
       "        vertical-align: middle;\n",
       "    }\n",
       "\n",
       "    .dataframe tbody tr th {\n",
       "        vertical-align: top;\n",
       "    }\n",
       "\n",
       "    .dataframe thead th {\n",
       "        text-align: right;\n",
       "    }\n",
       "</style>\n",
       "<table border=\"1\" class=\"dataframe\">\n",
       "  <thead>\n",
       "    <tr style=\"text-align: right;\">\n",
       "      <th></th>\n",
       "      <th>precinct</th>\n",
       "      <th>office</th>\n",
       "      <th>candidate</th>\n",
       "      <th>mode</th>\n",
       "      <th>votes</th>\n",
       "      <th>race</th>\n",
       "      <th>VEST</th>\n",
       "    </tr>\n",
       "  </thead>\n",
       "  <tbody>\n",
       "    <tr>\n",
       "      <th>0</th>\n",
       "      <td>01-01</td>\n",
       "      <td>US SENATE</td>\n",
       "      <td>MCDERMOTT, BOB - REP</td>\n",
       "      <td>MAIL IN</td>\n",
       "      <td>609</td>\n",
       "      <td>G22USS</td>\n",
       "      <td>G22USSRMCD</td>\n",
       "    </tr>\n",
       "    <tr>\n",
       "      <th>1</th>\n",
       "      <td>01-01</td>\n",
       "      <td>US SENATE</td>\n",
       "      <td>POHLMAN, EMMA JANE A - ALO</td>\n",
       "      <td>MAIL IN</td>\n",
       "      <td>29</td>\n",
       "      <td>G22USS</td>\n",
       "      <td>G22USSAPOH</td>\n",
       "    </tr>\n",
       "  </tbody>\n",
       "</table>\n",
       "</div>"
      ],
      "text/plain": [
       "  precinct     office                   candidate     mode  votes    race  \\\n",
       "0    01-01  US SENATE        MCDERMOTT, BOB - REP  MAIL IN    609  G22USS   \n",
       "1    01-01  US SENATE  POHLMAN, EMMA JANE A - ALO  MAIL IN     29  G22USS   \n",
       "\n",
       "         VEST  \n",
       "0  G22USSRMCD  \n",
       "1  G22USSAPOH  "
      ]
     },
     "execution_count": 53,
     "metadata": {},
     "output_type": "execute_result"
    }
   ],
   "source": [
    "er_sub.head(2)"
   ]
  },
  {
   "cell_type": "code",
   "execution_count": 54,
   "id": "ec977831",
   "metadata": {},
   "outputs": [],
   "source": [
    "#subset df for readme creation\n",
    "rm = er_sub[['office', 'race', 'VEST', 'candidate']].copy().drop_duplicates(keep = 'first')"
   ]
  },
  {
   "cell_type": "code",
   "execution_count": 55,
   "id": "8aa39201",
   "metadata": {
    "scrolled": true
   },
   "outputs": [
    {
     "data": {
      "text/plain": [
       "(157, 4)"
      ]
     },
     "execution_count": 55,
     "metadata": {},
     "output_type": "execute_result"
    }
   ],
   "source": [
    "rm.shape #157 candidates"
   ]
  },
  {
   "cell_type": "markdown",
   "id": "42307c71",
   "metadata": {},
   "source": [
    "### Pivoting Elections Return Data + Checking Vote Totals\n",
    "\n",
    "#### summary\n",
    "\n",
    "- 2 vote total summaries for 2 candidates for US Senate, Bonoan and Decker\n"
   ]
  },
  {
   "cell_type": "code",
   "execution_count": 56,
   "id": "8fc18de5",
   "metadata": {},
   "outputs": [],
   "source": [
    "er_pivot = er_sub.pivot_table(index = ['precinct'],\n",
    "                         columns = ['office', 'race', 'candidate'],\n",
    "                        values = ['votes'],\n",
    "                         aggfunc = 'sum',\n",
    "                              fill_value=0,\n",
    "                             margins = True)#.reset_index()"
   ]
  },
  {
   "cell_type": "code",
   "execution_count": 57,
   "id": "19fef973",
   "metadata": {
    "scrolled": true
   },
   "outputs": [
    {
     "data": {
      "text/plain": [
       "(237, 158)"
      ]
     },
     "execution_count": 57,
     "metadata": {},
     "output_type": "execute_result"
    }
   ],
   "source": [
    "er_pivot.shape #looking for 236"
   ]
  },
  {
   "cell_type": "code",
   "execution_count": 58,
   "id": "9221046c",
   "metadata": {},
   "outputs": [
    {
     "data": {
      "text/html": [
       "<div>\n",
       "<style scoped>\n",
       "    .dataframe tbody tr th:only-of-type {\n",
       "        vertical-align: middle;\n",
       "    }\n",
       "\n",
       "    .dataframe tbody tr th {\n",
       "        vertical-align: top;\n",
       "    }\n",
       "\n",
       "    .dataframe thead tr th {\n",
       "        text-align: left;\n",
       "    }\n",
       "\n",
       "    .dataframe thead tr:last-of-type th {\n",
       "        text-align: right;\n",
       "    }\n",
       "</style>\n",
       "<table border=\"1\" class=\"dataframe\">\n",
       "  <thead>\n",
       "    <tr>\n",
       "      <th></th>\n",
       "      <th colspan=\"21\" halign=\"left\">votes</th>\n",
       "    </tr>\n",
       "    <tr>\n",
       "      <th>office</th>\n",
       "      <th colspan=\"6\" halign=\"left\">AT-LARGE TRUSTEE</th>\n",
       "      <th colspan=\"2\" halign=\"left\">GOVERNOR</th>\n",
       "      <th colspan=\"2\" halign=\"left\">HAWAII RESIDENT TRUSTEE VACANCY</th>\n",
       "      <th>...</th>\n",
       "      <th colspan=\"4\" halign=\"left\">US HOUSE</th>\n",
       "      <th colspan=\"5\" halign=\"left\">US SENATE</th>\n",
       "      <th>All</th>\n",
       "    </tr>\n",
       "    <tr>\n",
       "      <th>race</th>\n",
       "      <th colspan=\"6\" halign=\"left\">G22ALT</th>\n",
       "      <th colspan=\"2\" halign=\"left\">G22GOV</th>\n",
       "      <th colspan=\"2\" halign=\"left\">G22RTH</th>\n",
       "      <th>...</th>\n",
       "      <th>G22CD1</th>\n",
       "      <th colspan=\"3\" halign=\"left\">G22CD2</th>\n",
       "      <th colspan=\"5\" halign=\"left\">G22USS</th>\n",
       "      <th></th>\n",
       "    </tr>\n",
       "    <tr>\n",
       "      <th>candidate</th>\n",
       "      <th>GALUTERIA, BRICKWOOD - ALO</th>\n",
       "      <th>ISA, LEI 'LEINA'ALA' AHU - ALO</th>\n",
       "      <th>KING, SAM 'KALANIKUPUA' - GRE</th>\n",
       "      <th>OWENS, CHAD - NON</th>\n",
       "      <th>SOUZA, KEONI - ALO</th>\n",
       "      <th>WAIHEE, JOHN D - ALO</th>\n",
       "      <th>AIONA, DUKE TUPAI - ALO</th>\n",
       "      <th>GREEN, JOSH LUKE - ALO</th>\n",
       "      <th>CERMELJ, HOPE ALOHALANI - ALO</th>\n",
       "      <th>TRASK, MILILANI B - ALO</th>\n",
       "      <th>...</th>\n",
       "      <th>KRESS, CONRAD - REP</th>\n",
       "      <th>AKANA, JOE - ALO</th>\n",
       "      <th>TIPPENS, MICHELLE ROSE - LIB</th>\n",
       "      <th>TOKUDA, JILL N - ALO</th>\n",
       "      <th>BONOAN, FEENA M - ALO</th>\n",
       "      <th>DECKER, DAN - ALO</th>\n",
       "      <th>MCDERMOTT, BOB - REP</th>\n",
       "      <th>POHLMAN, EMMA JANE A - ALO</th>\n",
       "      <th>SCHATZ, BRIAN - ALO</th>\n",
       "      <th></th>\n",
       "    </tr>\n",
       "    <tr>\n",
       "      <th>precinct</th>\n",
       "      <th></th>\n",
       "      <th></th>\n",
       "      <th></th>\n",
       "      <th></th>\n",
       "      <th></th>\n",
       "      <th></th>\n",
       "      <th></th>\n",
       "      <th></th>\n",
       "      <th></th>\n",
       "      <th></th>\n",
       "      <th></th>\n",
       "      <th></th>\n",
       "      <th></th>\n",
       "      <th></th>\n",
       "      <th></th>\n",
       "      <th></th>\n",
       "      <th></th>\n",
       "      <th></th>\n",
       "      <th></th>\n",
       "      <th></th>\n",
       "      <th></th>\n",
       "    </tr>\n",
       "  </thead>\n",
       "  <tbody>\n",
       "    <tr>\n",
       "      <th>51-02</th>\n",
       "      <td>950</td>\n",
       "      <td>696</td>\n",
       "      <td>826</td>\n",
       "      <td>796</td>\n",
       "      <td>972</td>\n",
       "      <td>702</td>\n",
       "      <td>953</td>\n",
       "      <td>1773</td>\n",
       "      <td>727</td>\n",
       "      <td>1103</td>\n",
       "      <td>...</td>\n",
       "      <td>0</td>\n",
       "      <td>847</td>\n",
       "      <td>41</td>\n",
       "      <td>1787</td>\n",
       "      <td>19</td>\n",
       "      <td>6</td>\n",
       "      <td>753</td>\n",
       "      <td>19</td>\n",
       "      <td>1916</td>\n",
       "      <td>20166</td>\n",
       "    </tr>\n",
       "    <tr>\n",
       "      <th>51-03</th>\n",
       "      <td>779</td>\n",
       "      <td>619</td>\n",
       "      <td>598</td>\n",
       "      <td>607</td>\n",
       "      <td>765</td>\n",
       "      <td>654</td>\n",
       "      <td>786</td>\n",
       "      <td>1431</td>\n",
       "      <td>584</td>\n",
       "      <td>880</td>\n",
       "      <td>...</td>\n",
       "      <td>0</td>\n",
       "      <td>681</td>\n",
       "      <td>42</td>\n",
       "      <td>1428</td>\n",
       "      <td>18</td>\n",
       "      <td>5</td>\n",
       "      <td>574</td>\n",
       "      <td>15</td>\n",
       "      <td>1568</td>\n",
       "      <td>16351</td>\n",
       "    </tr>\n",
       "    <tr>\n",
       "      <th>51-04</th>\n",
       "      <td>550</td>\n",
       "      <td>426</td>\n",
       "      <td>284</td>\n",
       "      <td>520</td>\n",
       "      <td>677</td>\n",
       "      <td>434</td>\n",
       "      <td>586</td>\n",
       "      <td>694</td>\n",
       "      <td>334</td>\n",
       "      <td>724</td>\n",
       "      <td>...</td>\n",
       "      <td>0</td>\n",
       "      <td>489</td>\n",
       "      <td>30</td>\n",
       "      <td>744</td>\n",
       "      <td>11</td>\n",
       "      <td>4</td>\n",
       "      <td>363</td>\n",
       "      <td>23</td>\n",
       "      <td>870</td>\n",
       "      <td>10274</td>\n",
       "    </tr>\n",
       "    <tr>\n",
       "      <th>51-05</th>\n",
       "      <td>796</td>\n",
       "      <td>541</td>\n",
       "      <td>403</td>\n",
       "      <td>663</td>\n",
       "      <td>968</td>\n",
       "      <td>542</td>\n",
       "      <td>752</td>\n",
       "      <td>933</td>\n",
       "      <td>374</td>\n",
       "      <td>1088</td>\n",
       "      <td>...</td>\n",
       "      <td>0</td>\n",
       "      <td>626</td>\n",
       "      <td>33</td>\n",
       "      <td>994</td>\n",
       "      <td>24</td>\n",
       "      <td>9</td>\n",
       "      <td>426</td>\n",
       "      <td>19</td>\n",
       "      <td>1195</td>\n",
       "      <td>13692</td>\n",
       "    </tr>\n",
       "    <tr>\n",
       "      <th>All</th>\n",
       "      <td>139611</td>\n",
       "      <td>120088</td>\n",
       "      <td>103299</td>\n",
       "      <td>118561</td>\n",
       "      <td>135124</td>\n",
       "      <td>131033</td>\n",
       "      <td>152237</td>\n",
       "      <td>261025</td>\n",
       "      <td>107669</td>\n",
       "      <td>176648</td>\n",
       "      <td>...</td>\n",
       "      <td>51217</td>\n",
       "      <td>72874</td>\n",
       "      <td>5130</td>\n",
       "      <td>128407</td>\n",
       "      <td>4876</td>\n",
       "      <td>2189</td>\n",
       "      <td>106358</td>\n",
       "      <td>4142</td>\n",
       "      <td>290894</td>\n",
       "      <td>2916369</td>\n",
       "    </tr>\n",
       "  </tbody>\n",
       "</table>\n",
       "<p>5 rows × 158 columns</p>\n",
       "</div>"
      ],
      "text/plain": [
       "                               votes                                 \\\n",
       "office              AT-LARGE TRUSTEE                                  \n",
       "race                          G22ALT                                  \n",
       "candidate GALUTERIA, BRICKWOOD - ALO ISA, LEI 'LEINA'ALA' AHU - ALO   \n",
       "precinct                                                              \n",
       "51-02                            950                            696   \n",
       "51-03                            779                            619   \n",
       "51-04                            550                            426   \n",
       "51-05                            796                            541   \n",
       "All                           139611                         120088   \n",
       "\n",
       "                                                                              \\\n",
       "office                                                                         \n",
       "race                                                                           \n",
       "candidate KING, SAM 'KALANIKUPUA' - GRE OWENS, CHAD - NON SOUZA, KEONI - ALO   \n",
       "precinct                                                                       \n",
       "51-02                               826               796                972   \n",
       "51-03                               598               607                765   \n",
       "51-04                               284               520                677   \n",
       "51-05                               403               663                968   \n",
       "All                              103299            118561             135124   \n",
       "\n",
       "                                                                               \\\n",
       "office                                        GOVERNOR                          \n",
       "race                                            G22GOV                          \n",
       "candidate WAIHEE, JOHN D - ALO AIONA, DUKE TUPAI - ALO GREEN, JOSH LUKE - ALO   \n",
       "precinct                                                                        \n",
       "51-02                      702                     953                   1773   \n",
       "51-03                      654                     786                   1431   \n",
       "51-04                      434                     586                    694   \n",
       "51-05                      542                     752                    933   \n",
       "All                     131033                  152237                 261025   \n",
       "\n",
       "                                                                   ...  \\\n",
       "office    HAWAII RESIDENT TRUSTEE VACANCY                          ...   \n",
       "race                               G22RTH                          ...   \n",
       "candidate   CERMELJ, HOPE ALOHALANI - ALO TRASK, MILILANI B - ALO  ...   \n",
       "precinct                                                           ...   \n",
       "51-02                                 727                    1103  ...   \n",
       "51-03                                 584                     880  ...   \n",
       "51-04                                 334                     724  ...   \n",
       "51-05                                 374                    1088  ...   \n",
       "All                                107669                  176648  ...   \n",
       "\n",
       "                                                                             \\\n",
       "office               US HOUSE                                                 \n",
       "race                   G22CD1           G22CD2                                \n",
       "candidate KRESS, CONRAD - REP AKANA, JOE - ALO TIPPENS, MICHELLE ROSE - LIB   \n",
       "precinct                                                                      \n",
       "51-02                       0              847                           41   \n",
       "51-03                       0              681                           42   \n",
       "51-04                       0              489                           30   \n",
       "51-05                       0              626                           33   \n",
       "All                     51217            72874                         5130   \n",
       "\n",
       "                                                                        \\\n",
       "office                                     US SENATE                     \n",
       "race                                          G22USS                     \n",
       "candidate TOKUDA, JILL N - ALO BONOAN, FEENA M - ALO DECKER, DAN - ALO   \n",
       "precinct                                                                 \n",
       "51-02                     1787                    19                 6   \n",
       "51-03                     1428                    18                 5   \n",
       "51-04                      744                    11                 4   \n",
       "51-05                      994                    24                 9   \n",
       "All                     128407                  4876              2189   \n",
       "\n",
       "                                                                               \\\n",
       "office                                                                          \n",
       "race                                                                            \n",
       "candidate MCDERMOTT, BOB - REP POHLMAN, EMMA JANE A - ALO SCHATZ, BRIAN - ALO   \n",
       "precinct                                                                        \n",
       "51-02                      753                         19                1916   \n",
       "51-03                      574                         15                1568   \n",
       "51-04                      363                         23                 870   \n",
       "51-05                      426                         19                1195   \n",
       "All                     106358                       4142              290894   \n",
       "\n",
       "                    \n",
       "office         All  \n",
       "race                \n",
       "candidate           \n",
       "precinct            \n",
       "51-02        20166  \n",
       "51-03        16351  \n",
       "51-04        10274  \n",
       "51-05        13692  \n",
       "All        2916369  \n",
       "\n",
       "[5 rows x 158 columns]"
      ]
     },
     "execution_count": 58,
     "metadata": {},
     "output_type": "execute_result"
    }
   ],
   "source": [
    "er_pivot.tail()"
   ]
  },
  {
   "cell_type": "code",
   "execution_count": 59,
   "id": "b5d2baa8",
   "metadata": {},
   "outputs": [],
   "source": [
    "er_pivot.columns = er_pivot.columns.droplevel(level =0)"
   ]
  },
  {
   "cell_type": "code",
   "execution_count": 60,
   "id": "706502a2",
   "metadata": {},
   "outputs": [
    {
     "data": {
      "text/plain": [
       "('AT-LARGE TRUSTEE', 'G22ALT', \"ISA, LEI 'LEINA'ALA' AHU - ALO\")"
      ]
     },
     "execution_count": 60,
     "metadata": {},
     "output_type": "execute_result"
    }
   ],
   "source": [
    "er_pivot.columns[1]"
   ]
  },
  {
   "cell_type": "markdown",
   "id": "4034be6e",
   "metadata": {},
   "source": [
    "Manually check race vote totals against [State PDF Summary](https://elections.hawaii.gov/wp-content/results/histatewide.pdf)"
   ]
  },
  {
   "cell_type": "markdown",
   "id": "7603c4bf",
   "metadata": {},
   "source": [
    "### Break up office list but sublists of races in each office\n"
   ]
  },
  {
   "cell_type": "code",
   "execution_count": 61,
   "id": "8ce9cd0c",
   "metadata": {},
   "outputs": [
    {
     "name": "stdout",
     "output_type": "stream",
     "text": [
      "****US SENATE*****\n",
      "office     race    candidate                 \n",
      "US SENATE  G22USS  BONOAN, FEENA M - ALO           9752\n",
      "                   DECKER, DAN - ALO               4378\n",
      "                   MCDERMOTT, BOB - REP          212716\n",
      "                   POHLMAN, EMMA JANE A - ALO      8284\n",
      "                   SCHATZ, BRIAN - ALO           581788\n",
      "dtype: int32\n",
      "****US HOUSE*****\n",
      "office    race    candidate                   \n",
      "US HOUSE  G22CD2  AKANA, JOE - ALO                145748\n",
      "          G22CD1  CASE, ED - ALO                  287092\n",
      "                  KRESS, CONRAD - REP             102434\n",
      "          G22CD2  TIPPENS, MICHELLE ROSE - LIB     10260\n",
      "                  TOKUDA, JILL N - ALO            256814\n",
      "dtype: int32\n",
      "****GOVERNOR*****\n",
      "office    race    candidate              \n",
      "GOVERNOR  G22GOV  AIONA, DUKE TUPAI - ALO    304474\n",
      "                  GREEN, JOSH LUKE - ALO     522050\n",
      "dtype: int32\n",
      "****STATE SENATOR*****\n",
      "office         race   candidate                      \n",
      "STATE SENATOR  GSU23  AWA, BRENTON - ALO                 16186\n",
      "               GSU16  BEEKMAN, PATRICIA YUKI - ALO       10180\n",
      "               GSU12  BOYD, BLAKE - REP                   7578\n",
      "               GSU02  BUENAVENTURA, JOY SAN - ALO        18972\n",
      "               GSU09  CHANG, STANLEY - ALO               29728\n",
      "               GSU17  CRUZ, DONOVAN DELA - ALO           23110\n",
      "               GSU07  DECOITE, LYNN PUALANI - LIB        28322\n",
      "               GSU22  DECORTE, SAMANTHA - REP             9906\n",
      "               GSU08  DES, ANA MO - ALO                  10532\n",
      "               GSU16  ELEFANTE, BRANDON JC - ALO         28956\n",
      "               GSU24  FERNANDEZ, ANTIONETTE - ALO        11554\n",
      "               GSU02  FOGEL, FREDERICK F - GRE            1188\n",
      "               GSU11  FUKUNAGA, CAROL - ALO              25662\n",
      "               GSU21  GABBARD, MIKE - ALO                16328\n",
      "               GSU15  GODFREY, LORENE A - ALO             7526\n",
      "               GSU17  HUDSON, ANNA MISAKO - ALO          12336\n",
      "               GSU10  IHARA, LES S - ALO                 20528\n",
      "               GSU01  INOUYE, LORRAINE RODERO - LIB      24864\n",
      "               GSU24  KEOHOKALOLE, JARRETT - ALO         27338\n",
      "               GSU21  KHAN, MATTHEW D - ALO              11396\n",
      "               GSU18  KIDANI, MICHELLE N - ALO           22926\n",
      "               GSU14  KIM, DONNA MERCADO - DEM           16246\n",
      "               GSU08  KOUCHI, RONALD - REP               32468\n",
      "               GSU13  KWOCK, MICHELLE - NON               1978\n",
      "               GSU25  LAURO, BRIAN S - ALO               12560\n",
      "                      LEE, CHRIS - LIB                   29730\n",
      "               GSU07  MCKAY, TAMARA - ALO                 9090\n",
      "               GSU06  MCKELVEY, ANGUS LK 'MAC' - ALO     18774\n",
      "               GSU12  MORIWAKI, SHARON Y - ALO           19488\n",
      "               GSU02  OSBORN, HOLLY L - LIB               7044\n",
      "               GSU09  PARRISH, MICHAEL L 'MIKE' - ALO    12578\n",
      "               GSU13  RHOADS, KARL - ALO                 17620\n",
      "               GSU04  RICHARDS, HERBERT 'TIM' - ALO      22036\n",
      "               GSU23  RIVIERE, GIL - GRE                 15376\n",
      "               GSU14  RZONCA, CHERYL - ALO                5836\n",
      "               GSU11  SAKAI, BENJAMIN - ALO               8414\n",
      "               GSU22  SHIMABUKURO, MAILE SL - ALO         9986\n",
      "               GSU06  SHISHIDO, MELISSAH 'MISH' - GRE     2112\n",
      "               GSU18  SMART, MARY - ALO                  11954\n",
      "               GSU10  SOON, LEILANI M - LIB              10120\n",
      "               GSU13  SOUZA, KAPONOALULI - ALO            1754\n",
      "               GSU04  TANCHEFF, NICHOLAS M - ALO          8924\n",
      "               GSU08  THRONAS-KAHO'ONEI, KAPANA - ALO     2470\n",
      "               GSU13  TINAY, MATTHEW - ALO                6026\n",
      "               GSU01  TUPAI, HELEN C - ALO               10188\n",
      "               GSU15  WAKAI, GLENN - ALO                 15766\n",
      "               GSU06  WALKER, SHEILA - ALO                9268\n",
      "dtype: int32\n",
      "****HAWAII RESIDENT TRUSTEE VACANCY*****\n",
      "office                           race    candidate                    \n",
      "HAWAII RESIDENT TRUSTEE VACANCY  G22RTH  CERMELJ, HOPE ALOHALANI - ALO    215338\n",
      "                                         TRASK, MILILANI B - ALO          353296\n",
      "dtype: int32\n",
      "****AT-LARGE TRUSTEE*****\n",
      "office            race    candidate                     \n",
      "AT-LARGE TRUSTEE  G22ALT  GALUTERIA, BRICKWOOD - ALO        279222\n",
      "                          ISA, LEI 'LEINA'ALA' AHU - ALO    240176\n",
      "                          KING, SAM 'KALANIKUPUA' - GRE     206598\n",
      "                          OWENS, CHAD - NON                 237122\n",
      "                          SOUZA, KEONI - ALO                270248\n",
      "                          WAIHEE, JOHN D - ALO              262066\n",
      "dtype: int32\n",
      "****STATE HOUSE*****\n",
      "office       race   candidate                        \n",
      "STATE HOUSE  GSL13  ADAM, SCOTT - ALO                     4168\n",
      "             GSL32  AIU, MICAH POOKELA KIM - ALO          7560\n",
      "             GSL41  ALCOS, DAVID A - ALO                  7898\n",
      "             GSL21  ALLEN, JULIA E - ALO                  4622\n",
      "             GSL34  ALLEN, THEODENE S - ALO               4696\n",
      "             GSL11  AMATO, TEREZ 'TAMATO' - ALO          10526\n",
      "             GSL24  ANDERSON, JILLIAN T - ALO             4448\n",
      "             GSL35  ARAKI, JOSIAH P - ALO                 4838\n",
      "             GSL14  ARMSTRONG, KELLY J - ALO              4140\n",
      "             GSL30  AZINGA, P M - ALO                     2014\n",
      "             GSL26  BELATTI, DELLA AU - ALO              10930\n",
      "             GSL15  BENTLEY, GREG - GRE                   3874\n",
      "             GSL20  CAIAZZO, JESSICA 'PRIYA' - ALO        4508\n",
      "             GSL11  CANTERE, SHEKINAH P - ALO             5764\n",
      "             GSL28  CARAVALHO, ERNEST - ALO               2114\n",
      "             GSL35  CHUN, CORY M - DEM                    8228\n",
      "             GSL14  COCHRAN, ELLE - ALO                   7518\n",
      "             GSL49  DANNER, KILOMANA - ALO                4800\n",
      "             GSL37  DETWILER, JAMIE A - ALO               7666\n",
      "             GSL48  ELENTO, WENDELL A - ALO               5672\n",
      "             GSL43  ELI, STACELYNN KM - LIB               6446\n",
      "             GSL30  GANADEN, ERNESTO 'SONNY' - ALO        5376\n",
      "             GSL42  GARCIA, DIAMOND - ALO                 6700\n",
      "             GSL22  GARRETT, ANDREW TAKUYA - ALO         13922\n",
      "             GSL45  GATES, CEDRIC ASUEGA - ALO            5356\n",
      "             GSL05  GOODWIN, LOHI - GRE                   3872\n",
      "             GSL40  GUESO, JANIE - GRE                    5802\n",
      "             GSL42  HAR, SHARON E - ALO                   5982\n",
      "             GSL19  HASHEM, MARK JUN - ALO               15864\n",
      "             GSL04  HO, KEIKILANI - REP                   3222\n",
      "             GSL28  HOLT, DANIEL - LIB                    6112\n",
      "             GSL50  HUSSEY-BURDICK, NATALIA - REP        14050\n",
      "             GSL04  ILAGAN, GREGGOR - ALO                 9710\n",
      "             GSL22  IMAMURA, JEFFREY H - ALO              3920\n",
      "             GSL12  JOHNSON, DAN - REP                    4236\n",
      "             GSL29  KAAPU, CAROLE KAUHIWAI - ALO          3202\n",
      "             GSL06  KAHALOA, KIRSTIN AK - ALO            10820\n",
      "             GSL51  KAMA-TOTH, KUKANA KK - ALO            7006\n",
      "             GSL05  KAPELA, JEANNE - ALO                  9924\n",
      "             GSL06  KENNEALY, JONATHAN P - ALO            5288\n",
      "             GSL44  KILA, DARIUS K - ALO                  6684\n",
      "             GSL48  KITAGAWA, LISA C - ALO               14188\n",
      "             GSL20  KOBAYASHI, BERTRAND 'BERT' - ALO     13320\n",
      "             GSL44  KOPETSEG, KIMBERLY - GRE              4014\n",
      "             GSL36  LAMOSAO, RACHELE FERNANDEZ - ALO      6142\n",
      "             GSL05  LAST, MICHAEL L - ALO                  500\n",
      "             GSL36  LAUTAHA, VEAMONITI - ALO              1954\n",
      "             GSL38  LEE, MARILYN B - LIB                  6864\n",
      "             GSL04  LEY, BRIAN C - LIB                     708\n",
      "             GSL27  LIM, MARGARET U - LIB                 5492\n",
      "             GSL04  LINTON, CANDACE T 'CANDY' - LIB        310\n",
      "             GSL41  LOPRESTI, MATTHEW S 'MATT' - LIB      5568\n",
      "             GSL51  MARTEN, LISA - ALO                   12018\n",
      "             GSL40  MARTINEZ, ROSE - ALO                  6192\n",
      "             GSL49  MATAYOSHI, SCOT - ALO                13674\n",
      "             GSL38  MATSUMOTO, LAUREN CHEAPE - ALO       13950\n",
      "             GSL03  MCMACKIN, DEVINSHAW K - ALO           2458\n",
      "             GSL46  MILLER, JOHN E - LIB                  5244\n",
      "             GSL29  MIZUNO, JOHN M - DEM                  6516\n",
      "             GSL17  MORIKAWA, DAYNETTE 'DEE' - ALO       10918\n",
      "             GSL15  NAKAMURA, NADINE K - ALO             10974\n",
      "             GSL14  NAKOA, LEONARD K - ALO                2074\n",
      "             GSL13  NIKHILANANDA, NICK - ALO              1278\n",
      "             GSL25  NOVAK, ROB - ALO                      3972\n",
      "             GSL08  PERREIRA, MONIQUE COBBADAMS - ALO     4968\n",
      "             GSL46  PERRUSO, AMY A - ALO                  8788\n",
      "             GSL39  PIERICK, ELIJAH - REP                 7586\n",
      "             GSL13  POEPOE, MAHINA M - DEM               11654\n",
      "             GSL47  QUINLAN, SEAN - ALO                   7086\n",
      "             GSL26  ROSECRANS, CHARLOTTE - ALO            4292\n",
      "             GSL39  ROSENLEE, COREY - LIB                 6178\n",
      "             GSL25  SAIKI, SCOTT K - ALO                 10946\n",
      "             GSL21  SAYAMA, JACKSON D - ALO              13142\n",
      "             GSL32  SHIMIZU, GARNER M - GRE               7068\n",
      "             GSL43  SOUZA, KANANI - ALO                   8026\n",
      "             GSL12  STARR, SUMMER - ALO                   2222\n",
      "             GSL34  TAKAYAMA, GREGG - ALO                13026\n",
      "             GSL27  TAKENOUCHI, JENNA - ALO              13850\n",
      "             GSL47  TALAEAI, MARK - ALO                   5396\n",
      "             GSL24  TAM, ADRIAN - ALO                     9362\n",
      "             GSL08  TARNAS, DAVID A - ALO                11128\n",
      "             GSL19  TEXEIRA, THERESA 'KINSEY' - ALO       6652\n",
      "             GSL50  THURSTON, KATHY - REP                 8212\n",
      "             GSL03  TODD, CHRISTOPHER LT - LIB           10382\n",
      "             GSL16  TOKIOKA, JAMES KUNANE - ALO          11058\n",
      "             GSL45  WILBUR, TIANA - LIB                   4324\n",
      "             GSL17  WILSON, MICHAEL D - LIB               3938\n",
      "             GSL37  YAMANE, RYAN I - ALO                 14680\n",
      "             GSL12  YAMASHITA, KYLE T - ALO              14170\n",
      "             GSL16  YODER, STEVE - REP                    4020\n",
      "dtype: int32\n"
     ]
    }
   ],
   "source": [
    "for item in (office_list):\n",
    "    print('****' + item + '*****')\n",
    "    print(er_pivot[[(item)]].sum().astype(int).sort_index(level = 2))"
   ]
  },
  {
   "cell_type": "markdown",
   "id": "f5def6a1",
   "metadata": {},
   "source": [
    "#TODO/Anomalies\n",
    "- US Senate\n",
    "    - Bonoan 4876 instead of 4915\n",
    "    - Bonoan needs to change to LIB\n",
    "    - Decker 2189 instead of 2208\n",
    "    - Pohlman to G\n",
    "    - Schatz to D\n",
    "- US HOUSE\n",
    "    - Case to D\n",
    "    - Tokuda to D\n",
    "    - Akana to R\n",
    "- GOV/LT GOV\n",
    "    - change naming convention to be gov/ltgov\n",
    "    - aionia to R\n",
    "    - green to D\n",
    "- STATE SENATOR\n",
    "    - INOUYE to D\n",
    "    - Tupai to R\n",
    "    - Buenaventura to D\n",
    "    - Fogel to L\n",
    "    - Osborn to R\n",
    "    - Richards to D\n",
    "    - Tancheff to R\n",
    "    - Mckelvey to D\n",
    "    - Walter to R\n",
    "    - Decoite to D\n",
    "    - Mckay to R\n",
    "    \n",
    "#### TODO : Fix Party Assignments for all candidates mislabeled AA"
   ]
  },
  {
   "cell_type": "code",
   "execution_count": 62,
   "id": "291ba652",
   "metadata": {
    "scrolled": true
   },
   "outputs": [
    {
     "name": "stdout",
     "output_type": "stream",
     "text": [
      "39\n",
      "19\n"
     ]
    }
   ],
   "source": [
    "#Investigate anomalies in Senate undercounts for Bonoan and Decker\n",
    "bonoan = 4915-4876\n",
    "print(bonoan)\n",
    "decker = 2208-2189\n",
    "print(decker)"
   ]
  },
  {
   "cell_type": "markdown",
   "id": "4f71c808",
   "metadata": {},
   "source": [
    "Since these are small numbers, I will first check in the Mail-In votes"
   ]
  },
  {
   "cell_type": "markdown",
   "id": "25c83ae8",
   "metadata": {},
   "source": [
    "### Merge Precincts Shapefile"
   ]
  },
  {
   "cell_type": "code",
   "execution_count": 63,
   "id": "c2aaa385",
   "metadata": {},
   "outputs": [],
   "source": [
    "er_pivot.columns = er_pivot.columns.map('_'.join)"
   ]
  },
  {
   "cell_type": "code",
   "execution_count": 64,
   "id": "82a8b5ca",
   "metadata": {},
   "outputs": [
    {
     "data": {
      "text/html": [
       "<div>\n",
       "<style scoped>\n",
       "    .dataframe tbody tr th:only-of-type {\n",
       "        vertical-align: middle;\n",
       "    }\n",
       "\n",
       "    .dataframe tbody tr th {\n",
       "        vertical-align: top;\n",
       "    }\n",
       "\n",
       "    .dataframe thead th {\n",
       "        text-align: right;\n",
       "    }\n",
       "</style>\n",
       "<table border=\"1\" class=\"dataframe\">\n",
       "  <thead>\n",
       "    <tr style=\"text-align: right;\">\n",
       "      <th></th>\n",
       "      <th>AT-LARGE TRUSTEE_G22ALT_GALUTERIA, BRICKWOOD - ALO</th>\n",
       "      <th>AT-LARGE TRUSTEE_G22ALT_ISA, LEI 'LEINA'ALA' AHU - ALO</th>\n",
       "      <th>AT-LARGE TRUSTEE_G22ALT_KING, SAM 'KALANIKUPUA' - GRE</th>\n",
       "      <th>AT-LARGE TRUSTEE_G22ALT_OWENS, CHAD - NON</th>\n",
       "      <th>AT-LARGE TRUSTEE_G22ALT_SOUZA, KEONI - ALO</th>\n",
       "      <th>AT-LARGE TRUSTEE_G22ALT_WAIHEE, JOHN D - ALO</th>\n",
       "      <th>GOVERNOR_G22GOV_AIONA, DUKE TUPAI - ALO</th>\n",
       "      <th>GOVERNOR_G22GOV_GREEN, JOSH LUKE - ALO</th>\n",
       "      <th>HAWAII RESIDENT TRUSTEE VACANCY_G22RTH_CERMELJ, HOPE ALOHALANI - ALO</th>\n",
       "      <th>HAWAII RESIDENT TRUSTEE VACANCY_G22RTH_TRASK, MILILANI B - ALO</th>\n",
       "      <th>...</th>\n",
       "      <th>US HOUSE_G22CD1_KRESS, CONRAD - REP</th>\n",
       "      <th>US HOUSE_G22CD2_AKANA, JOE - ALO</th>\n",
       "      <th>US HOUSE_G22CD2_TIPPENS, MICHELLE ROSE - LIB</th>\n",
       "      <th>US HOUSE_G22CD2_TOKUDA, JILL N - ALO</th>\n",
       "      <th>US SENATE_G22USS_BONOAN, FEENA M - ALO</th>\n",
       "      <th>US SENATE_G22USS_DECKER, DAN - ALO</th>\n",
       "      <th>US SENATE_G22USS_MCDERMOTT, BOB - REP</th>\n",
       "      <th>US SENATE_G22USS_POHLMAN, EMMA JANE A - ALO</th>\n",
       "      <th>US SENATE_G22USS_SCHATZ, BRIAN - ALO</th>\n",
       "      <th>All__</th>\n",
       "    </tr>\n",
       "    <tr>\n",
       "      <th>precinct</th>\n",
       "      <th></th>\n",
       "      <th></th>\n",
       "      <th></th>\n",
       "      <th></th>\n",
       "      <th></th>\n",
       "      <th></th>\n",
       "      <th></th>\n",
       "      <th></th>\n",
       "      <th></th>\n",
       "      <th></th>\n",
       "      <th></th>\n",
       "      <th></th>\n",
       "      <th></th>\n",
       "      <th></th>\n",
       "      <th></th>\n",
       "      <th></th>\n",
       "      <th></th>\n",
       "      <th></th>\n",
       "      <th></th>\n",
       "      <th></th>\n",
       "      <th></th>\n",
       "    </tr>\n",
       "  </thead>\n",
       "  <tbody>\n",
       "    <tr>\n",
       "      <th>01-01</th>\n",
       "      <td>1098</td>\n",
       "      <td>746</td>\n",
       "      <td>764</td>\n",
       "      <td>765</td>\n",
       "      <td>1309</td>\n",
       "      <td>1164</td>\n",
       "      <td>985</td>\n",
       "      <td>2343</td>\n",
       "      <td>816</td>\n",
       "      <td>1495</td>\n",
       "      <td>...</td>\n",
       "      <td>0</td>\n",
       "      <td>926</td>\n",
       "      <td>89</td>\n",
       "      <td>2225</td>\n",
       "      <td>0</td>\n",
       "      <td>0</td>\n",
       "      <td>665</td>\n",
       "      <td>31</td>\n",
       "      <td>2552</td>\n",
       "      <td>21054</td>\n",
       "    </tr>\n",
       "    <tr>\n",
       "      <th>01-02</th>\n",
       "      <td>689</td>\n",
       "      <td>559</td>\n",
       "      <td>502</td>\n",
       "      <td>544</td>\n",
       "      <td>772</td>\n",
       "      <td>810</td>\n",
       "      <td>675</td>\n",
       "      <td>1544</td>\n",
       "      <td>532</td>\n",
       "      <td>1044</td>\n",
       "      <td>...</td>\n",
       "      <td>0</td>\n",
       "      <td>597</td>\n",
       "      <td>70</td>\n",
       "      <td>1479</td>\n",
       "      <td>43</td>\n",
       "      <td>11</td>\n",
       "      <td>408</td>\n",
       "      <td>30</td>\n",
       "      <td>1699</td>\n",
       "      <td>14156</td>\n",
       "    </tr>\n",
       "    <tr>\n",
       "      <th>01-03</th>\n",
       "      <td>1149</td>\n",
       "      <td>813</td>\n",
       "      <td>662</td>\n",
       "      <td>805</td>\n",
       "      <td>1189</td>\n",
       "      <td>1086</td>\n",
       "      <td>1098</td>\n",
       "      <td>2243</td>\n",
       "      <td>739</td>\n",
       "      <td>1571</td>\n",
       "      <td>...</td>\n",
       "      <td>0</td>\n",
       "      <td>900</td>\n",
       "      <td>62</td>\n",
       "      <td>2265</td>\n",
       "      <td>31</td>\n",
       "      <td>19</td>\n",
       "      <td>616</td>\n",
       "      <td>32</td>\n",
       "      <td>2587</td>\n",
       "      <td>21077</td>\n",
       "    </tr>\n",
       "    <tr>\n",
       "      <th>01-04</th>\n",
       "      <td>0</td>\n",
       "      <td>0</td>\n",
       "      <td>0</td>\n",
       "      <td>0</td>\n",
       "      <td>0</td>\n",
       "      <td>0</td>\n",
       "      <td>0</td>\n",
       "      <td>1</td>\n",
       "      <td>0</td>\n",
       "      <td>0</td>\n",
       "      <td>...</td>\n",
       "      <td>0</td>\n",
       "      <td>0</td>\n",
       "      <td>0</td>\n",
       "      <td>1</td>\n",
       "      <td>0</td>\n",
       "      <td>0</td>\n",
       "      <td>0</td>\n",
       "      <td>0</td>\n",
       "      <td>1</td>\n",
       "      <td>4</td>\n",
       "    </tr>\n",
       "    <tr>\n",
       "      <th>02-01</th>\n",
       "      <td>1916</td>\n",
       "      <td>1268</td>\n",
       "      <td>1024</td>\n",
       "      <td>1274</td>\n",
       "      <td>1595</td>\n",
       "      <td>1845</td>\n",
       "      <td>1503</td>\n",
       "      <td>3687</td>\n",
       "      <td>1173</td>\n",
       "      <td>2347</td>\n",
       "      <td>...</td>\n",
       "      <td>0</td>\n",
       "      <td>1144</td>\n",
       "      <td>97</td>\n",
       "      <td>3797</td>\n",
       "      <td>31</td>\n",
       "      <td>28</td>\n",
       "      <td>804</td>\n",
       "      <td>64</td>\n",
       "      <td>4214</td>\n",
       "      <td>32808</td>\n",
       "    </tr>\n",
       "  </tbody>\n",
       "</table>\n",
       "<p>5 rows × 158 columns</p>\n",
       "</div>"
      ],
      "text/plain": [
       "          AT-LARGE TRUSTEE_G22ALT_GALUTERIA, BRICKWOOD - ALO  \\\n",
       "precinct                                                       \n",
       "01-01                                                  1098    \n",
       "01-02                                                   689    \n",
       "01-03                                                  1149    \n",
       "01-04                                                     0    \n",
       "02-01                                                  1916    \n",
       "\n",
       "          AT-LARGE TRUSTEE_G22ALT_ISA, LEI 'LEINA'ALA' AHU - ALO  \\\n",
       "precinct                                                           \n",
       "01-01                                                   746        \n",
       "01-02                                                   559        \n",
       "01-03                                                   813        \n",
       "01-04                                                     0        \n",
       "02-01                                                  1268        \n",
       "\n",
       "          AT-LARGE TRUSTEE_G22ALT_KING, SAM 'KALANIKUPUA' - GRE  \\\n",
       "precinct                                                          \n",
       "01-01                                                   764       \n",
       "01-02                                                   502       \n",
       "01-03                                                   662       \n",
       "01-04                                                     0       \n",
       "02-01                                                  1024       \n",
       "\n",
       "          AT-LARGE TRUSTEE_G22ALT_OWENS, CHAD - NON  \\\n",
       "precinct                                              \n",
       "01-01                                           765   \n",
       "01-02                                           544   \n",
       "01-03                                           805   \n",
       "01-04                                             0   \n",
       "02-01                                          1274   \n",
       "\n",
       "          AT-LARGE TRUSTEE_G22ALT_SOUZA, KEONI - ALO  \\\n",
       "precinct                                               \n",
       "01-01                                           1309   \n",
       "01-02                                            772   \n",
       "01-03                                           1189   \n",
       "01-04                                              0   \n",
       "02-01                                           1595   \n",
       "\n",
       "          AT-LARGE TRUSTEE_G22ALT_WAIHEE, JOHN D - ALO  \\\n",
       "precinct                                                 \n",
       "01-01                                             1164   \n",
       "01-02                                              810   \n",
       "01-03                                             1086   \n",
       "01-04                                                0   \n",
       "02-01                                             1845   \n",
       "\n",
       "          GOVERNOR_G22GOV_AIONA, DUKE TUPAI - ALO  \\\n",
       "precinct                                            \n",
       "01-01                                         985   \n",
       "01-02                                         675   \n",
       "01-03                                        1098   \n",
       "01-04                                           0   \n",
       "02-01                                        1503   \n",
       "\n",
       "          GOVERNOR_G22GOV_GREEN, JOSH LUKE - ALO  \\\n",
       "precinct                                           \n",
       "01-01                                       2343   \n",
       "01-02                                       1544   \n",
       "01-03                                       2243   \n",
       "01-04                                          1   \n",
       "02-01                                       3687   \n",
       "\n",
       "          HAWAII RESIDENT TRUSTEE VACANCY_G22RTH_CERMELJ, HOPE ALOHALANI - ALO  \\\n",
       "precinct                                                                         \n",
       "01-01                                                   816                      \n",
       "01-02                                                   532                      \n",
       "01-03                                                   739                      \n",
       "01-04                                                     0                      \n",
       "02-01                                                  1173                      \n",
       "\n",
       "          HAWAII RESIDENT TRUSTEE VACANCY_G22RTH_TRASK, MILILANI B - ALO  ...  \\\n",
       "precinct                                                                  ...   \n",
       "01-01                                                  1495               ...   \n",
       "01-02                                                  1044               ...   \n",
       "01-03                                                  1571               ...   \n",
       "01-04                                                     0               ...   \n",
       "02-01                                                  2347               ...   \n",
       "\n",
       "          US HOUSE_G22CD1_KRESS, CONRAD - REP  \\\n",
       "precinct                                        \n",
       "01-01                                       0   \n",
       "01-02                                       0   \n",
       "01-03                                       0   \n",
       "01-04                                       0   \n",
       "02-01                                       0   \n",
       "\n",
       "          US HOUSE_G22CD2_AKANA, JOE - ALO  \\\n",
       "precinct                                     \n",
       "01-01                                  926   \n",
       "01-02                                  597   \n",
       "01-03                                  900   \n",
       "01-04                                    0   \n",
       "02-01                                 1144   \n",
       "\n",
       "          US HOUSE_G22CD2_TIPPENS, MICHELLE ROSE - LIB  \\\n",
       "precinct                                                 \n",
       "01-01                                               89   \n",
       "01-02                                               70   \n",
       "01-03                                               62   \n",
       "01-04                                                0   \n",
       "02-01                                               97   \n",
       "\n",
       "          US HOUSE_G22CD2_TOKUDA, JILL N - ALO  \\\n",
       "precinct                                         \n",
       "01-01                                     2225   \n",
       "01-02                                     1479   \n",
       "01-03                                     2265   \n",
       "01-04                                        1   \n",
       "02-01                                     3797   \n",
       "\n",
       "          US SENATE_G22USS_BONOAN, FEENA M - ALO  \\\n",
       "precinct                                           \n",
       "01-01                                          0   \n",
       "01-02                                         43   \n",
       "01-03                                         31   \n",
       "01-04                                          0   \n",
       "02-01                                         31   \n",
       "\n",
       "          US SENATE_G22USS_DECKER, DAN - ALO  \\\n",
       "precinct                                       \n",
       "01-01                                      0   \n",
       "01-02                                     11   \n",
       "01-03                                     19   \n",
       "01-04                                      0   \n",
       "02-01                                     28   \n",
       "\n",
       "          US SENATE_G22USS_MCDERMOTT, BOB - REP  \\\n",
       "precinct                                          \n",
       "01-01                                       665   \n",
       "01-02                                       408   \n",
       "01-03                                       616   \n",
       "01-04                                         0   \n",
       "02-01                                       804   \n",
       "\n",
       "          US SENATE_G22USS_POHLMAN, EMMA JANE A - ALO  \\\n",
       "precinct                                                \n",
       "01-01                                              31   \n",
       "01-02                                              30   \n",
       "01-03                                              32   \n",
       "01-04                                               0   \n",
       "02-01                                              64   \n",
       "\n",
       "          US SENATE_G22USS_SCHATZ, BRIAN - ALO  All__  \n",
       "precinct                                               \n",
       "01-01                                     2552  21054  \n",
       "01-02                                     1699  14156  \n",
       "01-03                                     2587  21077  \n",
       "01-04                                        1      4  \n",
       "02-01                                     4214  32808  \n",
       "\n",
       "[5 rows x 158 columns]"
      ]
     },
     "execution_count": 64,
     "metadata": {},
     "output_type": "execute_result"
    }
   ],
   "source": [
    "er_pivot.head()"
   ]
  },
  {
   "cell_type": "code",
   "execution_count": 65,
   "id": "0c3fa49c",
   "metadata": {},
   "outputs": [
    {
     "data": {
      "text/plain": [
       "\"AT-LARGE TRUSTEE_G22ALT_ISA, LEI 'LEINA'ALA' AHU - ALO\""
      ]
     },
     "execution_count": 65,
     "metadata": {},
     "output_type": "execute_result"
    }
   ],
   "source": [
    "er_pivot.columns[1]\n",
    "#= gdf_sub['SLDL'].apply(lambda x: str(x)[1:])"
   ]
  },
  {
   "cell_type": "code",
   "execution_count": 66,
   "id": "665f7528",
   "metadata": {},
   "outputs": [
    {
     "data": {
      "text/html": [
       "<div>\n",
       "<style scoped>\n",
       "    .dataframe tbody tr th:only-of-type {\n",
       "        vertical-align: middle;\n",
       "    }\n",
       "\n",
       "    .dataframe tbody tr th {\n",
       "        vertical-align: top;\n",
       "    }\n",
       "\n",
       "    .dataframe thead th {\n",
       "        text-align: right;\n",
       "    }\n",
       "</style>\n",
       "<table border=\"1\" class=\"dataframe\">\n",
       "  <thead>\n",
       "    <tr style=\"text-align: right;\">\n",
       "      <th></th>\n",
       "      <th>AT-LARGE TRUSTEE_G22ALT_GALUTERIA, BRICKWOOD - ALO</th>\n",
       "      <th>AT-LARGE TRUSTEE_G22ALT_ISA, LEI 'LEINA'ALA' AHU - ALO</th>\n",
       "      <th>AT-LARGE TRUSTEE_G22ALT_KING, SAM 'KALANIKUPUA' - GRE</th>\n",
       "      <th>AT-LARGE TRUSTEE_G22ALT_OWENS, CHAD - NON</th>\n",
       "      <th>AT-LARGE TRUSTEE_G22ALT_SOUZA, KEONI - ALO</th>\n",
       "      <th>AT-LARGE TRUSTEE_G22ALT_WAIHEE, JOHN D - ALO</th>\n",
       "      <th>GOVERNOR_G22GOV_AIONA, DUKE TUPAI - ALO</th>\n",
       "      <th>GOVERNOR_G22GOV_GREEN, JOSH LUKE - ALO</th>\n",
       "      <th>HAWAII RESIDENT TRUSTEE VACANCY_G22RTH_CERMELJ, HOPE ALOHALANI - ALO</th>\n",
       "      <th>HAWAII RESIDENT TRUSTEE VACANCY_G22RTH_TRASK, MILILANI B - ALO</th>\n",
       "      <th>...</th>\n",
       "      <th>US HOUSE_G22CD1_KRESS, CONRAD - REP</th>\n",
       "      <th>US HOUSE_G22CD2_AKANA, JOE - ALO</th>\n",
       "      <th>US HOUSE_G22CD2_TIPPENS, MICHELLE ROSE - LIB</th>\n",
       "      <th>US HOUSE_G22CD2_TOKUDA, JILL N - ALO</th>\n",
       "      <th>US SENATE_G22USS_BONOAN, FEENA M - ALO</th>\n",
       "      <th>US SENATE_G22USS_DECKER, DAN - ALO</th>\n",
       "      <th>US SENATE_G22USS_MCDERMOTT, BOB - REP</th>\n",
       "      <th>US SENATE_G22USS_POHLMAN, EMMA JANE A - ALO</th>\n",
       "      <th>US SENATE_G22USS_SCHATZ, BRIAN - ALO</th>\n",
       "      <th>All__</th>\n",
       "    </tr>\n",
       "    <tr>\n",
       "      <th>precinct</th>\n",
       "      <th></th>\n",
       "      <th></th>\n",
       "      <th></th>\n",
       "      <th></th>\n",
       "      <th></th>\n",
       "      <th></th>\n",
       "      <th></th>\n",
       "      <th></th>\n",
       "      <th></th>\n",
       "      <th></th>\n",
       "      <th></th>\n",
       "      <th></th>\n",
       "      <th></th>\n",
       "      <th></th>\n",
       "      <th></th>\n",
       "      <th></th>\n",
       "      <th></th>\n",
       "      <th></th>\n",
       "      <th></th>\n",
       "      <th></th>\n",
       "      <th></th>\n",
       "    </tr>\n",
       "  </thead>\n",
       "  <tbody>\n",
       "    <tr>\n",
       "      <th>01-01</th>\n",
       "      <td>1098</td>\n",
       "      <td>746</td>\n",
       "      <td>764</td>\n",
       "      <td>765</td>\n",
       "      <td>1309</td>\n",
       "      <td>1164</td>\n",
       "      <td>985</td>\n",
       "      <td>2343</td>\n",
       "      <td>816</td>\n",
       "      <td>1495</td>\n",
       "      <td>...</td>\n",
       "      <td>0</td>\n",
       "      <td>926</td>\n",
       "      <td>89</td>\n",
       "      <td>2225</td>\n",
       "      <td>0</td>\n",
       "      <td>0</td>\n",
       "      <td>665</td>\n",
       "      <td>31</td>\n",
       "      <td>2552</td>\n",
       "      <td>21054</td>\n",
       "    </tr>\n",
       "    <tr>\n",
       "      <th>01-02</th>\n",
       "      <td>689</td>\n",
       "      <td>559</td>\n",
       "      <td>502</td>\n",
       "      <td>544</td>\n",
       "      <td>772</td>\n",
       "      <td>810</td>\n",
       "      <td>675</td>\n",
       "      <td>1544</td>\n",
       "      <td>532</td>\n",
       "      <td>1044</td>\n",
       "      <td>...</td>\n",
       "      <td>0</td>\n",
       "      <td>597</td>\n",
       "      <td>70</td>\n",
       "      <td>1479</td>\n",
       "      <td>43</td>\n",
       "      <td>11</td>\n",
       "      <td>408</td>\n",
       "      <td>30</td>\n",
       "      <td>1699</td>\n",
       "      <td>14156</td>\n",
       "    </tr>\n",
       "    <tr>\n",
       "      <th>01-03</th>\n",
       "      <td>1149</td>\n",
       "      <td>813</td>\n",
       "      <td>662</td>\n",
       "      <td>805</td>\n",
       "      <td>1189</td>\n",
       "      <td>1086</td>\n",
       "      <td>1098</td>\n",
       "      <td>2243</td>\n",
       "      <td>739</td>\n",
       "      <td>1571</td>\n",
       "      <td>...</td>\n",
       "      <td>0</td>\n",
       "      <td>900</td>\n",
       "      <td>62</td>\n",
       "      <td>2265</td>\n",
       "      <td>31</td>\n",
       "      <td>19</td>\n",
       "      <td>616</td>\n",
       "      <td>32</td>\n",
       "      <td>2587</td>\n",
       "      <td>21077</td>\n",
       "    </tr>\n",
       "    <tr>\n",
       "      <th>01-04</th>\n",
       "      <td>0</td>\n",
       "      <td>0</td>\n",
       "      <td>0</td>\n",
       "      <td>0</td>\n",
       "      <td>0</td>\n",
       "      <td>0</td>\n",
       "      <td>0</td>\n",
       "      <td>1</td>\n",
       "      <td>0</td>\n",
       "      <td>0</td>\n",
       "      <td>...</td>\n",
       "      <td>0</td>\n",
       "      <td>0</td>\n",
       "      <td>0</td>\n",
       "      <td>1</td>\n",
       "      <td>0</td>\n",
       "      <td>0</td>\n",
       "      <td>0</td>\n",
       "      <td>0</td>\n",
       "      <td>1</td>\n",
       "      <td>4</td>\n",
       "    </tr>\n",
       "    <tr>\n",
       "      <th>02-01</th>\n",
       "      <td>1916</td>\n",
       "      <td>1268</td>\n",
       "      <td>1024</td>\n",
       "      <td>1274</td>\n",
       "      <td>1595</td>\n",
       "      <td>1845</td>\n",
       "      <td>1503</td>\n",
       "      <td>3687</td>\n",
       "      <td>1173</td>\n",
       "      <td>2347</td>\n",
       "      <td>...</td>\n",
       "      <td>0</td>\n",
       "      <td>1144</td>\n",
       "      <td>97</td>\n",
       "      <td>3797</td>\n",
       "      <td>31</td>\n",
       "      <td>28</td>\n",
       "      <td>804</td>\n",
       "      <td>64</td>\n",
       "      <td>4214</td>\n",
       "      <td>32808</td>\n",
       "    </tr>\n",
       "  </tbody>\n",
       "</table>\n",
       "<p>5 rows × 158 columns</p>\n",
       "</div>"
      ],
      "text/plain": [
       "          AT-LARGE TRUSTEE_G22ALT_GALUTERIA, BRICKWOOD - ALO  \\\n",
       "precinct                                                       \n",
       "01-01                                                  1098    \n",
       "01-02                                                   689    \n",
       "01-03                                                  1149    \n",
       "01-04                                                     0    \n",
       "02-01                                                  1916    \n",
       "\n",
       "          AT-LARGE TRUSTEE_G22ALT_ISA, LEI 'LEINA'ALA' AHU - ALO  \\\n",
       "precinct                                                           \n",
       "01-01                                                   746        \n",
       "01-02                                                   559        \n",
       "01-03                                                   813        \n",
       "01-04                                                     0        \n",
       "02-01                                                  1268        \n",
       "\n",
       "          AT-LARGE TRUSTEE_G22ALT_KING, SAM 'KALANIKUPUA' - GRE  \\\n",
       "precinct                                                          \n",
       "01-01                                                   764       \n",
       "01-02                                                   502       \n",
       "01-03                                                   662       \n",
       "01-04                                                     0       \n",
       "02-01                                                  1024       \n",
       "\n",
       "          AT-LARGE TRUSTEE_G22ALT_OWENS, CHAD - NON  \\\n",
       "precinct                                              \n",
       "01-01                                           765   \n",
       "01-02                                           544   \n",
       "01-03                                           805   \n",
       "01-04                                             0   \n",
       "02-01                                          1274   \n",
       "\n",
       "          AT-LARGE TRUSTEE_G22ALT_SOUZA, KEONI - ALO  \\\n",
       "precinct                                               \n",
       "01-01                                           1309   \n",
       "01-02                                            772   \n",
       "01-03                                           1189   \n",
       "01-04                                              0   \n",
       "02-01                                           1595   \n",
       "\n",
       "          AT-LARGE TRUSTEE_G22ALT_WAIHEE, JOHN D - ALO  \\\n",
       "precinct                                                 \n",
       "01-01                                             1164   \n",
       "01-02                                              810   \n",
       "01-03                                             1086   \n",
       "01-04                                                0   \n",
       "02-01                                             1845   \n",
       "\n",
       "          GOVERNOR_G22GOV_AIONA, DUKE TUPAI - ALO  \\\n",
       "precinct                                            \n",
       "01-01                                         985   \n",
       "01-02                                         675   \n",
       "01-03                                        1098   \n",
       "01-04                                           0   \n",
       "02-01                                        1503   \n",
       "\n",
       "          GOVERNOR_G22GOV_GREEN, JOSH LUKE - ALO  \\\n",
       "precinct                                           \n",
       "01-01                                       2343   \n",
       "01-02                                       1544   \n",
       "01-03                                       2243   \n",
       "01-04                                          1   \n",
       "02-01                                       3687   \n",
       "\n",
       "          HAWAII RESIDENT TRUSTEE VACANCY_G22RTH_CERMELJ, HOPE ALOHALANI - ALO  \\\n",
       "precinct                                                                         \n",
       "01-01                                                   816                      \n",
       "01-02                                                   532                      \n",
       "01-03                                                   739                      \n",
       "01-04                                                     0                      \n",
       "02-01                                                  1173                      \n",
       "\n",
       "          HAWAII RESIDENT TRUSTEE VACANCY_G22RTH_TRASK, MILILANI B - ALO  ...  \\\n",
       "precinct                                                                  ...   \n",
       "01-01                                                  1495               ...   \n",
       "01-02                                                  1044               ...   \n",
       "01-03                                                  1571               ...   \n",
       "01-04                                                     0               ...   \n",
       "02-01                                                  2347               ...   \n",
       "\n",
       "          US HOUSE_G22CD1_KRESS, CONRAD - REP  \\\n",
       "precinct                                        \n",
       "01-01                                       0   \n",
       "01-02                                       0   \n",
       "01-03                                       0   \n",
       "01-04                                       0   \n",
       "02-01                                       0   \n",
       "\n",
       "          US HOUSE_G22CD2_AKANA, JOE - ALO  \\\n",
       "precinct                                     \n",
       "01-01                                  926   \n",
       "01-02                                  597   \n",
       "01-03                                  900   \n",
       "01-04                                    0   \n",
       "02-01                                 1144   \n",
       "\n",
       "          US HOUSE_G22CD2_TIPPENS, MICHELLE ROSE - LIB  \\\n",
       "precinct                                                 \n",
       "01-01                                               89   \n",
       "01-02                                               70   \n",
       "01-03                                               62   \n",
       "01-04                                                0   \n",
       "02-01                                               97   \n",
       "\n",
       "          US HOUSE_G22CD2_TOKUDA, JILL N - ALO  \\\n",
       "precinct                                         \n",
       "01-01                                     2225   \n",
       "01-02                                     1479   \n",
       "01-03                                     2265   \n",
       "01-04                                        1   \n",
       "02-01                                     3797   \n",
       "\n",
       "          US SENATE_G22USS_BONOAN, FEENA M - ALO  \\\n",
       "precinct                                           \n",
       "01-01                                          0   \n",
       "01-02                                         43   \n",
       "01-03                                         31   \n",
       "01-04                                          0   \n",
       "02-01                                         31   \n",
       "\n",
       "          US SENATE_G22USS_DECKER, DAN - ALO  \\\n",
       "precinct                                       \n",
       "01-01                                      0   \n",
       "01-02                                     11   \n",
       "01-03                                     19   \n",
       "01-04                                      0   \n",
       "02-01                                     28   \n",
       "\n",
       "          US SENATE_G22USS_MCDERMOTT, BOB - REP  \\\n",
       "precinct                                          \n",
       "01-01                                       665   \n",
       "01-02                                       408   \n",
       "01-03                                       616   \n",
       "01-04                                         0   \n",
       "02-01                                       804   \n",
       "\n",
       "          US SENATE_G22USS_POHLMAN, EMMA JANE A - ALO  \\\n",
       "precinct                                                \n",
       "01-01                                              31   \n",
       "01-02                                              30   \n",
       "01-03                                              32   \n",
       "01-04                                               0   \n",
       "02-01                                              64   \n",
       "\n",
       "          US SENATE_G22USS_SCHATZ, BRIAN - ALO  All__  \n",
       "precinct                                               \n",
       "01-01                                     2552  21054  \n",
       "01-02                                     1699  14156  \n",
       "01-03                                     2587  21077  \n",
       "01-04                                        1      4  \n",
       "02-01                                     4214  32808  \n",
       "\n",
       "[5 rows x 158 columns]"
      ]
     },
     "execution_count": 66,
     "metadata": {},
     "output_type": "execute_result"
    }
   ],
   "source": [
    "er_pivot.head()"
   ]
  },
  {
   "cell_type": "code",
   "execution_count": 112,
   "id": "511ab0b2",
   "metadata": {},
   "outputs": [],
   "source": [
    "#join shapefile\n",
    "#jer = pd.merge(er_pivot,gdf_sub,on='PRECINCT', how= 'right', indicator = True)\n",
    "#jer._merge.value_counts()"
   ]
  },
  {
   "cell_type": "markdown",
   "id": "66d75ff8",
   "metadata": {},
   "source": [
    "Noticing that all precincts successfully merged, including the 12 precincts that had no votes/election returns."
   ]
  },
  {
   "cell_type": "code",
   "execution_count": null,
   "id": "86182707",
   "metadata": {},
   "outputs": [],
   "source": [
    "jer.columns"
   ]
  },
  {
   "cell_type": "markdown",
   "id": "d861ee26",
   "metadata": {},
   "source": [
    "### Final Checks + Export Joined Data Set"
   ]
  },
  {
   "cell_type": "code",
   "execution_count": null,
   "id": "f0ad7394",
   "metadata": {},
   "outputs": [],
   "source": [
    "#TODO Check to see if length of cols is 10 characters or less\n",
    "#[i for i in jer.columns if len(i)>10]"
   ]
  },
  {
   "cell_type": "code",
   "execution_count": null,
   "id": "314eb4b1",
   "metadata": {},
   "outputs": [],
   "source": []
  },
  {
   "cell_type": "markdown",
   "id": "f0dbff41",
   "metadata": {},
   "source": [
    "## TESTING"
   ]
  },
  {
   "cell_type": "code",
   "execution_count": null,
   "id": "f356bf77",
   "metadata": {},
   "outputs": [],
   "source": [
    "er_sub.head()"
   ]
  },
  {
   "cell_type": "code",
   "execution_count": 71,
   "id": "c1636cca",
   "metadata": {
    "scrolled": true
   },
   "outputs": [
    {
     "data": {
      "text/plain": [
       "['US SENATE',\n",
       " 'US HOUSE',\n",
       " 'GOVERNOR',\n",
       " 'STATE SENATOR',\n",
       " 'HAWAII RESIDENT TRUSTEE VACANCY',\n",
       " 'AT-LARGE TRUSTEE',\n",
       " 'STATE HOUSE']"
      ]
     },
     "execution_count": 71,
     "metadata": {},
     "output_type": "execute_result"
    }
   ],
   "source": [
    "office_list"
   ]
  },
  {
   "cell_type": "code",
   "execution_count": null,
   "id": "92e97fda",
   "metadata": {},
   "outputs": [],
   "source": [
    "for i in office_list:\n",
    "    i"
   ]
  },
  {
   "cell_type": "code",
   "execution_count": 104,
   "id": "bdf031ea",
   "metadata": {},
   "outputs": [],
   "source": [
    "def get_races(office_list, df):\n",
    "    for i in office_list:\n",
    "        i_lst = []\n",
    "        races_list = sorted(list(df[df.office == i]['race'].unique()))\n",
    "        for ele in races_list:\n",
    "        "
   ]
  },
  {
   "cell_type": "code",
   "execution_count": 109,
   "id": "868b7c61",
   "metadata": {},
   "outputs": [],
   "source": [
    "races_list = sorted(list(er_sub[er_sub.office == 'STATE SENATOR']['race'].unique()))"
   ]
  },
  {
   "cell_type": "code",
   "execution_count": 110,
   "id": "8369f2f8",
   "metadata": {},
   "outputs": [
    {
     "name": "stdout",
     "output_type": "stream",
     "text": [
      "['GSU01', 'GSU02', 'GSU04', 'GSU06', 'GSU07', 'GSU08', 'GSU09', 'GSU10', 'GSU11', 'GSU12', 'GSU13', 'GSU14', 'GSU15', 'GSU16', 'GSU17', 'GSU18', 'GSU21', 'GSU22', 'GSU23', 'GSU24', 'GSU25']\n"
     ]
    }
   ],
   "source": [
    "print(races_list)"
   ]
  },
  {
   "cell_type": "code",
   "execution_count": null,
   "id": "36e477f1",
   "metadata": {},
   "outputs": [],
   "source": [
    "for ele in races_list:\n",
    "    "
   ]
  },
  {
   "cell_type": "code",
   "execution_count": 86,
   "id": "76401875",
   "metadata": {},
   "outputs": [
    {
     "name": "stdout",
     "output_type": "stream",
     "text": [
      "None\n"
     ]
    }
   ],
   "source": [
    "print(temp)"
   ]
  },
  {
   "cell_type": "code",
   "execution_count": 111,
   "id": "38d70ba2",
   "metadata": {},
   "outputs": [
    {
     "data": {
      "text/html": [
       "<div>\n",
       "<style scoped>\n",
       "    .dataframe tbody tr th:only-of-type {\n",
       "        vertical-align: middle;\n",
       "    }\n",
       "\n",
       "    .dataframe tbody tr th {\n",
       "        vertical-align: top;\n",
       "    }\n",
       "\n",
       "    .dataframe thead th {\n",
       "        text-align: right;\n",
       "    }\n",
       "</style>\n",
       "<table border=\"1\" class=\"dataframe\">\n",
       "  <thead>\n",
       "    <tr style=\"text-align: right;\">\n",
       "      <th></th>\n",
       "      <th>AT-LARGE TRUSTEE_G22ALT_GALUTERIA, BRICKWOOD - ALO</th>\n",
       "      <th>AT-LARGE TRUSTEE_G22ALT_ISA, LEI 'LEINA'ALA' AHU - ALO</th>\n",
       "      <th>AT-LARGE TRUSTEE_G22ALT_KING, SAM 'KALANIKUPUA' - GRE</th>\n",
       "      <th>AT-LARGE TRUSTEE_G22ALT_OWENS, CHAD - NON</th>\n",
       "      <th>AT-LARGE TRUSTEE_G22ALT_SOUZA, KEONI - ALO</th>\n",
       "      <th>AT-LARGE TRUSTEE_G22ALT_WAIHEE, JOHN D - ALO</th>\n",
       "      <th>GOVERNOR_G22GOV_AIONA, DUKE TUPAI - ALO</th>\n",
       "      <th>GOVERNOR_G22GOV_GREEN, JOSH LUKE - ALO</th>\n",
       "      <th>HAWAII RESIDENT TRUSTEE VACANCY_G22RTH_CERMELJ, HOPE ALOHALANI - ALO</th>\n",
       "      <th>HAWAII RESIDENT TRUSTEE VACANCY_G22RTH_TRASK, MILILANI B - ALO</th>\n",
       "      <th>...</th>\n",
       "      <th>US HOUSE_G22CD1_KRESS, CONRAD - REP</th>\n",
       "      <th>US HOUSE_G22CD2_AKANA, JOE - ALO</th>\n",
       "      <th>US HOUSE_G22CD2_TIPPENS, MICHELLE ROSE - LIB</th>\n",
       "      <th>US HOUSE_G22CD2_TOKUDA, JILL N - ALO</th>\n",
       "      <th>US SENATE_G22USS_BONOAN, FEENA M - ALO</th>\n",
       "      <th>US SENATE_G22USS_DECKER, DAN - ALO</th>\n",
       "      <th>US SENATE_G22USS_MCDERMOTT, BOB - REP</th>\n",
       "      <th>US SENATE_G22USS_POHLMAN, EMMA JANE A - ALO</th>\n",
       "      <th>US SENATE_G22USS_SCHATZ, BRIAN - ALO</th>\n",
       "      <th>All__</th>\n",
       "    </tr>\n",
       "    <tr>\n",
       "      <th>precinct</th>\n",
       "      <th></th>\n",
       "      <th></th>\n",
       "      <th></th>\n",
       "      <th></th>\n",
       "      <th></th>\n",
       "      <th></th>\n",
       "      <th></th>\n",
       "      <th></th>\n",
       "      <th></th>\n",
       "      <th></th>\n",
       "      <th></th>\n",
       "      <th></th>\n",
       "      <th></th>\n",
       "      <th></th>\n",
       "      <th></th>\n",
       "      <th></th>\n",
       "      <th></th>\n",
       "      <th></th>\n",
       "      <th></th>\n",
       "      <th></th>\n",
       "      <th></th>\n",
       "    </tr>\n",
       "  </thead>\n",
       "  <tbody>\n",
       "    <tr>\n",
       "      <th>01-01</th>\n",
       "      <td>1098</td>\n",
       "      <td>746</td>\n",
       "      <td>764</td>\n",
       "      <td>765</td>\n",
       "      <td>1309</td>\n",
       "      <td>1164</td>\n",
       "      <td>985</td>\n",
       "      <td>2343</td>\n",
       "      <td>816</td>\n",
       "      <td>1495</td>\n",
       "      <td>...</td>\n",
       "      <td>0</td>\n",
       "      <td>926</td>\n",
       "      <td>89</td>\n",
       "      <td>2225</td>\n",
       "      <td>0</td>\n",
       "      <td>0</td>\n",
       "      <td>665</td>\n",
       "      <td>31</td>\n",
       "      <td>2552</td>\n",
       "      <td>21054</td>\n",
       "    </tr>\n",
       "    <tr>\n",
       "      <th>01-02</th>\n",
       "      <td>689</td>\n",
       "      <td>559</td>\n",
       "      <td>502</td>\n",
       "      <td>544</td>\n",
       "      <td>772</td>\n",
       "      <td>810</td>\n",
       "      <td>675</td>\n",
       "      <td>1544</td>\n",
       "      <td>532</td>\n",
       "      <td>1044</td>\n",
       "      <td>...</td>\n",
       "      <td>0</td>\n",
       "      <td>597</td>\n",
       "      <td>70</td>\n",
       "      <td>1479</td>\n",
       "      <td>43</td>\n",
       "      <td>11</td>\n",
       "      <td>408</td>\n",
       "      <td>30</td>\n",
       "      <td>1699</td>\n",
       "      <td>14156</td>\n",
       "    </tr>\n",
       "    <tr>\n",
       "      <th>01-03</th>\n",
       "      <td>1149</td>\n",
       "      <td>813</td>\n",
       "      <td>662</td>\n",
       "      <td>805</td>\n",
       "      <td>1189</td>\n",
       "      <td>1086</td>\n",
       "      <td>1098</td>\n",
       "      <td>2243</td>\n",
       "      <td>739</td>\n",
       "      <td>1571</td>\n",
       "      <td>...</td>\n",
       "      <td>0</td>\n",
       "      <td>900</td>\n",
       "      <td>62</td>\n",
       "      <td>2265</td>\n",
       "      <td>31</td>\n",
       "      <td>19</td>\n",
       "      <td>616</td>\n",
       "      <td>32</td>\n",
       "      <td>2587</td>\n",
       "      <td>21077</td>\n",
       "    </tr>\n",
       "    <tr>\n",
       "      <th>01-04</th>\n",
       "      <td>0</td>\n",
       "      <td>0</td>\n",
       "      <td>0</td>\n",
       "      <td>0</td>\n",
       "      <td>0</td>\n",
       "      <td>0</td>\n",
       "      <td>0</td>\n",
       "      <td>1</td>\n",
       "      <td>0</td>\n",
       "      <td>0</td>\n",
       "      <td>...</td>\n",
       "      <td>0</td>\n",
       "      <td>0</td>\n",
       "      <td>0</td>\n",
       "      <td>1</td>\n",
       "      <td>0</td>\n",
       "      <td>0</td>\n",
       "      <td>0</td>\n",
       "      <td>0</td>\n",
       "      <td>1</td>\n",
       "      <td>4</td>\n",
       "    </tr>\n",
       "    <tr>\n",
       "      <th>02-01</th>\n",
       "      <td>1916</td>\n",
       "      <td>1268</td>\n",
       "      <td>1024</td>\n",
       "      <td>1274</td>\n",
       "      <td>1595</td>\n",
       "      <td>1845</td>\n",
       "      <td>1503</td>\n",
       "      <td>3687</td>\n",
       "      <td>1173</td>\n",
       "      <td>2347</td>\n",
       "      <td>...</td>\n",
       "      <td>0</td>\n",
       "      <td>1144</td>\n",
       "      <td>97</td>\n",
       "      <td>3797</td>\n",
       "      <td>31</td>\n",
       "      <td>28</td>\n",
       "      <td>804</td>\n",
       "      <td>64</td>\n",
       "      <td>4214</td>\n",
       "      <td>32808</td>\n",
       "    </tr>\n",
       "  </tbody>\n",
       "</table>\n",
       "<p>5 rows × 158 columns</p>\n",
       "</div>"
      ],
      "text/plain": [
       "          AT-LARGE TRUSTEE_G22ALT_GALUTERIA, BRICKWOOD - ALO  \\\n",
       "precinct                                                       \n",
       "01-01                                                  1098    \n",
       "01-02                                                   689    \n",
       "01-03                                                  1149    \n",
       "01-04                                                     0    \n",
       "02-01                                                  1916    \n",
       "\n",
       "          AT-LARGE TRUSTEE_G22ALT_ISA, LEI 'LEINA'ALA' AHU - ALO  \\\n",
       "precinct                                                           \n",
       "01-01                                                   746        \n",
       "01-02                                                   559        \n",
       "01-03                                                   813        \n",
       "01-04                                                     0        \n",
       "02-01                                                  1268        \n",
       "\n",
       "          AT-LARGE TRUSTEE_G22ALT_KING, SAM 'KALANIKUPUA' - GRE  \\\n",
       "precinct                                                          \n",
       "01-01                                                   764       \n",
       "01-02                                                   502       \n",
       "01-03                                                   662       \n",
       "01-04                                                     0       \n",
       "02-01                                                  1024       \n",
       "\n",
       "          AT-LARGE TRUSTEE_G22ALT_OWENS, CHAD - NON  \\\n",
       "precinct                                              \n",
       "01-01                                           765   \n",
       "01-02                                           544   \n",
       "01-03                                           805   \n",
       "01-04                                             0   \n",
       "02-01                                          1274   \n",
       "\n",
       "          AT-LARGE TRUSTEE_G22ALT_SOUZA, KEONI - ALO  \\\n",
       "precinct                                               \n",
       "01-01                                           1309   \n",
       "01-02                                            772   \n",
       "01-03                                           1189   \n",
       "01-04                                              0   \n",
       "02-01                                           1595   \n",
       "\n",
       "          AT-LARGE TRUSTEE_G22ALT_WAIHEE, JOHN D - ALO  \\\n",
       "precinct                                                 \n",
       "01-01                                             1164   \n",
       "01-02                                              810   \n",
       "01-03                                             1086   \n",
       "01-04                                                0   \n",
       "02-01                                             1845   \n",
       "\n",
       "          GOVERNOR_G22GOV_AIONA, DUKE TUPAI - ALO  \\\n",
       "precinct                                            \n",
       "01-01                                         985   \n",
       "01-02                                         675   \n",
       "01-03                                        1098   \n",
       "01-04                                           0   \n",
       "02-01                                        1503   \n",
       "\n",
       "          GOVERNOR_G22GOV_GREEN, JOSH LUKE - ALO  \\\n",
       "precinct                                           \n",
       "01-01                                       2343   \n",
       "01-02                                       1544   \n",
       "01-03                                       2243   \n",
       "01-04                                          1   \n",
       "02-01                                       3687   \n",
       "\n",
       "          HAWAII RESIDENT TRUSTEE VACANCY_G22RTH_CERMELJ, HOPE ALOHALANI - ALO  \\\n",
       "precinct                                                                         \n",
       "01-01                                                   816                      \n",
       "01-02                                                   532                      \n",
       "01-03                                                   739                      \n",
       "01-04                                                     0                      \n",
       "02-01                                                  1173                      \n",
       "\n",
       "          HAWAII RESIDENT TRUSTEE VACANCY_G22RTH_TRASK, MILILANI B - ALO  ...  \\\n",
       "precinct                                                                  ...   \n",
       "01-01                                                  1495               ...   \n",
       "01-02                                                  1044               ...   \n",
       "01-03                                                  1571               ...   \n",
       "01-04                                                     0               ...   \n",
       "02-01                                                  2347               ...   \n",
       "\n",
       "          US HOUSE_G22CD1_KRESS, CONRAD - REP  \\\n",
       "precinct                                        \n",
       "01-01                                       0   \n",
       "01-02                                       0   \n",
       "01-03                                       0   \n",
       "01-04                                       0   \n",
       "02-01                                       0   \n",
       "\n",
       "          US HOUSE_G22CD2_AKANA, JOE - ALO  \\\n",
       "precinct                                     \n",
       "01-01                                  926   \n",
       "01-02                                  597   \n",
       "01-03                                  900   \n",
       "01-04                                    0   \n",
       "02-01                                 1144   \n",
       "\n",
       "          US HOUSE_G22CD2_TIPPENS, MICHELLE ROSE - LIB  \\\n",
       "precinct                                                 \n",
       "01-01                                               89   \n",
       "01-02                                               70   \n",
       "01-03                                               62   \n",
       "01-04                                                0   \n",
       "02-01                                               97   \n",
       "\n",
       "          US HOUSE_G22CD2_TOKUDA, JILL N - ALO  \\\n",
       "precinct                                         \n",
       "01-01                                     2225   \n",
       "01-02                                     1479   \n",
       "01-03                                     2265   \n",
       "01-04                                        1   \n",
       "02-01                                     3797   \n",
       "\n",
       "          US SENATE_G22USS_BONOAN, FEENA M - ALO  \\\n",
       "precinct                                           \n",
       "01-01                                          0   \n",
       "01-02                                         43   \n",
       "01-03                                         31   \n",
       "01-04                                          0   \n",
       "02-01                                         31   \n",
       "\n",
       "          US SENATE_G22USS_DECKER, DAN - ALO  \\\n",
       "precinct                                       \n",
       "01-01                                      0   \n",
       "01-02                                     11   \n",
       "01-03                                     19   \n",
       "01-04                                      0   \n",
       "02-01                                     28   \n",
       "\n",
       "          US SENATE_G22USS_MCDERMOTT, BOB - REP  \\\n",
       "precinct                                          \n",
       "01-01                                       665   \n",
       "01-02                                       408   \n",
       "01-03                                       616   \n",
       "01-04                                         0   \n",
       "02-01                                       804   \n",
       "\n",
       "          US SENATE_G22USS_POHLMAN, EMMA JANE A - ALO  \\\n",
       "precinct                                                \n",
       "01-01                                              31   \n",
       "01-02                                              30   \n",
       "01-03                                              32   \n",
       "01-04                                               0   \n",
       "02-01                                              64   \n",
       "\n",
       "          US SENATE_G22USS_SCHATZ, BRIAN - ALO  All__  \n",
       "precinct                                               \n",
       "01-01                                     2552  21054  \n",
       "01-02                                     1699  14156  \n",
       "01-03                                     2587  21077  \n",
       "01-04                                        1      4  \n",
       "02-01                                     4214  32808  \n",
       "\n",
       "[5 rows x 158 columns]"
      ]
     },
     "execution_count": 111,
     "metadata": {},
     "output_type": "execute_result"
    }
   ],
   "source": [
    "er_pivot.head()"
   ]
  },
  {
   "cell_type": "code",
   "execution_count": null,
   "id": "cc2e8809",
   "metadata": {},
   "outputs": [],
   "source": []
  }
 ],
 "metadata": {
  "kernelspec": {
   "display_name": "Python 3",
   "language": "python",
   "name": "python3"
  },
  "language_info": {
   "codemirror_mode": {
    "name": "ipython",
    "version": 3
   },
   "file_extension": ".py",
   "mimetype": "text/x-python",
   "name": "python",
   "nbconvert_exporter": "python",
   "pygments_lexer": "ipython3",
   "version": "3.8.8"
  }
 },
 "nbformat": 4,
 "nbformat_minor": 5
}
