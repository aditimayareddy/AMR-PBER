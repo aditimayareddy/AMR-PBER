{
 "cells": [
  {
   "cell_type": "markdown",
   "id": "9b21be60",
   "metadata": {},
   "source": [
    "### Hawai'i 2022 General PBER Annotated file\n",
    "I annotated this more than usual to illustrate my steps. A clean version of my code is also available and titled \"AMR_HIG22_Clean\"\n",
    "\n",
    "- #TODO: Automate Vote Total Checks\n",
    "- #TODO : Fix Multilevel index before JER merge\n",
    "- #TODO : Change order of columns for each race to descending vote totals"
   ]
  },
  {
   "cell_type": "markdown",
   "id": "32fe3707",
   "metadata": {},
   "source": [
    "\n",
    "### Sources\n",
    "- [Hawaii Election results file from MEDSL](https://github.com/MEDSL/2022-elections-official/blob/main/individual_states/2022-hi-local-precinct-general.zip)\n",
    "- [Hawaii Precinct boundaries](https://geoportal.hawaii.gov/datasets/HiStateGIS::election-precincts/about)\n",
    "- [State Office of Elections Certified Report Summaries](https://elections.hawaii.gov/election-results/)\n",
    "- [State Office of Elections Certified Precinct Detail Report](https://elections.hawaii.gov/wp-content/results/precinct.pdf)"
   ]
  },
  {
   "cell_type": "code",
   "execution_count": 57,
   "id": "3576112c",
   "metadata": {},
   "outputs": [],
   "source": [
    "# load packages\n",
    "import numpy as np\n",
    "import pandas as pd\n",
    "import geopandas as gpd\n",
    "pd.set_option('display.max_rows', None) #see all columns of dataframe"
   ]
  },
  {
   "cell_type": "code",
   "execution_count": 58,
   "id": "fed40f27",
   "metadata": {},
   "outputs": [],
   "source": [
    "# Load in files\n",
    "gdf = gpd.read_file('HISHP/Election_Precincts.shp')\n",
    "er = pd.read_csv('HI-cleaned.csv')"
   ]
  },
  {
   "cell_type": "code",
   "execution_count": 59,
   "id": "27abdee9",
   "metadata": {},
   "outputs": [],
   "source": [
    "# check both dataframes for number of unique precincts and unique precinct ID for later merging\n",
    "#er.precinct.nunique() # 236 \n",
    "#gdf.dp.nunique() # 248"
   ]
  },
  {
   "cell_type": "code",
   "execution_count": 60,
   "id": "21436347",
   "metadata": {},
   "outputs": [],
   "source": [
    "# CHECK\n",
    "#er.precinct.head(1) == gdf.dp.head(1)\n",
    "#gdf.dp.head()\n",
    "#gdf.dp.dtype"
   ]
  },
  {
   "cell_type": "markdown",
   "id": "62df040a",
   "metadata": {},
   "source": [
    "#### summary\n",
    "- 12 More precincts in shapefile than in election returns data frame, will need to look into 12 'nonvoting' areas in shapefile\n",
    "- unique precinct id present in same format in both dfs for later merging"
   ]
  },
  {
   "cell_type": "markdown",
   "id": "9698386a",
   "metadata": {},
   "source": [
    "### Preparing Shapefile for merging\n",
    "Referenced [Metadata for shapefile](https://files.hawaii.gov/dbedt/op/gis/data/precincts.pdf)\n",
    "\n",
    "#### summary\n",
    "\n",
    "- Converted districts 18-05 and 42-01 from multiple geographies to multipolygons\n",
    "- subset df to columns required in final merged df"
   ]
  },
  {
   "cell_type": "code",
   "execution_count": 61,
   "id": "5be0e2f0",
   "metadata": {},
   "outputs": [],
   "source": [
    "# CHECK\n",
    "#gdf.crs"
   ]
  },
  {
   "cell_type": "code",
   "execution_count": 62,
   "id": "dcfc7d0a",
   "metadata": {},
   "outputs": [
    {
     "data": {
      "text/plain": [
       "Index(['objectid', 'dp', 'dpnum', 'dptype', 'county', 'zeropop', 'ballottype',\n",
       "       'us_house', 'state_hous', 'state_sena', 'county_cou', 'st_areasha',\n",
       "       'st_perimet', 'geometry'],\n",
       "      dtype='object')"
      ]
     },
     "execution_count": 62,
     "metadata": {},
     "output_type": "execute_result"
    }
   ],
   "source": [
    "gdf.columns"
   ]
  },
  {
   "cell_type": "code",
   "execution_count": 63,
   "id": "ecce23a3",
   "metadata": {},
   "outputs": [
    {
     "data": {
      "text/plain": [
       "dptype \n",
       "VBMO       239\n",
       "ZEROPOP     11\n",
       "dtype: int64"
      ]
     },
     "execution_count": 63,
     "metadata": {},
     "output_type": "execute_result"
    }
   ],
   "source": [
    "# check # of zero pop precincts\n",
    "gdf[['dptype']].value_counts() #239, still 3 more than er df"
   ]
  },
  {
   "cell_type": "code",
   "execution_count": 64,
   "id": "ec45ae47",
   "metadata": {},
   "outputs": [
    {
     "data": {
      "text/plain": [
       "(250, 14)"
      ]
     },
     "execution_count": 64,
     "metadata": {},
     "output_type": "execute_result"
    }
   ],
   "source": [
    "gdf.shape # gdf has 250 rows, but 248 unique precincts"
   ]
  },
  {
   "cell_type": "code",
   "execution_count": 65,
   "id": "97a8ab9f",
   "metadata": {},
   "outputs": [],
   "source": [
    "# gdf['ballottype'].unique().size #some precincts have same ballot type, precincts smaller than county council districts"
   ]
  },
  {
   "cell_type": "code",
   "execution_count": 66,
   "id": "8738ae8c",
   "metadata": {},
   "outputs": [
    {
     "data": {
      "text/plain": [
       "248"
      ]
     },
     "execution_count": 66,
     "metadata": {},
     "output_type": "execute_result"
    }
   ],
   "source": [
    "# look for duplicates\n",
    "#gdf['objectid'].nunique() #250\n",
    "gdf['dp'].nunique() #248"
   ]
  },
  {
   "cell_type": "code",
   "execution_count": 67,
   "id": "e4cf2b50",
   "metadata": {
    "scrolled": true
   },
   "outputs": [
    {
     "data": {
      "text/html": [
       "<div>\n",
       "<style scoped>\n",
       "    .dataframe tbody tr th:only-of-type {\n",
       "        vertical-align: middle;\n",
       "    }\n",
       "\n",
       "    .dataframe tbody tr th {\n",
       "        vertical-align: top;\n",
       "    }\n",
       "\n",
       "    .dataframe thead th {\n",
       "        text-align: right;\n",
       "    }\n",
       "</style>\n",
       "<table border=\"1\" class=\"dataframe\">\n",
       "  <thead>\n",
       "    <tr style=\"text-align: right;\">\n",
       "      <th></th>\n",
       "      <th>objectid</th>\n",
       "      <th>dp</th>\n",
       "      <th>dpnum</th>\n",
       "      <th>dptype</th>\n",
       "      <th>county</th>\n",
       "      <th>zeropop</th>\n",
       "      <th>ballottype</th>\n",
       "      <th>us_house</th>\n",
       "      <th>state_hous</th>\n",
       "      <th>state_sena</th>\n",
       "      <th>county_cou</th>\n",
       "      <th>st_areasha</th>\n",
       "      <th>st_perimet</th>\n",
       "      <th>geometry</th>\n",
       "    </tr>\n",
       "  </thead>\n",
       "  <tbody>\n",
       "    <tr>\n",
       "      <th>246</th>\n",
       "      <td>247</td>\n",
       "      <td>42-01</td>\n",
       "      <td>4201</td>\n",
       "      <td>VBMO</td>\n",
       "      <td>OAHU</td>\n",
       "      <td>None</td>\n",
       "      <td>CD1-H42-S20-CC9</td>\n",
       "      <td>CD1</td>\n",
       "      <td>H42</td>\n",
       "      <td>S20</td>\n",
       "      <td>CC9</td>\n",
       "      <td>9.219847e+04</td>\n",
       "      <td>1370.015977</td>\n",
       "      <td>POLYGON ((-158.03044 21.33709, -158.03090 21.3...</td>\n",
       "    </tr>\n",
       "    <tr>\n",
       "      <th>247</th>\n",
       "      <td>248</td>\n",
       "      <td>42-01</td>\n",
       "      <td>4201</td>\n",
       "      <td>VBMO</td>\n",
       "      <td>OAHU</td>\n",
       "      <td>None</td>\n",
       "      <td>CD1-H42-S20-CC9</td>\n",
       "      <td>CD1</td>\n",
       "      <td>H42</td>\n",
       "      <td>S20</td>\n",
       "      <td>CC9</td>\n",
       "      <td>2.152954e+05</td>\n",
       "      <td>2002.045649</td>\n",
       "      <td>POLYGON ((-158.02814 21.34041, -158.02829 21.3...</td>\n",
       "    </tr>\n",
       "    <tr>\n",
       "      <th>248</th>\n",
       "      <td>249</td>\n",
       "      <td>18-05</td>\n",
       "      <td>1805</td>\n",
       "      <td>VBMO</td>\n",
       "      <td>OAHU</td>\n",
       "      <td>None</td>\n",
       "      <td>CD1-H18-S09-CC4</td>\n",
       "      <td>CD1</td>\n",
       "      <td>H18</td>\n",
       "      <td>S09</td>\n",
       "      <td>CC4</td>\n",
       "      <td>2.572862e+05</td>\n",
       "      <td>2852.785704</td>\n",
       "      <td>POLYGON ((-157.71873 21.28422, -157.71864 21.2...</td>\n",
       "    </tr>\n",
       "    <tr>\n",
       "      <th>249</th>\n",
       "      <td>250</td>\n",
       "      <td>18-05</td>\n",
       "      <td>1805</td>\n",
       "      <td>VBMO</td>\n",
       "      <td>OAHU</td>\n",
       "      <td>None</td>\n",
       "      <td>CD1-H18-S09-CC4</td>\n",
       "      <td>CD1</td>\n",
       "      <td>H18</td>\n",
       "      <td>S09</td>\n",
       "      <td>CC4</td>\n",
       "      <td>2.780304e+06</td>\n",
       "      <td>11075.929342</td>\n",
       "      <td>POLYGON ((-157.70717 21.31775, -157.70638 21.3...</td>\n",
       "    </tr>\n",
       "  </tbody>\n",
       "</table>\n",
       "</div>"
      ],
      "text/plain": [
       "     objectid     dp  dpnum dptype county zeropop       ballottype us_house  \\\n",
       "246       247  42-01   4201   VBMO   OAHU    None  CD1-H42-S20-CC9      CD1   \n",
       "247       248  42-01   4201   VBMO   OAHU    None  CD1-H42-S20-CC9      CD1   \n",
       "248       249  18-05   1805   VBMO   OAHU    None  CD1-H18-S09-CC4      CD1   \n",
       "249       250  18-05   1805   VBMO   OAHU    None  CD1-H18-S09-CC4      CD1   \n",
       "\n",
       "    state_hous state_sena county_cou    st_areasha    st_perimet  \\\n",
       "246        H42        S20        CC9  9.219847e+04   1370.015977   \n",
       "247        H42        S20        CC9  2.152954e+05   2002.045649   \n",
       "248        H18        S09        CC4  2.572862e+05   2852.785704   \n",
       "249        H18        S09        CC4  2.780304e+06  11075.929342   \n",
       "\n",
       "                                              geometry  \n",
       "246  POLYGON ((-158.03044 21.33709, -158.03090 21.3...  \n",
       "247  POLYGON ((-158.02814 21.34041, -158.02829 21.3...  \n",
       "248  POLYGON ((-157.71873 21.28422, -157.71864 21.2...  \n",
       "249  POLYGON ((-157.70717 21.31775, -157.70638 21.3...  "
      ]
     },
     "execution_count": 67,
     "metadata": {},
     "output_type": "execute_result"
    }
   ],
   "source": [
    "# filtering duplicated rows\n",
    "gdf[gdf.duplicated(subset='dp', keep=False)]"
   ]
  },
  {
   "cell_type": "markdown",
   "id": "4da8078a",
   "metadata": {},
   "source": [
    "noticing that for each pair, every column seems to be duplicated exactly, except columns pertaining to geometry."
   ]
  },
  {
   "cell_type": "code",
   "execution_count": 68,
   "id": "5817bece",
   "metadata": {},
   "outputs": [
    {
     "data": {
      "text/plain": [
       "<AxesSubplot:>"
      ]
     },
     "execution_count": 68,
     "metadata": {},
     "output_type": "execute_result"
    },
    {
     "data": {
      "image/png": "[encoded data removed]",
      "text/plain": [
       "<Figure size 432x288 with 1 Axes>"
      ]
     },
     "metadata": {
      "needs_background": "light"
     },
     "output_type": "display_data"
    },
    {
     "data": {
      "image/png": "[encoded data removed]",
      "text/plain": [
       "<Figure size 432x288 with 1 Axes>"
      ]
     },
     "metadata": {
      "needs_background": "light"
     },
     "output_type": "display_data"
    }
   ],
   "source": [
    "# look at geometries of precinct 18-05, and 42-01\n",
    "gdf.iloc[[-1,-2]].plot()\n",
    "gdf.iloc[[-3,-4]].plot()"
   ]
  },
  {
   "cell_type": "markdown",
   "id": "1be7461f",
   "metadata": {},
   "source": [
    "For each pair, the two geometries seem to comprise one non-contiguous precinct. Looked at all four of these geometries in QGIS with OSM to confirm they are two precincts."
   ]
  },
  {
   "cell_type": "code",
   "execution_count": 69,
   "id": "19db1c52",
   "metadata": {},
   "outputs": [
    {
     "data": {
      "text/plain": [
       "248"
      ]
     },
     "execution_count": 69,
     "metadata": {},
     "output_type": "execute_result"
    }
   ],
   "source": [
    "#check before changing df\n",
    "len(gdf.dissolve(by= 'dp'))"
   ]
  },
  {
   "cell_type": "code",
   "execution_count": 70,
   "id": "b2a21e8c",
   "metadata": {},
   "outputs": [],
   "source": [
    "gdf = gdf.dissolve(by= 'dp').reset_index()"
   ]
  },
  {
   "cell_type": "code",
   "execution_count": 71,
   "id": "0bcf9bcf",
   "metadata": {},
   "outputs": [
    {
     "data": {
      "text/html": [
       "<div>\n",
       "<style scoped>\n",
       "    .dataframe tbody tr th:only-of-type {\n",
       "        vertical-align: middle;\n",
       "    }\n",
       "\n",
       "    .dataframe tbody tr th {\n",
       "        vertical-align: top;\n",
       "    }\n",
       "\n",
       "    .dataframe thead th {\n",
       "        text-align: right;\n",
       "    }\n",
       "</style>\n",
       "<table border=\"1\" class=\"dataframe\">\n",
       "  <thead>\n",
       "    <tr style=\"text-align: right;\">\n",
       "      <th></th>\n",
       "      <th>dp</th>\n",
       "      <th>geometry</th>\n",
       "      <th>objectid</th>\n",
       "      <th>dpnum</th>\n",
       "      <th>dptype</th>\n",
       "      <th>county</th>\n",
       "      <th>zeropop</th>\n",
       "      <th>ballottype</th>\n",
       "      <th>us_house</th>\n",
       "      <th>state_hous</th>\n",
       "      <th>state_sena</th>\n",
       "      <th>county_cou</th>\n",
       "      <th>st_areasha</th>\n",
       "      <th>st_perimet</th>\n",
       "    </tr>\n",
       "  </thead>\n",
       "  <tbody>\n",
       "    <tr>\n",
       "      <th>0</th>\n",
       "      <td>01-01</td>\n",
       "      <td>POLYGON ((-155.69865 20.18589, -155.69855 20.1...</td>\n",
       "      <td>1</td>\n",
       "      <td>101</td>\n",
       "      <td>VBMO</td>\n",
       "      <td>HAWAII</td>\n",
       "      <td>None</td>\n",
       "      <td>CD2-H01-S04-CC1</td>\n",
       "      <td>CD2</td>\n",
       "      <td>H01</td>\n",
       "      <td>S04</td>\n",
       "      <td>CC1</td>\n",
       "      <td>9.949400e+08</td>\n",
       "      <td>243835.454121</td>\n",
       "    </tr>\n",
       "    <tr>\n",
       "      <th>1</th>\n",
       "      <td>01-02</td>\n",
       "      <td>POLYGON ((-155.08329 19.85094, -155.08346 19.8...</td>\n",
       "      <td>2</td>\n",
       "      <td>102</td>\n",
       "      <td>VBMO</td>\n",
       "      <td>HAWAII</td>\n",
       "      <td>None</td>\n",
       "      <td>CD2-H01-S01-CC1</td>\n",
       "      <td>CD2</td>\n",
       "      <td>H01</td>\n",
       "      <td>S01</td>\n",
       "      <td>CC1</td>\n",
       "      <td>1.996375e+08</td>\n",
       "      <td>90596.525487</td>\n",
       "    </tr>\n",
       "    <tr>\n",
       "      <th>2</th>\n",
       "      <td>01-03</td>\n",
       "      <td>POLYGON ((-155.33399 19.78996, -155.33385 19.7...</td>\n",
       "      <td>3</td>\n",
       "      <td>103</td>\n",
       "      <td>VBMO</td>\n",
       "      <td>HAWAII</td>\n",
       "      <td>None</td>\n",
       "      <td>CD2-H01-S01-CC2</td>\n",
       "      <td>CD2</td>\n",
       "      <td>H01</td>\n",
       "      <td>S01</td>\n",
       "      <td>CC2</td>\n",
       "      <td>4.157142e+08</td>\n",
       "      <td>96097.575789</td>\n",
       "    </tr>\n",
       "    <tr>\n",
       "      <th>3</th>\n",
       "      <td>01-04</td>\n",
       "      <td>POLYGON ((-155.43905 19.90430, -155.43883 19.9...</td>\n",
       "      <td>4</td>\n",
       "      <td>104</td>\n",
       "      <td>ZEROPOP</td>\n",
       "      <td>HAWAII</td>\n",
       "      <td>yes</td>\n",
       "      <td>CD2-H01-S04-CC2</td>\n",
       "      <td>CD2</td>\n",
       "      <td>H01</td>\n",
       "      <td>S04</td>\n",
       "      <td>CC2</td>\n",
       "      <td>4.202857e+08</td>\n",
       "      <td>100538.651270</td>\n",
       "    </tr>\n",
       "    <tr>\n",
       "      <th>4</th>\n",
       "      <td>02-01</td>\n",
       "      <td>POLYGON ((-155.08683 19.72785, -155.08679 19.7...</td>\n",
       "      <td>5</td>\n",
       "      <td>201</td>\n",
       "      <td>VBMO</td>\n",
       "      <td>HAWAII</td>\n",
       "      <td>None</td>\n",
       "      <td>CD2-H02-S01-CC2</td>\n",
       "      <td>CD2</td>\n",
       "      <td>H02</td>\n",
       "      <td>S01</td>\n",
       "      <td>CC2</td>\n",
       "      <td>1.954235e+07</td>\n",
       "      <td>28533.769583</td>\n",
       "    </tr>\n",
       "  </tbody>\n",
       "</table>\n",
       "</div>"
      ],
      "text/plain": [
       "      dp                                           geometry  objectid  dpnum  \\\n",
       "0  01-01  POLYGON ((-155.69865 20.18589, -155.69855 20.1...         1    101   \n",
       "1  01-02  POLYGON ((-155.08329 19.85094, -155.08346 19.8...         2    102   \n",
       "2  01-03  POLYGON ((-155.33399 19.78996, -155.33385 19.7...         3    103   \n",
       "3  01-04  POLYGON ((-155.43905 19.90430, -155.43883 19.9...         4    104   \n",
       "4  02-01  POLYGON ((-155.08683 19.72785, -155.08679 19.7...         5    201   \n",
       "\n",
       "    dptype  county zeropop       ballottype us_house state_hous state_sena  \\\n",
       "0     VBMO  HAWAII    None  CD2-H01-S04-CC1      CD2        H01        S04   \n",
       "1     VBMO  HAWAII    None  CD2-H01-S01-CC1      CD2        H01        S01   \n",
       "2     VBMO  HAWAII    None  CD2-H01-S01-CC2      CD2        H01        S01   \n",
       "3  ZEROPOP  HAWAII     yes  CD2-H01-S04-CC2      CD2        H01        S04   \n",
       "4     VBMO  HAWAII    None  CD2-H02-S01-CC2      CD2        H02        S01   \n",
       "\n",
       "  county_cou    st_areasha     st_perimet  \n",
       "0        CC1  9.949400e+08  243835.454121  \n",
       "1        CC1  1.996375e+08   90596.525487  \n",
       "2        CC2  4.157142e+08   96097.575789  \n",
       "3        CC2  4.202857e+08  100538.651270  \n",
       "4        CC2  1.954235e+07   28533.769583  "
      ]
     },
     "execution_count": 71,
     "metadata": {},
     "output_type": "execute_result"
    }
   ],
   "source": [
    "gdf.head()"
   ]
  },
  {
   "cell_type": "code",
   "execution_count": 72,
   "id": "99b76722",
   "metadata": {},
   "outputs": [
    {
     "data": {
      "text/plain": [
       "237"
      ]
     },
     "execution_count": 72,
     "metadata": {},
     "output_type": "execute_result"
    }
   ],
   "source": [
    "#check # of populated unique precincts in shapefile\n",
    "gdf['dp'].nunique() - int(gdf['zeropop'].value_counts())"
   ]
  },
  {
   "cell_type": "markdown",
   "id": "158defb7",
   "metadata": {},
   "source": [
    "Shapefile still has 1 more 'populated' precinct than the election returns"
   ]
  },
  {
   "cell_type": "code",
   "execution_count": 73,
   "id": "109a1667",
   "metadata": {},
   "outputs": [
    {
     "data": {
      "text/plain": [
       "Index(['dp', 'geometry', 'objectid', 'dpnum', 'dptype', 'county', 'zeropop',\n",
       "       'ballottype', 'us_house', 'state_hous', 'state_sena', 'county_cou',\n",
       "       'st_areasha', 'st_perimet'],\n",
       "      dtype='object')"
      ]
     },
     "execution_count": 73,
     "metadata": {},
     "output_type": "execute_result"
    }
   ],
   "source": [
    "#more investigating\n",
    "gdf.columns"
   ]
  },
  {
   "cell_type": "code",
   "execution_count": 74,
   "id": "f273ee9c",
   "metadata": {
    "scrolled": false
   },
   "outputs": [
    {
     "data": {
      "text/plain": [
       "OAHU      154\n",
       "HAWAII     42\n",
       "MAUI       36\n",
       "KAUAI      16\n",
       "Name: county, dtype: int64"
      ]
     },
     "execution_count": 74,
     "metadata": {},
     "output_type": "execute_result"
    }
   ],
   "source": [
    "gdf.county.value_counts() #good to know for later, # of precincts in each county in this shapefile, and # and name of counties"
   ]
  },
  {
   "cell_type": "code",
   "execution_count": 75,
   "id": "33f95151",
   "metadata": {},
   "outputs": [],
   "source": [
    "#desperation searching for anomalous final precinct\n",
    "#gdf.county_cou.nunique()\n",
    "#gdf.ballottype.value_counts()"
   ]
  },
  {
   "cell_type": "markdown",
   "id": "c2634a30",
   "metadata": {},
   "source": [
    "Looked at previous [PBER files on RDH github](https://github.com/nonpartisan-redistricting-datahub/pber_collection) to see column conventions\n",
    "\n",
    "1. PRECINCT   County precinct identifier\n",
    "2. SLDL_DIST  State House District\n",
    "3. SLDU_DIST  State Senate District  "
   ]
  },
  {
   "cell_type": "code",
   "execution_count": 76,
   "id": "99a18c95",
   "metadata": {},
   "outputs": [],
   "source": [
    "#subset gdf for merging\n",
    "gdf_sub = gdf[['dp', 'county', 'us_house', 'state_hous', 'state_sena','geometry']].copy()"
   ]
  },
  {
   "cell_type": "code",
   "execution_count": 77,
   "id": "c3b9038e",
   "metadata": {
    "scrolled": true
   },
   "outputs": [
    {
     "data": {
      "text/html": [
       "<div>\n",
       "<style scoped>\n",
       "    .dataframe tbody tr th:only-of-type {\n",
       "        vertical-align: middle;\n",
       "    }\n",
       "\n",
       "    .dataframe tbody tr th {\n",
       "        vertical-align: top;\n",
       "    }\n",
       "\n",
       "    .dataframe thead th {\n",
       "        text-align: right;\n",
       "    }\n",
       "</style>\n",
       "<table border=\"1\" class=\"dataframe\">\n",
       "  <thead>\n",
       "    <tr style=\"text-align: right;\">\n",
       "      <th></th>\n",
       "      <th>gdfPRECINCT</th>\n",
       "      <th>gdfCOUNTY</th>\n",
       "      <th>gdfUSHOUSE</th>\n",
       "      <th>gdfSLDL</th>\n",
       "      <th>gdfSLDU</th>\n",
       "      <th>geometry</th>\n",
       "    </tr>\n",
       "  </thead>\n",
       "  <tbody>\n",
       "    <tr>\n",
       "      <th>0</th>\n",
       "      <td>01-01</td>\n",
       "      <td>HAWAII</td>\n",
       "      <td>CD2</td>\n",
       "      <td>H01</td>\n",
       "      <td>S04</td>\n",
       "      <td>POLYGON ((-155.69865 20.18589, -155.69855 20.1...</td>\n",
       "    </tr>\n",
       "    <tr>\n",
       "      <th>1</th>\n",
       "      <td>01-02</td>\n",
       "      <td>HAWAII</td>\n",
       "      <td>CD2</td>\n",
       "      <td>H01</td>\n",
       "      <td>S01</td>\n",
       "      <td>POLYGON ((-155.08329 19.85094, -155.08346 19.8...</td>\n",
       "    </tr>\n",
       "  </tbody>\n",
       "</table>\n",
       "</div>"
      ],
      "text/plain": [
       "  gdfPRECINCT gdfCOUNTY gdfUSHOUSE gdfSLDL gdfSLDU  \\\n",
       "0       01-01    HAWAII        CD2     H01     S04   \n",
       "1       01-02    HAWAII        CD2     H01     S01   \n",
       "\n",
       "                                            geometry  \n",
       "0  POLYGON ((-155.69865 20.18589, -155.69855 20.1...  \n",
       "1  POLYGON ((-155.08329 19.85094, -155.08346 19.8...  "
      ]
     },
     "execution_count": 77,
     "metadata": {},
     "output_type": "execute_result"
    }
   ],
   "source": [
    "#rename columns\n",
    "cols = ['gdfPRECINCT', 'gdfCOUNTY', 'gdfUSHOUSE', 'gdfSLDL', 'gdfSLDU', 'geometry']\n",
    "gdf_sub.columns = cols\n",
    "gdf_sub.head(2)"
   ]
  },
  {
   "cell_type": "code",
   "execution_count": 79,
   "id": "a920a934",
   "metadata": {},
   "outputs": [],
   "source": [
    "gdf_sub['gdfSLDL'] = gdf_sub['gdfSLDL'].apply(lambda x: str(x)[1:])\n",
    "gdf_sub['gdfSLDU'] = gdf_sub['gdfSLDU'].apply(lambda x: str(x)[1:])\n",
    "gdf_sub['gdfUSHOUSE'] = gdf_sub['gdfUSHOUSE'].apply(lambda x: str(x)[2:])"
   ]
  },
  {
   "cell_type": "code",
   "execution_count": 80,
   "id": "c4927dd3",
   "metadata": {},
   "outputs": [
    {
     "data": {
      "text/html": [
       "<div>\n",
       "<style scoped>\n",
       "    .dataframe tbody tr th:only-of-type {\n",
       "        vertical-align: middle;\n",
       "    }\n",
       "\n",
       "    .dataframe tbody tr th {\n",
       "        vertical-align: top;\n",
       "    }\n",
       "\n",
       "    .dataframe thead th {\n",
       "        text-align: right;\n",
       "    }\n",
       "</style>\n",
       "<table border=\"1\" class=\"dataframe\">\n",
       "  <thead>\n",
       "    <tr style=\"text-align: right;\">\n",
       "      <th></th>\n",
       "      <th>gdfPRECINCT</th>\n",
       "      <th>gdfCOUNTY</th>\n",
       "      <th>gdfUSHOUSE</th>\n",
       "      <th>gdfSLDL</th>\n",
       "      <th>gdfSLDU</th>\n",
       "      <th>geometry</th>\n",
       "    </tr>\n",
       "  </thead>\n",
       "  <tbody>\n",
       "    <tr>\n",
       "      <th>0</th>\n",
       "      <td>01-01</td>\n",
       "      <td>HAWAII</td>\n",
       "      <td>2</td>\n",
       "      <td>01</td>\n",
       "      <td>04</td>\n",
       "      <td>POLYGON ((-155.69865 20.18589, -155.69855 20.1...</td>\n",
       "    </tr>\n",
       "    <tr>\n",
       "      <th>1</th>\n",
       "      <td>01-02</td>\n",
       "      <td>HAWAII</td>\n",
       "      <td>2</td>\n",
       "      <td>01</td>\n",
       "      <td>01</td>\n",
       "      <td>POLYGON ((-155.08329 19.85094, -155.08346 19.8...</td>\n",
       "    </tr>\n",
       "  </tbody>\n",
       "</table>\n",
       "</div>"
      ],
      "text/plain": [
       "  gdfPRECINCT gdfCOUNTY gdfUSHOUSE gdfSLDL gdfSLDU  \\\n",
       "0       01-01    HAWAII          2      01      04   \n",
       "1       01-02    HAWAII          2      01      01   \n",
       "\n",
       "                                            geometry  \n",
       "0  POLYGON ((-155.69865 20.18589, -155.69855 20.1...  \n",
       "1  POLYGON ((-155.08329 19.85094, -155.08346 19.8...  "
      ]
     },
     "execution_count": 80,
     "metadata": {},
     "output_type": "execute_result"
    }
   ],
   "source": [
    "# CHECK\n",
    "gdf_sub.head(2)"
   ]
  },
  {
   "cell_type": "markdown",
   "id": "d9f9d018",
   "metadata": {},
   "source": [
    "### Preparing Elections Returns for merging\n",
    "\n",
    "#### summary\n",
    "\n",
    "- subset to statewide offices, or offices pertaining to a state-wide governing body\n",
    "- Modified to VEST naming conventions (with further modifications to ensure under 10 letter naming convention for offices with contests in districts)\n",
    "- subset df to columns required in final merged df\n",
    "- created df for readme key"
   ]
  },
  {
   "cell_type": "code",
   "execution_count": 93,
   "id": "1166c94a",
   "metadata": {
    "scrolled": true
   },
   "outputs": [],
   "source": [
    "#er.head()\n",
    "#er.shape()\n",
    "#er.isnull().sum()"
   ]
  },
  {
   "cell_type": "code",
   "execution_count": 94,
   "id": "d4470aec",
   "metadata": {},
   "outputs": [
    {
     "data": {
      "text/plain": [
       "False    16555\n",
       "Name: writein, dtype: int64"
      ]
     },
     "execution_count": 94,
     "metadata": {},
     "output_type": "execute_result"
    }
   ],
   "source": [
    "# Checck Write In\n",
    "er.writein.value_counts()"
   ]
  },
  {
   "cell_type": "code",
   "execution_count": 95,
   "id": "3c7ea151",
   "metadata": {},
   "outputs": [
    {
     "data": {
      "text/plain": [
       "236"
      ]
     },
     "execution_count": 95,
     "metadata": {},
     "output_type": "execute_result"
    }
   ],
   "source": [
    "#check how many unique precincts\n",
    "er['precinct'].nunique()"
   ]
  },
  {
   "cell_type": "code",
   "execution_count": 96,
   "id": "938c065a",
   "metadata": {
    "scrolled": true
   },
   "outputs": [
    {
     "data": {
      "text/plain": [
       "array(['US SENATE', 'US HOUSE', 'GOVERNOR', 'STATE SENATOR',\n",
       "       'HAWAII RESIDENT TRUSTEE VACANCY', 'AT-LARGE TRUSTEE',\n",
       "       \"1 HAWAI'I: MEMBERSHIP FOR THE BOARD OF ETHICS\",\n",
       "       \"2 HAWAI'I: EXPANDING THE DUTIES OF THE COUNTY AUDITOR\",\n",
       "       \"3 HAWAI'I: ESTABLISHING A YOUTH COMMISSION\", 'COUNCILMEMBER',\n",
       "       'STATE HOUSE', 'MAYOR', 'COUNCILMEMBER (EAST MAUI)',\n",
       "       'COUNCILMEMBER (WEST MAUI)',\n",
       "       'COUNCILMEMBER (WAILUKU-WAIHEE-WAIKAPU)',\n",
       "       'COUNCILMEMBER (KAHULUI)', 'COUNCILMEMBER (SOUTH MAUI)',\n",
       "       'COUNCILMEMBER (MAKAWAO-HAIKU-PAIA)', 'COUNCILMEMBER (UPCOUNTRY)',\n",
       "       'COUNCILMEMBER (LANAI)', 'COUNCILMEMBER (MOLOKAI)',\n",
       "       'MAUI COMMISSION PROPOSAL 1: CREATE A SEPARATE HOUSING DEPARTMENT DEDICATED TO AFFORDABLE HOUSING; INCLUDING AN ADVISORY BOARD AND HAWAIIAN HOME LANDS LIAISON',\n",
       "       \"MAUI COMMISSION PROPOSAL 2: DEPARTMENT OF 'OIWI RESOURCES\",\n",
       "       'MAUI COMMISSION PROPOSAL 3: ETHICS AND FINANCIAL DISCLOSURES',\n",
       "       'MAUI COMMISSION PROPOSAL 4: PLANNING COMMISSIONS AND COMMUNITY PLAN UPDATES',\n",
       "       'MAUI COMMISSION PROPOSAL 5: COUNCIL ORGANIZATIONAL MEETING, REMOTE ACCESS, GOVERNMENT RECORDS',\n",
       "       'MAUI COMMISSION PROPOSAL 6: FINES AND PENALTIES',\n",
       "       'MAUI COMMISSION PROPOSAL 7: ADMINISTRATIVE DEPARTMENT HEADS',\n",
       "       'MAUI COMMISSION PROPOSAL 8: COUNTY CLERK',\n",
       "       'MAUI COMMISSION PROPOSAL 9: POLICE CHIEF',\n",
       "       \"MAUI COUNCIL ALTERNATIVE PROPOSAL 9A: COUNCIL'S ALTERNATIVE TO PROPOSAL 9; POLICE CHIEF\",\n",
       "       'MAUI COMMISSION PROPOSAL 10: INDEPENDENT NOMINATION BOARD',\n",
       "       \"MAUI COUNCIL ALTERNATIVE PROPOSAL 10A: COUNCIL'S ALTERNATIVE TO PROPOSAL 10; MAKEUP OF INDEPENDENT NOMINATION BOARD\",\n",
       "       'MAUI COMMISSION PROPOSAL 11: IMPACTS OF CHARTER AMENDMENTS ON COUNTY TAXATION AND SPENDING',\n",
       "       'MAUI COUNCIL PROPOSAL 12: MAUI COUNTY COMMUNITY WATER AUTHORITIES',\n",
       "       'MAUI COUNCIL PROPOSAL 13: PROMOTING CLIMATE CHANGE ADAPTATION',\n",
       "       'RELATING TO PROSECUTOR VACANCY',\n",
       "       'RELATING TO ELECTRIC POWER AUTHORITY',\n",
       "       'RELATING TO SALARY COMMISSION', 'RELATING TO SURETY BONDS',\n",
       "       'CHARTER QUESTION #1', 'CHARTER QUESTION #2',\n",
       "       'CHARTER QUESTION #3', 'CHARTER QUESTION #4'], dtype=object)"
      ]
     },
     "execution_count": 96,
     "metadata": {},
     "output_type": "execute_result"
    }
   ],
   "source": [
    "er.office.unique()"
   ]
  },
  {
   "cell_type": "markdown",
   "id": "9cb830c5",
   "metadata": {},
   "source": [
    "Checked [Ballotpedia](https://ballotpedia.org/Hawaii_state_executive_official_elections,_2022) for statewide races, and races pertaining to a state-wide governing body. There are 7 types of offices that fit this criteria.\n",
    "\n",
    "    - US Senate\n",
    "    - US House\n",
    "    - Governor/Lt Gov\n",
    "    - State Senator\n",
    "    - State House\n",
    "    - Office of Hawaiian Affairs At Large Trustee\n",
    "    - Office of Hawaiian Affairs Resident Trustee\n",
    "\n",
    "    - charter questions are COUNTY wide\n",
    "    - councilmembers are also COUNTY wide"
   ]
  },
  {
   "cell_type": "code",
   "execution_count": 97,
   "id": "fd789775",
   "metadata": {},
   "outputs": [],
   "source": [
    "# subset df to rows pertaining to offices of interest\n",
    "office_list = ['US SENATE', 'US HOUSE', 'GOVERNOR', 'STATE SENATOR', 'STATE HOUSE', 'AT-LARGE TRUSTEE', 'HAWAII RESIDENT TRUSTEE VACANCY']\n",
    "er_sub = er[er['office'].isin(office_list)]"
   ]
  },
  {
   "cell_type": "code",
   "execution_count": 98,
   "id": "a3e3ce5a",
   "metadata": {
    "scrolled": true
   },
   "outputs": [
    {
     "data": {
      "text/plain": [
       "7"
      ]
     },
     "execution_count": 98,
     "metadata": {},
     "output_type": "execute_result"
    }
   ],
   "source": [
    "# CHECK, looking for 7 types of races\n",
    "er_sub.office.value_counts().nunique()"
   ]
  },
  {
   "cell_type": "code",
   "execution_count": 99,
   "id": "e75d8577",
   "metadata": {
    "scrolled": true
   },
   "outputs": [
    {
     "data": {
      "text/html": [
       "<div>\n",
       "<style scoped>\n",
       "    .dataframe tbody tr th:only-of-type {\n",
       "        vertical-align: middle;\n",
       "    }\n",
       "\n",
       "    .dataframe tbody tr th {\n",
       "        vertical-align: top;\n",
       "    }\n",
       "\n",
       "    .dataframe thead th {\n",
       "        text-align: right;\n",
       "    }\n",
       "</style>\n",
       "<table border=\"1\" class=\"dataframe\">\n",
       "  <thead>\n",
       "    <tr style=\"text-align: right;\">\n",
       "      <th></th>\n",
       "      <th>precinct</th>\n",
       "      <th>district</th>\n",
       "      <th>office</th>\n",
       "      <th>writein</th>\n",
       "      <th>party_detailed</th>\n",
       "      <th>party_simplified</th>\n",
       "      <th>candidate</th>\n",
       "      <th>dataverse</th>\n",
       "      <th>mode</th>\n",
       "      <th>votes</th>\n",
       "      <th>...</th>\n",
       "      <th>state_fips</th>\n",
       "      <th>state_cen</th>\n",
       "      <th>state_ic</th>\n",
       "      <th>date</th>\n",
       "      <th>jurisdiction_fips</th>\n",
       "      <th>county_name</th>\n",
       "      <th>county_fips</th>\n",
       "      <th>readme_check</th>\n",
       "      <th>magnitude</th>\n",
       "      <th>special</th>\n",
       "    </tr>\n",
       "  </thead>\n",
       "  <tbody>\n",
       "    <tr>\n",
       "      <th>0</th>\n",
       "      <td>01-01</td>\n",
       "      <td>NaN</td>\n",
       "      <td>US SENATE</td>\n",
       "      <td>False</td>\n",
       "      <td>LIBERTARIAN</td>\n",
       "      <td>LIBERTARIAN</td>\n",
       "      <td>FEENA M BONOAN</td>\n",
       "      <td>SENATE</td>\n",
       "      <td>MAIL IN</td>\n",
       "      <td>35</td>\n",
       "      <td>...</td>\n",
       "      <td>15</td>\n",
       "      <td>95</td>\n",
       "      <td>82</td>\n",
       "      <td>2022-11-08</td>\n",
       "      <td>15001</td>\n",
       "      <td>HAWAII</td>\n",
       "      <td>15001</td>\n",
       "      <td>True</td>\n",
       "      <td>1</td>\n",
       "      <td>False</td>\n",
       "    </tr>\n",
       "    <tr>\n",
       "      <th>1</th>\n",
       "      <td>01-01</td>\n",
       "      <td>NaN</td>\n",
       "      <td>US SENATE</td>\n",
       "      <td>False</td>\n",
       "      <td>ALOHA AINA PARTY</td>\n",
       "      <td>OTHER</td>\n",
       "      <td>DAN DECKER</td>\n",
       "      <td>SENATE</td>\n",
       "      <td>MAIL IN</td>\n",
       "      <td>19</td>\n",
       "      <td>...</td>\n",
       "      <td>15</td>\n",
       "      <td>95</td>\n",
       "      <td>82</td>\n",
       "      <td>2022-11-08</td>\n",
       "      <td>15001</td>\n",
       "      <td>HAWAII</td>\n",
       "      <td>15001</td>\n",
       "      <td>True</td>\n",
       "      <td>1</td>\n",
       "      <td>False</td>\n",
       "    </tr>\n",
       "  </tbody>\n",
       "</table>\n",
       "<p>2 rows × 25 columns</p>\n",
       "</div>"
      ],
      "text/plain": [
       "  precinct  district     office  writein    party_detailed party_simplified  \\\n",
       "0    01-01       NaN  US SENATE    False       LIBERTARIAN      LIBERTARIAN   \n",
       "1    01-01       NaN  US SENATE    False  ALOHA AINA PARTY            OTHER   \n",
       "\n",
       "        candidate dataverse     mode  votes  ... state_fips state_cen  \\\n",
       "0  FEENA M BONOAN    SENATE  MAIL IN     35  ...         15        95   \n",
       "1      DAN DECKER    SENATE  MAIL IN     19  ...         15        95   \n",
       "\n",
       "   state_ic        date jurisdiction_fips  county_name  county_fips  \\\n",
       "0        82  2022-11-08             15001       HAWAII        15001   \n",
       "1        82  2022-11-08             15001       HAWAII        15001   \n",
       "\n",
       "   readme_check magnitude  special  \n",
       "0          True         1    False  \n",
       "1          True         1    False  \n",
       "\n",
       "[2 rows x 25 columns]"
      ]
     },
     "execution_count": 99,
     "metadata": {},
     "output_type": "execute_result"
    }
   ],
   "source": [
    "er_sub.head(2)"
   ]
  },
  {
   "cell_type": "code",
   "execution_count": 100,
   "id": "e89c4ce5",
   "metadata": {},
   "outputs": [],
   "source": [
    "#subset columns\n",
    "er_sub = er_sub[['precinct', 'office', 'party_detailed', 'candidate', 'mode', 'votes']]"
   ]
  },
  {
   "cell_type": "code",
   "execution_count": 101,
   "id": "8e510a30",
   "metadata": {
    "scrolled": true
   },
   "outputs": [
    {
     "data": {
      "text/html": [
       "<div>\n",
       "<style scoped>\n",
       "    .dataframe tbody tr th:only-of-type {\n",
       "        vertical-align: middle;\n",
       "    }\n",
       "\n",
       "    .dataframe tbody tr th {\n",
       "        vertical-align: top;\n",
       "    }\n",
       "\n",
       "    .dataframe thead th {\n",
       "        text-align: right;\n",
       "    }\n",
       "</style>\n",
       "<table border=\"1\" class=\"dataframe\">\n",
       "  <thead>\n",
       "    <tr style=\"text-align: right;\">\n",
       "      <th></th>\n",
       "      <th>precinct</th>\n",
       "      <th>office</th>\n",
       "      <th>party_detailed</th>\n",
       "      <th>candidate</th>\n",
       "      <th>mode</th>\n",
       "      <th>votes</th>\n",
       "    </tr>\n",
       "  </thead>\n",
       "  <tbody>\n",
       "    <tr>\n",
       "      <th>0</th>\n",
       "      <td>01-01</td>\n",
       "      <td>US SENATE</td>\n",
       "      <td>LIBERTARIAN</td>\n",
       "      <td>FEENA M BONOAN</td>\n",
       "      <td>MAIL IN</td>\n",
       "      <td>35</td>\n",
       "    </tr>\n",
       "    <tr>\n",
       "      <th>1</th>\n",
       "      <td>01-01</td>\n",
       "      <td>US SENATE</td>\n",
       "      <td>ALOHA AINA PARTY</td>\n",
       "      <td>DAN DECKER</td>\n",
       "      <td>MAIL IN</td>\n",
       "      <td>19</td>\n",
       "    </tr>\n",
       "    <tr>\n",
       "      <th>2</th>\n",
       "      <td>01-01</td>\n",
       "      <td>US SENATE</td>\n",
       "      <td>REPUBLICAN</td>\n",
       "      <td>BOB MCDERMOTT</td>\n",
       "      <td>MAIL IN</td>\n",
       "      <td>609</td>\n",
       "    </tr>\n",
       "    <tr>\n",
       "      <th>3</th>\n",
       "      <td>01-01</td>\n",
       "      <td>US SENATE</td>\n",
       "      <td>GREEN</td>\n",
       "      <td>EMMA JANE A POHLMAN</td>\n",
       "      <td>MAIL IN</td>\n",
       "      <td>29</td>\n",
       "    </tr>\n",
       "    <tr>\n",
       "      <th>4</th>\n",
       "      <td>01-01</td>\n",
       "      <td>US SENATE</td>\n",
       "      <td>DEMOCRAT</td>\n",
       "      <td>BRIAN SCHATZ</td>\n",
       "      <td>MAIL IN</td>\n",
       "      <td>2521</td>\n",
       "    </tr>\n",
       "  </tbody>\n",
       "</table>\n",
       "</div>"
      ],
      "text/plain": [
       "  precinct     office    party_detailed            candidate     mode  votes\n",
       "0    01-01  US SENATE       LIBERTARIAN       FEENA M BONOAN  MAIL IN     35\n",
       "1    01-01  US SENATE  ALOHA AINA PARTY           DAN DECKER  MAIL IN     19\n",
       "2    01-01  US SENATE        REPUBLICAN        BOB MCDERMOTT  MAIL IN    609\n",
       "3    01-01  US SENATE             GREEN  EMMA JANE A POHLMAN  MAIL IN     29\n",
       "4    01-01  US SENATE          DEMOCRAT         BRIAN SCHATZ  MAIL IN   2521"
      ]
     },
     "execution_count": 101,
     "metadata": {},
     "output_type": "execute_result"
    }
   ],
   "source": [
    "er_sub.head()"
   ]
  },
  {
   "cell_type": "markdown",
   "id": "cfb12236",
   "metadata": {},
   "source": [
    "Adapting VEST field naming convention, these are the office codes\n",
    "##### (modified for contests with districts, to fit GIS 10 character limit)\n",
    "\n",
    "- USS - U.S. Senate\n",
    "- CD# - U.S. Congress District\n",
    "- GOV - Governor/Lieutenant Governor\n",
    "- SL##  - State Legislative Lower District ##\n",
    "- SU##  - State Legislative Upper District ##\n",
    "- ALT - Office of Hawaiian Affairs, At Large Trustee\n",
    "- RTH - Office of Hawaiian Affairs, Resident Trustee for Hawaii (H - Hawaii, M - Maui, O - Oahu) **general election only occured for county of Hawaii"
   ]
  },
  {
   "cell_type": "code",
   "execution_count": 102,
   "id": "f0892c05",
   "metadata": {
    "scrolled": true
   },
   "outputs": [
    {
     "data": {
      "text/plain": [
       "['US SENATE',\n",
       " 'US HOUSE',\n",
       " 'GOVERNOR',\n",
       " 'STATE SENATOR',\n",
       " 'HAWAII RESIDENT TRUSTEE VACANCY',\n",
       " 'AT-LARGE TRUSTEE',\n",
       " 'STATE HOUSE']"
      ]
     },
     "execution_count": 102,
     "metadata": {},
     "output_type": "execute_result"
    }
   ],
   "source": [
    "office_list = list(er_sub['office'].unique())\n",
    "office_list"
   ]
  },
  {
   "cell_type": "code",
   "execution_count": 103,
   "id": "c857c4e5",
   "metadata": {},
   "outputs": [],
   "source": [
    "#rename offices\n",
    "new_office_list = ['G22USS', 'G22CD', 'G22GOV', 'GSU', 'G22RTH', 'G22ALT', 'GSL']\n",
    "er_sub['race'] = er_sub['office']\n",
    "er_sub['race'].replace(office_list, new_office_list, inplace=True)"
   ]
  },
  {
   "cell_type": "code",
   "execution_count": 104,
   "id": "2d6a7d7a",
   "metadata": {},
   "outputs": [
    {
     "data": {
      "text/html": [
       "<div>\n",
       "<style scoped>\n",
       "    .dataframe tbody tr th:only-of-type {\n",
       "        vertical-align: middle;\n",
       "    }\n",
       "\n",
       "    .dataframe tbody tr th {\n",
       "        vertical-align: top;\n",
       "    }\n",
       "\n",
       "    .dataframe thead th {\n",
       "        text-align: right;\n",
       "    }\n",
       "</style>\n",
       "<table border=\"1\" class=\"dataframe\">\n",
       "  <thead>\n",
       "    <tr style=\"text-align: right;\">\n",
       "      <th></th>\n",
       "      <th>precinct</th>\n",
       "      <th>office</th>\n",
       "      <th>party_detailed</th>\n",
       "      <th>candidate</th>\n",
       "      <th>mode</th>\n",
       "      <th>votes</th>\n",
       "      <th>race</th>\n",
       "    </tr>\n",
       "  </thead>\n",
       "  <tbody>\n",
       "    <tr>\n",
       "      <th>0</th>\n",
       "      <td>01-01</td>\n",
       "      <td>US SENATE</td>\n",
       "      <td>LIBERTARIAN</td>\n",
       "      <td>FEENA M BONOAN</td>\n",
       "      <td>MAIL IN</td>\n",
       "      <td>35</td>\n",
       "      <td>G22USS</td>\n",
       "    </tr>\n",
       "    <tr>\n",
       "      <th>1</th>\n",
       "      <td>01-01</td>\n",
       "      <td>US SENATE</td>\n",
       "      <td>ALOHA AINA PARTY</td>\n",
       "      <td>DAN DECKER</td>\n",
       "      <td>MAIL IN</td>\n",
       "      <td>19</td>\n",
       "      <td>G22USS</td>\n",
       "    </tr>\n",
       "  </tbody>\n",
       "</table>\n",
       "</div>"
      ],
      "text/plain": [
       "  precinct     office    party_detailed       candidate     mode  votes  \\\n",
       "0    01-01  US SENATE       LIBERTARIAN  FEENA M BONOAN  MAIL IN     35   \n",
       "1    01-01  US SENATE  ALOHA AINA PARTY      DAN DECKER  MAIL IN     19   \n",
       "\n",
       "     race  \n",
       "0  G22USS  \n",
       "1  G22USS  "
      ]
     },
     "execution_count": 104,
     "metadata": {},
     "output_type": "execute_result"
    }
   ],
   "source": [
    "er_sub.head(2)"
   ]
  },
  {
   "cell_type": "markdown",
   "id": "63acaab1",
   "metadata": {},
   "source": [
    "Will need State Senate, State House, and US congressional districts to complete naming convention. Will append from gdf."
   ]
  },
  {
   "cell_type": "code",
   "execution_count": null,
   "id": "c7012ea4",
   "metadata": {},
   "outputs": [],
   "source": [
    "#merge subset of gdf to append columns for districts\n",
    "er_sub = pd.merge(er_sub,gdf_sub[['PRECINCT', 'USHOUSE', 'SLDL', 'SLDU']],left_on='precinct', right_on = 'PRECINCT', how= 'left', indicator = True)"
   ]
  },
  {
   "cell_type": "code",
   "execution_count": null,
   "id": "03d1629c",
   "metadata": {},
   "outputs": [],
   "source": [
    "#check indicator to see if merge was successful\n",
    "er_sub._merge.value_counts()"
   ]
  },
  {
   "cell_type": "code",
   "execution_count": null,
   "id": "2939a427",
   "metadata": {},
   "outputs": [],
   "source": [
    "er_sub.head(2)"
   ]
  },
  {
   "cell_type": "code",
   "execution_count": null,
   "id": "2af07058",
   "metadata": {},
   "outputs": [],
   "source": [
    "#replace 'CD#' with Congressional District\n",
    "er_sub.loc[er_sub.race=='G22CD', 'race'] =  er_sub['race'] + er_sub['USHOUSE']\n",
    "#replace 'SU#' with SLDU\n",
    "er_sub.loc[er_sub.race=='GSU', 'race'] = er_sub['race'] + er_sub['SLDU']\n",
    "#replace 'SL#' with SLDL\n",
    "er_sub.loc[er_sub.race=='GSL', 'race'] = er_sub.race + er_sub['SLDL']"
   ]
  },
  {
   "cell_type": "code",
   "execution_count": null,
   "id": "f52b09b7",
   "metadata": {},
   "outputs": [],
   "source": [
    "#check\n",
    "er_sub.race.value_counts().nunique()"
   ]
  },
  {
   "cell_type": "markdown",
   "id": "32cc08ba",
   "metadata": {},
   "source": [
    "Before modifying party column, checking for how non-partisan or unregistered is noted"
   ]
  },
  {
   "cell_type": "code",
   "execution_count": null,
   "id": "f800ff56",
   "metadata": {
    "scrolled": true
   },
   "outputs": [],
   "source": [
    "er_sub['party_detailed'].value_counts()"
   ]
  },
  {
   "cell_type": "code",
   "execution_count": null,
   "id": "31a62bdd",
   "metadata": {},
   "outputs": [],
   "source": [
    "er_sub['party_detailed'].isnull().sum()"
   ]
  },
  {
   "cell_type": "markdown",
   "id": "15765c2a",
   "metadata": {},
   "source": [
    "#TODO: Double check HI state metadata for what null party column means"
   ]
  },
  {
   "cell_type": "code",
   "execution_count": null,
   "id": "1b84a272",
   "metadata": {},
   "outputs": [],
   "source": [
    "#change null to NONPARTISAN/UNREGISTERED\n",
    "er_sub['party_detailed'].fillna('NONPARTISAN/UNREGISTERED', inplace = True)"
   ]
  },
  {
   "cell_type": "code",
   "execution_count": null,
   "id": "6b5f458b",
   "metadata": {},
   "outputs": [],
   "source": [
    "#append 1 letter party to make VEST column\n",
    "er_sub['VEST'] = er_sub['race'] + er_sub['party_detailed'].apply(lambda x : str(x)[0])\n",
    "#create 3 letter party for readme\n",
    "er_sub['party_detailed'] = er_sub['party_detailed'].apply(lambda x: str(x)[:3].upper())"
   ]
  },
  {
   "cell_type": "markdown",
   "id": "b5abac68",
   "metadata": {},
   "source": [
    "Before modifying candidate names for README, double check for write-in candidates"
   ]
  },
  {
   "cell_type": "code",
   "execution_count": null,
   "id": "22de3b9f",
   "metadata": {},
   "outputs": [],
   "source": [
    "('WRITE IN' in er_sub['candidate'].unique())"
   ]
  },
  {
   "cell_type": "code",
   "execution_count": null,
   "id": "7a84ebb4",
   "metadata": {},
   "outputs": [],
   "source": [
    "#double check visually\n",
    "\n",
    "#er_sub['candidate'].value_counts()"
   ]
  },
  {
   "cell_type": "code",
   "execution_count": null,
   "id": "cf918f25",
   "metadata": {},
   "outputs": [],
   "source": [
    "#append 3 letter last name to 'VEST' column\n",
    "er_sub['VEST'] = er_sub['VEST'] + er_sub['candidate'].apply(lambda x: str(x).split()[-1][:3])"
   ]
  },
  {
   "cell_type": "code",
   "execution_count": null,
   "id": "ae1772a1",
   "metadata": {},
   "outputs": [],
   "source": [
    "#create candidate column for readme\n",
    "er_sub['candidate'] = er_sub['candidate'].apply(lambda x: str(x).split()[-1] + ', ' + ' '.join(str(x).split()[:-1]))"
   ]
  },
  {
   "cell_type": "code",
   "execution_count": null,
   "id": "0bdd7617",
   "metadata": {},
   "outputs": [],
   "source": [
    "#add 3 letter party\n",
    "er_sub['candidate'] += ' - ' + er_sub['party_detailed']"
   ]
  },
  {
   "cell_type": "code",
   "execution_count": null,
   "id": "30de575d",
   "metadata": {
    "scrolled": true
   },
   "outputs": [],
   "source": [
    "er_sub.head()"
   ]
  },
  {
   "cell_type": "code",
   "execution_count": null,
   "id": "ed59df71",
   "metadata": {
    "scrolled": true
   },
   "outputs": [],
   "source": [
    "#check party value_counts\n",
    "er_sub['party_detailed'].value_counts()"
   ]
  },
  {
   "cell_type": "code",
   "execution_count": null,
   "id": "99546fe1",
   "metadata": {},
   "outputs": [],
   "source": [
    "#drop extra columns\n",
    "er_sub.drop(labels = ['PRECINCT', 'party_detailed','USHOUSE', 'SLDL', 'SLDU', '_merge'], axis = 1, inplace = True)"
   ]
  },
  {
   "cell_type": "code",
   "execution_count": null,
   "id": "502ee79e",
   "metadata": {},
   "outputs": [],
   "source": [
    "er_sub.head(2)"
   ]
  },
  {
   "cell_type": "code",
   "execution_count": null,
   "id": "ec977831",
   "metadata": {},
   "outputs": [],
   "source": [
    "#subset df for readme creation\n",
    "rm = er_sub[['office', 'race', 'VEST', 'candidate']].copy().drop_duplicates(keep = 'first')"
   ]
  },
  {
   "cell_type": "code",
   "execution_count": null,
   "id": "8aa39201",
   "metadata": {
    "scrolled": true
   },
   "outputs": [],
   "source": [
    "rm.shape #157 candidates"
   ]
  },
  {
   "cell_type": "markdown",
   "id": "42307c71",
   "metadata": {},
   "source": [
    "### Pivoting Elections Return Data + Checking Vote Totals\n",
    "\n",
    "#### summary\n",
    "\n",
    "- 2 vote total summaries for 2 candidates for US Senate, Bonoan and Decker\n"
   ]
  },
  {
   "cell_type": "code",
   "execution_count": null,
   "id": "8fc18de5",
   "metadata": {},
   "outputs": [],
   "source": [
    "er_pivot = er_sub.pivot_table(index = ['precinct'],\n",
    "                         columns = ['office', 'race', 'candidate'],\n",
    "                        values = ['votes'],\n",
    "                         aggfunc = 'sum',\n",
    "                              fill_value=0,\n",
    "                             margins = True)#.reset_index()"
   ]
  },
  {
   "cell_type": "code",
   "execution_count": null,
   "id": "19fef973",
   "metadata": {
    "scrolled": true
   },
   "outputs": [],
   "source": [
    "er_pivot.shape #looking for 236"
   ]
  },
  {
   "cell_type": "code",
   "execution_count": null,
   "id": "9221046c",
   "metadata": {},
   "outputs": [],
   "source": [
    "er_pivot.tail()"
   ]
  },
  {
   "cell_type": "code",
   "execution_count": null,
   "id": "b5d2baa8",
   "metadata": {},
   "outputs": [],
   "source": [
    "er_pivot.columns = er_pivot.columns.droplevel(level =0)"
   ]
  },
  {
   "cell_type": "code",
   "execution_count": null,
   "id": "706502a2",
   "metadata": {},
   "outputs": [],
   "source": [
    "er_pivot.columns[1]"
   ]
  },
  {
   "cell_type": "markdown",
   "id": "4034be6e",
   "metadata": {},
   "source": [
    "Manually check race vote totals against [State PDF Summary](https://elections.hawaii.gov/wp-content/results/histatewide.pdf)"
   ]
  },
  {
   "cell_type": "markdown",
   "id": "7603c4bf",
   "metadata": {},
   "source": [
    "### Break up office list but sublists of races in each office\n"
   ]
  },
  {
   "cell_type": "code",
   "execution_count": null,
   "id": "8ce9cd0c",
   "metadata": {},
   "outputs": [],
   "source": [
    "for item in (office_list):\n",
    "    print('****' + item + '*****')\n",
    "    print(er_pivot[[(item)]].sum().astype(int).sort_index(level = 2))"
   ]
  },
  {
   "cell_type": "markdown",
   "id": "f5def6a1",
   "metadata": {},
   "source": [
    "#TODO/Anomalies\n",
    "- US Senate\n",
    "    - Bonoan 4876 instead of 4915\n",
    "    - Bonoan needs to change to LIB\n",
    "    - Decker 2189 instead of 2208\n",
    "    - Pohlman to G\n",
    "    - Schatz to D\n",
    "- US HOUSE\n",
    "    - Case to D\n",
    "    - Tokuda to D\n",
    "    - Akana to R\n",
    "- GOV/LT GOV\n",
    "    - change naming convention to be gov/ltgov\n",
    "    - aionia to R\n",
    "    - green to D\n",
    "- STATE SENATOR\n",
    "    - INOUYE to D\n",
    "    - Tupai to R\n",
    "    - Buenaventura to D\n",
    "    - Fogel to L\n",
    "    - Osborn to R\n",
    "    - Richards to D\n",
    "    - Tancheff to R\n",
    "    - Mckelvey to D\n",
    "    - Walter to R\n",
    "    - Decoite to D\n",
    "    - Mckay to R\n",
    "    \n",
    "#### TODO : Fix Party Assignments for all candidates mislabeled AA"
   ]
  },
  {
   "cell_type": "code",
   "execution_count": null,
   "id": "291ba652",
   "metadata": {
    "scrolled": true
   },
   "outputs": [],
   "source": [
    "#Investigate anomalies in Senate undercounts for Bonoan and Decker\n",
    "bonoan = 4915-4876\n",
    "print(bonoan)\n",
    "decker = 2208-2189\n",
    "print(decker)"
   ]
  },
  {
   "cell_type": "markdown",
   "id": "4f71c808",
   "metadata": {},
   "source": [
    "Since these are small numbers, I will first check in the Mail-In votes"
   ]
  },
  {
   "cell_type": "markdown",
   "id": "25c83ae8",
   "metadata": {},
   "source": [
    "### Merge Precincts Shapefile"
   ]
  },
  {
   "cell_type": "code",
   "execution_count": null,
   "id": "c2aaa385",
   "metadata": {},
   "outputs": [],
   "source": [
    "er_pivot.columns = er_pivot.columns.map('_'.join)"
   ]
  },
  {
   "cell_type": "code",
   "execution_count": null,
   "id": "82a8b5ca",
   "metadata": {},
   "outputs": [],
   "source": [
    "er_pivot.head()"
   ]
  },
  {
   "cell_type": "code",
   "execution_count": null,
   "id": "0c3fa49c",
   "metadata": {},
   "outputs": [],
   "source": [
    "er_pivot.columns[1]\n",
    "#= gdf_sub['SLDL'].apply(lambda x: str(x)[1:])"
   ]
  },
  {
   "cell_type": "code",
   "execution_count": null,
   "id": "665f7528",
   "metadata": {},
   "outputs": [],
   "source": [
    "er_pivot.head()"
   ]
  },
  {
   "cell_type": "code",
   "execution_count": null,
   "id": "511ab0b2",
   "metadata": {},
   "outputs": [],
   "source": [
    "#join shapefile\n",
    "#jer = pd.merge(er_pivot,gdf_sub,on='PRECINCT', how= 'right', indicator = True)\n",
    "#jer._merge.value_counts()"
   ]
  },
  {
   "cell_type": "markdown",
   "id": "66d75ff8",
   "metadata": {},
   "source": [
    "Noticing that all precincts successfully merged, including the 12 precincts that had no votes/election returns."
   ]
  },
  {
   "cell_type": "code",
   "execution_count": null,
   "id": "86182707",
   "metadata": {},
   "outputs": [],
   "source": [
    "jer.columns"
   ]
  },
  {
   "cell_type": "markdown",
   "id": "d861ee26",
   "metadata": {},
   "source": [
    "### Final Checks + Export Joined Data Set"
   ]
  },
  {
   "cell_type": "code",
   "execution_count": null,
   "id": "f0ad7394",
   "metadata": {},
   "outputs": [],
   "source": [
    "#TODO Check to see if length of cols is 10 characters or less\n",
    "#[i for i in jer.columns if len(i)>10]"
   ]
  },
  {
   "cell_type": "code",
   "execution_count": null,
   "id": "314eb4b1",
   "metadata": {},
   "outputs": [],
   "source": []
  },
  {
   "cell_type": "markdown",
   "id": "f0dbff41",
   "metadata": {},
   "source": [
    "## TESTING"
   ]
  },
  {
   "cell_type": "code",
   "execution_count": null,
   "id": "f356bf77",
   "metadata": {},
   "outputs": [],
   "source": [
    "er_sub.head()"
   ]
  },
  {
   "cell_type": "code",
   "execution_count": null,
   "id": "c1636cca",
   "metadata": {
    "scrolled": true
   },
   "outputs": [],
   "source": [
    "office_list"
   ]
  },
  {
   "cell_type": "code",
   "execution_count": null,
   "id": "92e97fda",
   "metadata": {},
   "outputs": [],
   "source": [
    "for i in office_list:\n",
    "    i"
   ]
  },
  {
   "cell_type": "code",
   "execution_count": null,
   "id": "bdf031ea",
   "metadata": {},
   "outputs": [],
   "source": [
    "def get_races(office_list, df):\n",
    "    for i in office_list:\n",
    "        i_lst = []\n",
    "        races_list = sorted(list(df[df.office == i]['race'].unique()))\n",
    "        for ele in races_list:\n",
    "        "
   ]
  },
  {
   "cell_type": "code",
   "execution_count": null,
   "id": "868b7c61",
   "metadata": {},
   "outputs": [],
   "source": [
    "races_list = sorted(list(er_sub[er_sub.office == 'STATE SENATOR']['race'].unique()))"
   ]
  },
  {
   "cell_type": "code",
   "execution_count": null,
   "id": "8369f2f8",
   "metadata": {},
   "outputs": [],
   "source": [
    "print(races_list)"
   ]
  },
  {
   "cell_type": "code",
   "execution_count": null,
   "id": "36e477f1",
   "metadata": {},
   "outputs": [],
   "source": [
    "for ele in races_list:\n",
    "    "
   ]
  },
  {
   "cell_type": "code",
   "execution_count": null,
   "id": "76401875",
   "metadata": {},
   "outputs": [],
   "source": [
    "print(temp)"
   ]
  },
  {
   "cell_type": "code",
   "execution_count": null,
   "id": "38d70ba2",
   "metadata": {},
   "outputs": [],
   "source": [
    "er_pivot.head()"
   ]
  },
  {
   "cell_type": "code",
   "execution_count": null,
   "id": "cc2e8809",
   "metadata": {},
   "outputs": [],
   "source": []
  }
 ],
 "metadata": {
  "kernelspec": {
   "display_name": "Python 3",
   "language": "python",
   "name": "python3"
  },
  "language_info": {
   "codemirror_mode": {
    "name": "ipython",
    "version": 3
   },
   "file_extension": ".py",
   "mimetype": "text/x-python",
   "name": "python",
   "nbconvert_exporter": "python",
   "pygments_lexer": "ipython3",
   "version": "3.8.8"
  }
 },
 "nbformat": 4,
 "nbformat_minor": 5
}
