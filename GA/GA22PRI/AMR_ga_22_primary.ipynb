{
 "cells": [
  {
   "cell_type": "code",
   "execution_count": 12,
   "id": "81028a61",
   "metadata": {},
   "outputs": [],
   "source": [
    "import geopandas as gp\n",
    "import pandas as pd\n",
    "import os\n",
    "import xml.etree.ElementTree as et\n",
    "import numpy as np\n",
    "import pdv_functions as pdv"
   ]
  },
  {
   "cell_type": "code",
   "execution_count": 13,
   "id": "36f157ba",
   "metadata": {},
   "outputs": [],
   "source": [
    "loaded_counties = os.listdir(\"./detailxml/\")\n",
    "z=[]\n",
    "for locale in loaded_counties:\n",
    "    if locale.endswith('.xml'):\n",
    "        file_string = \"./detailxml/\"+locale\n",
    "        xtree = et.parse(file_string)\n",
    "        xroot = xtree.getroot()\n",
    "        store_list = []\n",
    "        county_area = xroot.findall(\".//Region\")\n",
    "        for i in county_area:\n",
    "            county = i.text\n",
    "        contests = xroot.findall(\".//Contest\")\n",
    "        for i in contests:\n",
    "            contest = i.attrib.get('text')\n",
    "            lower = i.findall(\"./Choice\")\n",
    "            for j in lower:\n",
    "                choice = j.attrib.get('text')\n",
    "                lower_2 = j.findall(\"./VoteType\")\n",
    "                for k in lower_2:\n",
    "                    voting_method = k.attrib.get('name')\n",
    "                    lower_3 = k.findall(\"./Precinct\")\n",
    "                    for l in lower_3:\n",
    "                        precinct_name = l.attrib.get('name')\n",
    "                        num_votes = l.attrib.get('votes')\n",
    "                        z.append([county,contest,choice,voting_method,precinct_name,num_votes])\n",
    "dfcols = ['county','contest','choice','voting_method','precinct','num_votes']\n",
    "df_primary = pd.DataFrame(z,columns=dfcols)\n",
    "df_primary[\"election\"] = \"primary\"\n",
    "df_primary[\"precinct\"] = df_primary[\"precinct\"].str.strip()"
   ]
  },
  {
   "cell_type": "code",
   "execution_count": 14,
   "id": "68982ed5",
   "metadata": {},
   "outputs": [],
   "source": [
    "ga_22_primary_combined = pd.concat([df_primary])"
   ]
  },
  {
   "cell_type": "code",
   "execution_count": 15,
   "id": "fc2b281d",
   "metadata": {},
   "outputs": [
    {
     "name": "stdout",
     "output_type": "stream",
     "text": [
      "0\n"
     ]
    }
   ],
   "source": [
    "#Sanity check that there are the right number of counties\n",
    "print(len(ga_22_primary_combined[\"county\"].unique()))\n",
    "\n",
    "# Clean the contest name\n",
    "#ga_22_primary_combined[\"contest\"] = ga_22_primary_combined[\"contest\"].str.strip()"
   ]
  },
  {
   "cell_type": "code",
   "execution_count": 16,
   "id": "e9601219",
   "metadata": {},
   "outputs": [
    {
     "data": {
      "text/html": [
       "<div>\n",
       "<style scoped>\n",
       "    .dataframe tbody tr th:only-of-type {\n",
       "        vertical-align: middle;\n",
       "    }\n",
       "\n",
       "    .dataframe tbody tr th {\n",
       "        vertical-align: top;\n",
       "    }\n",
       "\n",
       "    .dataframe thead th {\n",
       "        text-align: right;\n",
       "    }\n",
       "</style>\n",
       "<table border=\"1\" class=\"dataframe\">\n",
       "  <thead>\n",
       "    <tr style=\"text-align: right;\">\n",
       "      <th></th>\n",
       "      <th>county</th>\n",
       "      <th>contest</th>\n",
       "      <th>choice</th>\n",
       "      <th>voting_method</th>\n",
       "      <th>precinct</th>\n",
       "      <th>num_votes</th>\n",
       "      <th>election</th>\n",
       "    </tr>\n",
       "  </thead>\n",
       "  <tbody>\n",
       "  </tbody>\n",
       "</table>\n",
       "</div>"
      ],
      "text/plain": [
       "Empty DataFrame\n",
       "Columns: [county, contest, choice, voting_method, precinct, num_votes, election]\n",
       "Index: []"
      ]
     },
     "execution_count": 16,
     "metadata": {},
     "output_type": "execute_result"
    }
   ],
   "source": [
    "ga_22_primary_combined.head()"
   ]
  },
  {
   "cell_type": "code",
   "execution_count": null,
   "id": "07fb4bee",
   "metadata": {},
   "outputs": [],
   "source": []
  }
 ],
 "metadata": {
  "kernelspec": {
   "display_name": "Python 3",
   "language": "python",
   "name": "python3"
  },
  "language_info": {
   "codemirror_mode": {
    "name": "ipython",
    "version": 3
   },
   "file_extension": ".py",
   "mimetype": "text/x-python",
   "name": "python",
   "nbconvert_exporter": "python",
   "pygments_lexer": "ipython3",
   "version": "3.8.8"
  }
 },
 "nbformat": 4,
 "nbformat_minor": 5
}
