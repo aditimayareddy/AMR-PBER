{
 "cells": [
  {
   "cell_type": "code",
   "execution_count": 1,
   "id": "d1c07fe0",
   "metadata": {},
   "outputs": [],
   "source": [
    "import pandas as pd\n",
    "import numpy as np\n",
    "import geopandas as gp\n",
    "lowndes_prim = pd.read_csv('lowndes_primary.csv', usecols = ['UNIQUE_ID', 'county', 'precinct', 'total_uss', 'total_gov'])\n",
    "lowndes_shp = gp.read_file('lowndes_gen')"
   ]
  },
  {
   "cell_type": "code",
   "execution_count": 7,
   "id": "80114e66",
   "metadata": {},
   "outputs": [],
   "source": []
  },
  {
   "cell_type": "code",
   "execution_count": 8,
   "id": "c79337c4",
   "metadata": {},
   "outputs": [],
   "source": []
  },
  {
   "cell_type": "code",
   "execution_count": 11,
   "id": "f6e494c7",
   "metadata": {},
   "outputs": [
    {
     "data": {
      "text/plain": [
       "(18, 4)"
      ]
     },
     "execution_count": 11,
     "metadata": {},
     "output_type": "execute_result"
    }
   ],
   "source": [
    "lowndes_shp.shape"
   ]
  },
  {
   "cell_type": "code",
   "execution_count": 12,
   "id": "03b3ed22",
   "metadata": {},
   "outputs": [
    {
     "data": {
      "text/plain": [
       "(19, 5)"
      ]
     },
     "execution_count": 12,
     "metadata": {},
     "output_type": "execute_result"
    }
   ],
   "source": [
    "lowndes_prim.shape"
   ]
  },
  {
   "cell_type": "code",
   "execution_count": null,
   "id": "0da59f7e",
   "metadata": {},
   "outputs": [],
   "source": []
  }
 ],
 "metadata": {
  "kernelspec": {
   "display_name": "Python 3",
   "language": "python",
   "name": "python3"
  },
  "language_info": {
   "codemirror_mode": {
    "name": "ipython",
    "version": 3
   },
   "file_extension": ".py",
   "mimetype": "text/x-python",
   "name": "python",
   "nbconvert_exporter": "python",
   "pygments_lexer": "ipython3",
   "version": "3.8.8"
  }
 },
 "nbformat": 4,
 "nbformat_minor": 5
}
