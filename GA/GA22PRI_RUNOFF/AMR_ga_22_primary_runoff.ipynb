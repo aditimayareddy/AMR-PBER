{
 "cells": [
  {
   "cell_type": "markdown",
   "id": "8f3ee736",
   "metadata": {},
   "source": [
    "### Georgia 2022 Primary Runoff Election Returns\n",
    "\n",
    "#### Sections\n",
    "- <a href=\"#ETL\">Cleaning Precinct-Level Election Results</a><br>\n",
    "- <a href=\"#check\">Vote Totals Checks</a><br>\n",
    "- <a href =\"#discrepancies\"> Examine/Address Discrepancies <a/><br>\n",
    "- <a href=\"#readme\">Creating README</a><br>\n",
    "- <a href=\"#exp\">Exporting Cleaned Precinct-Level Dataset</a><br>\n",
    "\n",
    "\n",
    "#### Sources\n",
    "Precint-level data from [Georgia Secretary of State Certified Results by County - XML format](https://results.enr.clarityelections.com/GA/114891/web.285569/#/reporting).\n",
    "\n",
    "Statewide county-level data to run checks from [Georgia Secretary of State Statewide Summary Report - CSV format](https://results.enr.clarityelections.com//GA//114891/300218/reports/summary.zip)\n",
    "    \n",
    "County-level data to run checks from [Georgia Secretary of State County Summary Report - XML format](https://results.enr.clarityelections.com//GA//114891/300218/reports/detailxml.zip)"
   ]
  },
  {
   "cell_type": "code",
   "execution_count": 1,
   "id": "85b7e56e",
   "metadata": {},
   "outputs": [],
   "source": [
    "import geopandas as gp\n",
    "import pandas as pd\n",
    "import os\n",
    "import xml.etree.ElementTree as et\n",
    "import numpy as np\n",
    "import re\n",
    "import GA22_primaryrunoff_helper as hlp\n",
    "pd.set_option('display.max_rows', None)"
   ]
  },
  {
   "cell_type": "markdown",
   "id": "0f9bfcb3",
   "metadata": {},
   "source": [
    "<p><a name=\"ETL\"></a></p>\n",
    "\n",
    "### Cleaning Precint Level Election Results"
   ]
  },
  {
   "cell_type": "code",
   "execution_count": 2,
   "id": "c5e2910f",
   "metadata": {},
   "outputs": [],
   "source": [
    "#\n",
    "df_primary = hlp.ph_clarityelec_xml(\"./raw-from-source/counties/\", 'primary')"
   ]
  },
  {
   "cell_type": "code",
   "execution_count": 3,
   "id": "5321e58b",
   "metadata": {},
   "outputs": [
    {
     "name": "stdout",
     "output_type": "stream",
     "text": [
      "True\n"
     ]
    }
   ],
   "source": [
    "#concatenate df, make sure all counties are read in\n",
    "ga_22_primary = pd.concat([df_primary])\n",
    "print(len(ga_22_primary[\"county\"].unique()) == 159) #159 counties in GA"
   ]
  },
  {
   "cell_type": "code",
   "execution_count": 4,
   "id": "448996c5",
   "metadata": {},
   "outputs": [
    {
     "data": {
      "text/plain": [
       "dtype('int32')"
      ]
     },
     "execution_count": 4,
     "metadata": {},
     "output_type": "execute_result"
    }
   ],
   "source": [
    "#Check df dtypes, set vote column type to int\n",
    "# ga_22_primary.info()\n",
    "ga_22_primary.num_votes = ga_22_primary.num_votes.astype(int)\n",
    "ga_22_primary.num_votes.dtype"
   ]
  },
  {
   "cell_type": "code",
   "execution_count": null,
   "id": "c58be21e",
   "metadata": {},
   "outputs": [],
   "source": [
    "ga_22_primary_runoff = pd.concat([df_primary_runoff])\n",
    "#check\n",
    "print(len(ga_22_primary_runoff[\"county\"].unique()))"
   ]
  },
  {
   "cell_type": "code",
   "execution_count": null,
   "id": "0d1155bb",
   "metadata": {},
   "outputs": [],
   "source": [
    "ga_22_primary_runoff.shape"
   ]
  },
  {
   "cell_type": "code",
   "execution_count": null,
   "id": "d7e443d7",
   "metadata": {},
   "outputs": [],
   "source": [
    "ga_22_primary_runoff.head()"
   ]
  },
  {
   "cell_type": "code",
   "execution_count": null,
   "id": "0d128116",
   "metadata": {},
   "outputs": [],
   "source": []
  }
 ],
 "metadata": {
  "kernelspec": {
   "display_name": "Python 3",
   "language": "python",
   "name": "python3"
  },
  "language_info": {
   "codemirror_mode": {
    "name": "ipython",
    "version": 3
   },
   "file_extension": ".py",
   "mimetype": "text/x-python",
   "name": "python",
   "nbconvert_exporter": "python",
   "pygments_lexer": "ipython3",
   "version": "3.8.8"
  }
 },
 "nbformat": 4,
 "nbformat_minor": 5
}
