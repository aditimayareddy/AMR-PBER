{
 "cells": [
  {
   "cell_type": "markdown",
   "id": "8bc98de4",
   "metadata": {},
   "source": [
    "##### To do list:\n",
    "- ~~download/combine xml files~~\n",
    "- ~~concatenate into DF~~\n",
    "- ~~create a contest_list~~\n",
    "- ~~subset contests of interest~~\n",
    "- ~~add a fips column~~\n",
    "- ~~create unique precinct id using COUNTYFIPS + precinct~~\n",
    "- ~~standardize contest names~~\n",
    "- ~~change column names to vest naming conventions~~\n",
    "        NOTE: supreme court is a S election, lieutenant governor misspelled as 'liutenant' somewhere, 'Lagrua' misspelled as 'lagura' somewhere\n",
    "- add col for incumbent (yes/no)\n",
    "- pivot data\n",
    "- create list of ordered candidates\n",
    "- order df by contest size, votes won\n",
    "- create readme\n",
    "- statewide total checks\n",
    "- countywide total checks\n",
    "- export data to csv\n",
    "- move helper functions to py module\n",
    "- clean up code\n",
    "- push to gh\n",
    "- send to Spencer"
   ]
  },
  {
   "cell_type": "markdown",
   "id": "8f3ee736",
   "metadata": {},
   "source": [
    "## Georgia 2022 Primary Runoff Election Returns"
   ]
  },
  {
   "cell_type": "markdown",
   "id": "f645f577",
   "metadata": {},
   "source": [
    "### Sources\n",
    "- [State Office of Elections Certified Report Summaries]\n",
    "- [State Office of Elections Certified Precinct Detail Report- XML format]"
   ]
  },
  {
   "cell_type": "code",
   "execution_count": 4,
   "id": "85b7e56e",
   "metadata": {},
   "outputs": [],
   "source": [
    "import geopandas as gp\n",
    "import pandas as pd\n",
    "import os\n",
    "import xml.etree.ElementTree as et\n",
    "import numpy as np\n",
    "import GA22_primaryrunoff_helper as hlp"
   ]
  },
  {
   "cell_type": "markdown",
   "id": "0f9bfcb3",
   "metadata": {},
   "source": [
    "## Load Raw Data, Convert to DataFrame"
   ]
  },
  {
   "cell_type": "code",
   "execution_count": 10,
   "id": "cacbd2bc",
   "metadata": {},
   "outputs": [],
   "source": [
    "#Peter's XML parser\n",
    "loaded_counties = os.listdir(\"./raw-from-source/counties/\")\n",
    "z=[]\n",
    "for locale in loaded_counties:\n",
    "    if locale.endswith('.xml'):\n",
    "        file_string = \"./raw-from-source/counties/\"+locale\n",
    "        xtree = et.parse(file_string)\n",
    "        xroot = xtree.getroot()\n",
    "        store_list = []\n",
    "        county_area = xroot.findall(\".//Region\")\n",
    "        for i in county_area:\n",
    "            county = i.text\n",
    "        contests = xroot.findall(\".//Contest\")\n",
    "        for i in contests:\n",
    "            contest = i.attrib.get('text')\n",
    "            lower = i.findall(\"./Choice\")\n",
    "            for j in lower:\n",
    "                choice = j.attrib.get('text')\n",
    "                lower_2 = j.findall(\"./VoteType\")\n",
    "                for k in lower_2:\n",
    "                    voting_method = k.attrib.get('name')\n",
    "                    lower_3 = k.findall(\"./Precinct\")\n",
    "                    for l in lower_3:\n",
    "                        precinct_name = l.attrib.get('name')\n",
    "                        num_votes = l.attrib.get('votes')\n",
    "                        z.append([county,contest,choice,voting_method,precinct_name,num_votes])\n",
    "dfcols = ['county','contest','choice','voting_method','precinct','num_votes']\n",
    "df_primary_runoff = pd.DataFrame(z,columns=dfcols)\n",
    "df_primary_runoff[\"election\"] = \"primary runoff\"\n",
    "df_primary_runoff[\"precinct\"] = df_primary_runoff[\"precinct\"].str.strip()"
   ]
  },
  {
   "cell_type": "markdown",
   "id": "f37feb6f",
   "metadata": {},
   "source": [
    "Concatenate into df, check for 159 counties"
   ]
  },
  {
   "cell_type": "code",
   "execution_count": 11,
   "id": "c58be21e",
   "metadata": {},
   "outputs": [
    {
     "name": "stdout",
     "output_type": "stream",
     "text": [
      "159\n"
     ]
    }
   ],
   "source": [
    "ga_22_primary_runoff = pd.concat([df_primary_runoff])\n",
    "#check\n",
    "print(len(ga_22_primary_runoff[\"county\"].unique()))"
   ]
  },
  {
   "cell_type": "code",
   "execution_count": 12,
   "id": "0d1155bb",
   "metadata": {},
   "outputs": [
    {
     "data": {
      "text/plain": [
       "(105184, 7)"
      ]
     },
     "execution_count": 12,
     "metadata": {},
     "output_type": "execute_result"
    }
   ],
   "source": [
    "ga_22_primary_runoff.shape"
   ]
  },
  {
   "cell_type": "code",
   "execution_count": 13,
   "id": "d7e443d7",
   "metadata": {},
   "outputs": [
    {
     "data": {
      "text/html": [
       "<div>\n",
       "<style scoped>\n",
       "    .dataframe tbody tr th:only-of-type {\n",
       "        vertical-align: middle;\n",
       "    }\n",
       "\n",
       "    .dataframe tbody tr th {\n",
       "        vertical-align: top;\n",
       "    }\n",
       "\n",
       "    .dataframe thead th {\n",
       "        text-align: right;\n",
       "    }\n",
       "</style>\n",
       "<table border=\"1\" class=\"dataframe\">\n",
       "  <thead>\n",
       "    <tr style=\"text-align: right;\">\n",
       "      <th></th>\n",
       "      <th>county</th>\n",
       "      <th>contest</th>\n",
       "      <th>choice</th>\n",
       "      <th>voting_method</th>\n",
       "      <th>precinct</th>\n",
       "      <th>num_votes</th>\n",
       "      <th>election</th>\n",
       "    </tr>\n",
       "  </thead>\n",
       "  <tbody>\n",
       "    <tr>\n",
       "      <th>0</th>\n",
       "      <td>Appling</td>\n",
       "      <td>Lieutenant Governor - Dem</td>\n",
       "      <td>Charlie Bailey</td>\n",
       "      <td>Absentee by Mail Votes</td>\n",
       "      <td>1B</td>\n",
       "      <td>1</td>\n",
       "      <td>primary runoff</td>\n",
       "    </tr>\n",
       "    <tr>\n",
       "      <th>1</th>\n",
       "      <td>Appling</td>\n",
       "      <td>Lieutenant Governor - Dem</td>\n",
       "      <td>Charlie Bailey</td>\n",
       "      <td>Absentee by Mail Votes</td>\n",
       "      <td>1C</td>\n",
       "      <td>0</td>\n",
       "      <td>primary runoff</td>\n",
       "    </tr>\n",
       "    <tr>\n",
       "      <th>2</th>\n",
       "      <td>Appling</td>\n",
       "      <td>Lieutenant Governor - Dem</td>\n",
       "      <td>Charlie Bailey</td>\n",
       "      <td>Absentee by Mail Votes</td>\n",
       "      <td>2</td>\n",
       "      <td>7</td>\n",
       "      <td>primary runoff</td>\n",
       "    </tr>\n",
       "    <tr>\n",
       "      <th>3</th>\n",
       "      <td>Appling</td>\n",
       "      <td>Lieutenant Governor - Dem</td>\n",
       "      <td>Charlie Bailey</td>\n",
       "      <td>Absentee by Mail Votes</td>\n",
       "      <td>3A1</td>\n",
       "      <td>2</td>\n",
       "      <td>primary runoff</td>\n",
       "    </tr>\n",
       "    <tr>\n",
       "      <th>4</th>\n",
       "      <td>Appling</td>\n",
       "      <td>Lieutenant Governor - Dem</td>\n",
       "      <td>Charlie Bailey</td>\n",
       "      <td>Absentee by Mail Votes</td>\n",
       "      <td>3C</td>\n",
       "      <td>5</td>\n",
       "      <td>primary runoff</td>\n",
       "    </tr>\n",
       "  </tbody>\n",
       "</table>\n",
       "</div>"
      ],
      "text/plain": [
       "    county                    contest          choice           voting_method  \\\n",
       "0  Appling  Lieutenant Governor - Dem  Charlie Bailey  Absentee by Mail Votes   \n",
       "1  Appling  Lieutenant Governor - Dem  Charlie Bailey  Absentee by Mail Votes   \n",
       "2  Appling  Lieutenant Governor - Dem  Charlie Bailey  Absentee by Mail Votes   \n",
       "3  Appling  Lieutenant Governor - Dem  Charlie Bailey  Absentee by Mail Votes   \n",
       "4  Appling  Lieutenant Governor - Dem  Charlie Bailey  Absentee by Mail Votes   \n",
       "\n",
       "  precinct num_votes        election  \n",
       "0       1B         1  primary runoff  \n",
       "1       1C         0  primary runoff  \n",
       "2        2         7  primary runoff  \n",
       "3      3A1         2  primary runoff  \n",
       "4       3C         5  primary runoff  "
      ]
     },
     "execution_count": 13,
     "metadata": {},
     "output_type": "execute_result"
    }
   ],
   "source": [
    "ga_22_primary_runoff.head()"
   ]
  },
  {
   "cell_type": "code",
   "execution_count": null,
   "id": "0d128116",
   "metadata": {},
   "outputs": [],
   "source": []
  }
 ],
 "metadata": {
  "kernelspec": {
   "display_name": "Python 3",
   "language": "python",
   "name": "python3"
  },
  "language_info": {
   "codemirror_mode": {
    "name": "ipython",
    "version": 3
   },
   "file_extension": ".py",
   "mimetype": "text/x-python",
   "name": "python",
   "nbconvert_exporter": "python",
   "pygments_lexer": "ipython3",
   "version": "3.8.8"
  }
 },
 "nbformat": 4,
 "nbformat_minor": 5
}
