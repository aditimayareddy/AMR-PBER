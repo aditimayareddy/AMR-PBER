{
 "cells": [
  {
   "cell_type": "markdown",
   "id": "8f3ee736",
   "metadata": {},
   "source": [
    "### Georgia 2022 Primary Runoff Election Returns\n",
    "\n",
    "#### Sections\n",
    "- <a href=\"#ETL\">Cleaning Precinct-Level Election Results</a><br>\n",
    "- <a href=\"#check\">Vote Totals Checks</a><br>\n",
    "- <a href =\"#discrepancies\"> Examine/Address Discrepancies <a/><br>\n",
    "- <a href=\"#readme\">Creating README</a><br>\n",
    "- <a href=\"#exp\">Exporting Cleaned Precinct-Level Dataset</a><br>\n",
    "\n",
    "\n",
    "#### Sources\n",
    "Precint-level data from [Georgia Secretary of State Certified Results by County - XML format](https://results.enr.clarityelections.com/GA/114891/web.285569/#/reporting).\n",
    "\n",
    "Statewide county-level data to run checks from [Georgia Secretary of State Statewide Summary Report - CSV format](https://results.enr.clarityelections.com//GA//114891/300218/reports/summary.zip)\n",
    "    \n",
    "County-level data to run checks from [Georgia Secretary of State County Summary Report - XML format](https://results.enr.clarityelections.com//GA//114891/300218/reports/detailxml.zip)"
   ]
  },
  {
   "cell_type": "code",
   "execution_count": 1,
   "id": "85b7e56e",
   "metadata": {},
   "outputs": [],
   "source": [
    "import geopandas as gp\n",
    "import pandas as pd\n",
    "import os\n",
    "import xml.etree.ElementTree as et\n",
    "import numpy as np\n",
    "import re\n",
    "import GA22_primaryrunoff_helper as hlp\n",
    "pd.set_option('display.max_rows', None)"
   ]
  },
  {
   "cell_type": "markdown",
   "id": "0f9bfcb3",
   "metadata": {},
   "source": [
    "<p><a name=\"ETL\"></a></p>\n",
    "\n",
    "### Cleaning Precint Level Election Results"
   ]
  },
  {
   "cell_type": "code",
   "execution_count": null,
   "id": "c5e2910f",
   "metadata": {},
   "outputs": [],
   "source": [
    "df_primary = hlp.ph_clarityelec_xml(\"./raw-from-source/counties/\", 'primary')"
   ]
  },
  {
   "cell_type": "markdown",
   "id": "f37feb6f",
   "metadata": {},
   "source": [
    "Concatenate into df, check for 159 counties"
   ]
  },
  {
   "cell_type": "code",
   "execution_count": 11,
   "id": "c58be21e",
   "metadata": {},
   "outputs": [
    {
     "name": "stdout",
     "output_type": "stream",
     "text": [
      "159\n"
     ]
    }
   ],
   "source": [
    "ga_22_primary_runoff = pd.concat([df_primary_runoff])\n",
    "#check\n",
    "print(len(ga_22_primary_runoff[\"county\"].unique()))"
   ]
  },
  {
   "cell_type": "code",
   "execution_count": 12,
   "id": "0d1155bb",
   "metadata": {},
   "outputs": [
    {
     "data": {
      "text/plain": [
       "(105184, 7)"
      ]
     },
     "execution_count": 12,
     "metadata": {},
     "output_type": "execute_result"
    }
   ],
   "source": [
    "ga_22_primary_runoff.shape"
   ]
  },
  {
   "cell_type": "code",
   "execution_count": 13,
   "id": "d7e443d7",
   "metadata": {},
   "outputs": [
    {
     "data": {
      "text/html": [
       "<div>\n",
       "<style scoped>\n",
       "    .dataframe tbody tr th:only-of-type {\n",
       "        vertical-align: middle;\n",
       "    }\n",
       "\n",
       "    .dataframe tbody tr th {\n",
       "        vertical-align: top;\n",
       "    }\n",
       "\n",
       "    .dataframe thead th {\n",
       "        text-align: right;\n",
       "    }\n",
       "</style>\n",
       "<table border=\"1\" class=\"dataframe\">\n",
       "  <thead>\n",
       "    <tr style=\"text-align: right;\">\n",
       "      <th></th>\n",
       "      <th>county</th>\n",
       "      <th>contest</th>\n",
       "      <th>choice</th>\n",
       "      <th>voting_method</th>\n",
       "      <th>precinct</th>\n",
       "      <th>num_votes</th>\n",
       "      <th>election</th>\n",
       "    </tr>\n",
       "  </thead>\n",
       "  <tbody>\n",
       "    <tr>\n",
       "      <th>0</th>\n",
       "      <td>Appling</td>\n",
       "      <td>Lieutenant Governor - Dem</td>\n",
       "      <td>Charlie Bailey</td>\n",
       "      <td>Absentee by Mail Votes</td>\n",
       "      <td>1B</td>\n",
       "      <td>1</td>\n",
       "      <td>primary runoff</td>\n",
       "    </tr>\n",
       "    <tr>\n",
       "      <th>1</th>\n",
       "      <td>Appling</td>\n",
       "      <td>Lieutenant Governor - Dem</td>\n",
       "      <td>Charlie Bailey</td>\n",
       "      <td>Absentee by Mail Votes</td>\n",
       "      <td>1C</td>\n",
       "      <td>0</td>\n",
       "      <td>primary runoff</td>\n",
       "    </tr>\n",
       "    <tr>\n",
       "      <th>2</th>\n",
       "      <td>Appling</td>\n",
       "      <td>Lieutenant Governor - Dem</td>\n",
       "      <td>Charlie Bailey</td>\n",
       "      <td>Absentee by Mail Votes</td>\n",
       "      <td>2</td>\n",
       "      <td>7</td>\n",
       "      <td>primary runoff</td>\n",
       "    </tr>\n",
       "    <tr>\n",
       "      <th>3</th>\n",
       "      <td>Appling</td>\n",
       "      <td>Lieutenant Governor - Dem</td>\n",
       "      <td>Charlie Bailey</td>\n",
       "      <td>Absentee by Mail Votes</td>\n",
       "      <td>3A1</td>\n",
       "      <td>2</td>\n",
       "      <td>primary runoff</td>\n",
       "    </tr>\n",
       "    <tr>\n",
       "      <th>4</th>\n",
       "      <td>Appling</td>\n",
       "      <td>Lieutenant Governor - Dem</td>\n",
       "      <td>Charlie Bailey</td>\n",
       "      <td>Absentee by Mail Votes</td>\n",
       "      <td>3C</td>\n",
       "      <td>5</td>\n",
       "      <td>primary runoff</td>\n",
       "    </tr>\n",
       "  </tbody>\n",
       "</table>\n",
       "</div>"
      ],
      "text/plain": [
       "    county                    contest          choice           voting_method  \\\n",
       "0  Appling  Lieutenant Governor - Dem  Charlie Bailey  Absentee by Mail Votes   \n",
       "1  Appling  Lieutenant Governor - Dem  Charlie Bailey  Absentee by Mail Votes   \n",
       "2  Appling  Lieutenant Governor - Dem  Charlie Bailey  Absentee by Mail Votes   \n",
       "3  Appling  Lieutenant Governor - Dem  Charlie Bailey  Absentee by Mail Votes   \n",
       "4  Appling  Lieutenant Governor - Dem  Charlie Bailey  Absentee by Mail Votes   \n",
       "\n",
       "  precinct num_votes        election  \n",
       "0       1B         1  primary runoff  \n",
       "1       1C         0  primary runoff  \n",
       "2        2         7  primary runoff  \n",
       "3      3A1         2  primary runoff  \n",
       "4       3C         5  primary runoff  "
      ]
     },
     "execution_count": 13,
     "metadata": {},
     "output_type": "execute_result"
    }
   ],
   "source": [
    "ga_22_primary_runoff.head()"
   ]
  },
  {
   "cell_type": "code",
   "execution_count": null,
   "id": "0d128116",
   "metadata": {},
   "outputs": [],
   "source": []
  }
 ],
 "metadata": {
  "kernelspec": {
   "display_name": "Python 3",
   "language": "python",
   "name": "python3"
  },
  "language_info": {
   "codemirror_mode": {
    "name": "ipython",
    "version": 3
   },
   "file_extension": ".py",
   "mimetype": "text/x-python",
   "name": "python",
   "nbconvert_exporter": "python",
   "pygments_lexer": "ipython3",
   "version": "3.8.8"
  }
 },
 "nbformat": 4,
 "nbformat_minor": 5
}
