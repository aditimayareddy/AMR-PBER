{
 "cells": [
  {
   "cell_type": "markdown",
   "id": "0c503936",
   "metadata": {},
   "source": [
    "## Alabama 2022 Primary Election Returns"
   ]
  },
  {
   "cell_type": "markdown",
   "id": "b640b823",
   "metadata": {},
   "source": [
    "### Georgia 2022 Primary Election Returns\n",
    "\n",
    "### Sections\n",
    "- <a href=\"#ETL\">Cleaning Precinct-Level Election Results</a><br>\n",
    "- <a href=\"#check\">Vote Totals Checks</a><br>\n",
    "- <a href =\"#discrepancies\"> Examine/Fix Anomalies <a/><br>\n",
    "- <a href=\"#readme\">Creating README</a><br>\n",
    "- <a href=\"#exp\">Exporting Cleaned Precinct-Level Dataset</a><br>\n",
    "\n",
    "#### Sources\n",
    "\n",
    "- [Alabama Primary Election Results, Precint Level](https://www.sos.alabama.gov/sites/default/files/election-data/2022-06/2022%20Primary%20Precinct%20Results.zip)\n",
    "- [Secretary of State Certified Results, Democratic Party](https://www.sos.alabama.gov/sites/default/files/election-2022/AL%20Democratic%20Party%202022%20Primary%20Results.xlsx)\n",
    "- [Secretary of State Certified Results, Republican Party](https://www.sos.alabama.gov/sites/default/files/election-2022/AL%20Republican%20Party%202022%20Primary%20Results%20Official.xlsx)"
   ]
  },
  {
   "cell_type": "code",
   "execution_count": 2,
   "id": "9e496996",
   "metadata": {},
   "outputs": [],
   "source": [
    "import geopandas as gp\n",
    "import pandas as pd\n",
    "import os\n",
    "import numpy as np\n",
    "import re\n",
    "from collections import Counter\n",
    "import AL_22_helper_functions as hlp"
   ]
  },
  {
   "cell_type": "markdown",
   "id": "2504c8f3",
   "metadata": {},
   "source": [
    "<p><a name=\"ETL\"></a></p>\n",
    "\n",
    "### Cleaning Precinct Level Election Returns"
   ]
  },
  {
   "cell_type": "markdown",
   "id": "161aa8f7",
   "metadata": {},
   "source": [
    "Load-In + Clean Election Results"
   ]
  },
  {
   "cell_type": "code",
   "execution_count": 25,
   "id": "17171d71",
   "metadata": {},
   "outputs": [],
   "source": [
    "ph_county_list = []\n",
    "ar_county_list = []\n",
    "clean_index = []\n",
    "index_issue = []\n",
    "files = os.listdir('./raw-from-source/2022 Primary Precinct Results/')\n",
    "\n",
    "for idx, file in enumerate(files):\n",
    "    #Load county files\n",
    "    temp = pd.read_excel('./raw-from-source/2022 Primary Precinct Results/' + file)\n",
    "    \n",
    "    # Get the county name, clean \"StClair\" to match pattern\n",
    "    county_name = file.split(\"-\")[-1][0:-4]\n",
    "    if county_name == \"StClair\":\n",
    "        county_name = \"St. Clair\"\n",
    "    ar_county_list.append(county_name)\n",
    "        \n",
    "    # Clean the party name\n",
    "    temp[\"Party\"] = temp[\"Party\"].str.strip()\n",
    "    temp[\"Party\"] = temp[\"Party\"].fillna(\"\")\n",
    "    \n",
    "    # Create a column to pivot on\n",
    "    temp[\"pivot_col\"] = temp[\"Contest Title\"].str.strip()+\"-:-\"+temp[\"Candidate\"].str.strip()\n",
    "    temp[\"pivot_col\"] = np.where(temp[\"Party\"]==\"\",temp[\"pivot_col\"],temp[\"pivot_col\"]+\"-:-\"+temp[\"Party\"].str.strip())\n",
    "    \n",
    "    # Drop columns that are no longer needed\n",
    "    temp.drop([\"Contest Title\", \"Party\", \"Candidate\"], axis = 1, inplace = True)\n",
    "    \n",
    "    # Add the county name to the precinct\n",
    "    rename_dict = {i:i+\"-:-\"+county_name for i in temp.columns if i != \"pivot_col\"}\n",
    "    temp.rename(columns = rename_dict, inplace = True)\n",
    "    \n",
    "    # Transpose the dataframe\n",
    "    temp_transpose = temp.set_index(\"pivot_col\").T\n",
    "    temp_transpose[\"County\"] = county_name\n",
    "    temp_transpose.reset_index(inplace = True, drop = False)\n",
    "    temp_transpose[\"County\"] = county_name\n",
    "    \n",
    "    #Make sure cols and indexes unique\n",
    "    if temp_transpose.columns.nunique() == len(temp_transpose.columns) and temp_transpose.index.is_unique:\n",
    "        clean_index.append(county_name)\n",
    "    else:\n",
    "        index_issue.append(str(county_name) + ' ' + str(idx))\n",
    "    \n",
    "#     #Test to make sure all the indexes are unique\n",
    "#     for val in temp_transpose.index:\n",
    "#         index_testing.append(val)\n",
    "#         index_df = pd.DataFrame(index_testing)\n",
    "        \n",
    "\n",
    "#     # Add to the list of counties\n",
    "#     ph_county_list.append(temp_transpose)\n",
    "    \n",
    "#     # Concatenate into one file\n",
    "#     comb = pd.concat(ph_county_list, axis = 0)"
   ]
  },
  {
   "cell_type": "code",
   "execution_count": 5,
   "id": "1339a9ba",
   "metadata": {},
   "outputs": [
    {
     "name": "stdout",
     "output_type": "stream",
     "text": [
      "df_list[44]: Index(['index', 'REGISTERED VOTERS - TOTAL-:-Registered Voters - Total',\n",
      "       'BALLOTS CAST - TOTAL-:-Ballots Cast - Total',\n",
      "       'BALLOTS CAST - DEMOCRAT-:-Ballots Cast - Alabama Democratic P-:-DEM',\n",
      "       'BALLOTS CAST - REPUBLICAN-:-Ballots Cast - Alabama Republican P-:-REP',\n",
      "       'BALLOTS CAST - NON-PARTISAN-:-Ballots Cast - Nonpartisan',\n",
      "       'BALLOTS CAST - BLANK-:-Ballots Cast - Blank',\n",
      "       'UNITED STATES SENATOR-:-Will Boyd-:-DEM',\n",
      "       'UNITED STATES SENATOR-:-Lillie Boddie-:-REP',\n",
      "       'UNITED STATES SENATOR-:-Brandaun Dean-:-DEM',\n",
      "       ...\n",
      "       'MADISON COUNTY REP EXEC COMM DIST 9 PL 9                TRICT 11-:-Elizabeth Black-:-REP',\n",
      "       'MADISON COUNTY REP EXEC COMM DIST 9 PL 9                TRICT 11-:-Charles Coats-:-REP',\n",
      "       'MADISON COUNTY REP EXEC COMM DIST 9 PL 9                TRICT 11-:-William Cody Garton-:-REP',\n",
      "       'MADISON COUNTY REP EXEC COMM DIST 9 PL 9                TRICT 11-:-Over Votes-:-REP',\n",
      "       'MADISON COUNTY REP EXEC COMM DIST 9 PL 9                TRICT 11-:-Under Votes-:-REP',\n",
      "       'MADISON COUNTY REP EXEC COMM DIST 11 PL 2               TRICT 11-:-Heath B. Jones-:-REP',\n",
      "       'MADISON COUNTY REP EXEC COMM DIST 11 PL 2               TRICT 11-:-Stella Stooksbury-:-REP',\n",
      "       'MADISON COUNTY REP EXEC COMM DIST 11 PL 2               TRICT 11-:-Over Votes-:-REP',\n",
      "       'MADISON COUNTY REP EXEC COMM DIST 11 PL 2               TRICT 11-:-Under Votes-:-REP',\n",
      "       'County'],\n",
      "      dtype='object', name='pivot_col', length=279)\n",
      "\n"
     ]
    }
   ],
   "source": [
    "def check_dups(index, n):\n",
    "    s = set(index)\n",
    "    if len(s) != len(index):\n",
    "        print(f'df_list[{n}]:', index, end='\\n\\n')\n",
    "\n",
    "for n, df in enumerate(ph_county_list):\n",
    "    check_dups(df.columns, n)"
   ]
  },
  {
   "cell_type": "code",
   "execution_count": 26,
   "id": "6104ad18",
   "metadata": {},
   "outputs": [
    {
     "data": {
      "text/plain": [
       "66"
      ]
     },
     "execution_count": 26,
     "metadata": {},
     "output_type": "execute_result"
    }
   ],
   "source": [
    "len(clean_index)"
   ]
  },
  {
   "cell_type": "code",
   "execution_count": 27,
   "id": "9999f818",
   "metadata": {},
   "outputs": [
    {
     "data": {
      "text/plain": [
       "['Madison 44']"
      ]
     },
     "execution_count": 27,
     "metadata": {},
     "output_type": "execute_result"
    }
   ],
   "source": [
    "index_issue"
   ]
  },
  {
   "cell_type": "code",
   "execution_count": 30,
   "id": "1c599bc1",
   "metadata": {},
   "outputs": [
    {
     "data": {
      "text/plain": [
       "'2022-Primary-Madison.xls'"
      ]
     },
     "execution_count": 30,
     "metadata": {},
     "output_type": "execute_result"
    }
   ],
   "source": [
    "files[44]"
   ]
  },
  {
   "cell_type": "code",
   "execution_count": 31,
   "id": "ca80c959",
   "metadata": {},
   "outputs": [],
   "source": [
    "issue_file = files[44]"
   ]
  },
  {
   "cell_type": "code",
   "execution_count": 33,
   "id": "2387ee4b",
   "metadata": {},
   "outputs": [],
   "source": [
    "temp = pd.read_excel('./raw-from-source/2022 Primary Precinct Results/' + issue_file)"
   ]
  },
  {
   "cell_type": "code",
   "execution_count": null,
   "id": "d3bf8e2c",
   "metadata": {},
   "outputs": [],
   "source": []
  },
  {
   "cell_type": "code",
   "execution_count": 35,
   "id": "d1283933",
   "metadata": {},
   "outputs": [
    {
     "name": "stdout",
     "output_type": "stream",
     "text": [
      "False\n",
      "True\n"
     ]
    }
   ],
   "source": [
    "issue_file = files[44]\n",
    "temp = pd.read_excel('./raw-from-source/2022 Primary Precinct Results/' + issue_file)\n",
    "    \n",
    "# Get the county name, clean \"StClair\" to match pattern\n",
    "county_name = file.split(\"-\")[-1][0:-4]\n",
    "ar_county_list.append(county_name)\n",
    "        \n",
    "# Clean the party name\n",
    "temp[\"Party\"] = temp[\"Party\"].str.strip()\n",
    "temp[\"Party\"] = temp[\"Party\"].fillna(\"\")\n",
    "    \n",
    "# Create a column to pivot on\n",
    "temp[\"pivot_col\"] = temp[\"Contest Title\"].str.strip()+\"-:-\"+temp[\"Candidate\"].str.strip()\n",
    "temp[\"pivot_col\"] = np.where(temp[\"Party\"]==\"\",temp[\"pivot_col\"],temp[\"pivot_col\"]+\"-:-\"+temp[\"Party\"].str.strip())\n",
    "    \n",
    "# Drop columns that are no longer needed\n",
    "temp.drop([\"Contest Title\", \"Party\", \"Candidate\"], axis = 1, inplace = True)\n",
    "    \n",
    "# Add the county name to the precinct\n",
    "rename_dict = {i:i+\"-:-\"+county_name for i in temp.columns if i != \"pivot_col\"}\n",
    "temp.rename(columns = rename_dict, inplace = True)\n",
    "    \n",
    "# Transpose the dataframe\n",
    "temp_transpose = temp.set_index(\"pivot_col\").T\n",
    "temp_transpose[\"County\"] = county_name\n",
    "temp_transpose.reset_index(inplace = True, drop = False)\n",
    "temp_transpose[\"County\"] = county_name\n",
    "    \n",
    "#Make sure cols and indexes unique\n",
    "print(temp_transpose.columns.nunique() == len(temp_transpose.columns))\n",
    "print(temp_transpose.index.is_unique)\n",
    "    "
   ]
  },
  {
   "cell_type": "code",
   "execution_count": 39,
   "id": "21bb615d",
   "metadata": {},
   "outputs": [],
   "source": [
    "col_dups = pd.DataFrame(temp_transpose.columns.to_list())"
   ]
  },
  {
   "cell_type": "code",
   "execution_count": 43,
   "id": "c209c122",
   "metadata": {},
   "outputs": [],
   "source": [
    "col_dups.columns = ['cols']"
   ]
  },
  {
   "cell_type": "code",
   "execution_count": 44,
   "id": "c9d17998",
   "metadata": {},
   "outputs": [
    {
     "data": {
      "text/plain": [
       "-:-Over Votes-:-DEM                                                                     4\n",
       "-:-Under Votes-:-DEM                                                                    4\n",
       "STATE DEMOCRATIC EXECUTIVE COMMITTEE (MALE), DISTRICT 53-:-Over Votes-:-DEM             1\n",
       "MADISON COUNTY DEM EXEC COMM (F). DIST 6-:-Laura Hall-:-DEM                             1\n",
       "STATE REPUBLICAN EXECUTIVE COMMITTEE MADISON COUNTY, PLACE 3-:-Tobias Vogt-:-REP        1\n",
       "                                                                                       ..\n",
       "MADISON COUNTY REP EXEC COMM DIST 9 PL 9                TRICT 11-:-Under Votes-:-REP    1\n",
       "PROPOSED STATEWIDE AMENDMENT NUMBER ONE (1)-:-Yes                                       1\n",
       "GOVERNOR-:-Under Votes-:-REP                                                            1\n",
       "GOVERNOR-:-Lew Burdette-:-REP                                                           1\n",
       "STATE REPUBLICAN EXECUTIVE COMMITTEE MADISON COUNTY, DISTRICT 1-:-Over Votes-:-REP      1\n",
       "Name: cols, Length: 273, dtype: int64"
      ]
     },
     "execution_count": 44,
     "metadata": {},
     "output_type": "execute_result"
    }
   ],
   "source": [
    "col_dups['cols'].value_counts()"
   ]
  },
  {
   "cell_type": "code",
   "execution_count": 36,
   "id": "e6765bab",
   "metadata": {},
   "outputs": [
    {
     "data": {
      "text/html": [
       "<div>\n",
       "<style scoped>\n",
       "    .dataframe tbody tr th:only-of-type {\n",
       "        vertical-align: middle;\n",
       "    }\n",
       "\n",
       "    .dataframe tbody tr th {\n",
       "        vertical-align: top;\n",
       "    }\n",
       "\n",
       "    .dataframe thead th {\n",
       "        text-align: right;\n",
       "    }\n",
       "</style>\n",
       "<table border=\"1\" class=\"dataframe\">\n",
       "  <thead>\n",
       "    <tr style=\"text-align: right;\">\n",
       "      <th>pivot_col</th>\n",
       "      <th>index</th>\n",
       "      <th>REGISTERED VOTERS - TOTAL-:-Registered Voters - Total</th>\n",
       "      <th>BALLOTS CAST - TOTAL-:-Ballots Cast - Total</th>\n",
       "      <th>BALLOTS CAST - DEMOCRAT-:-Ballots Cast - Alabama Democratic P-:-DEM</th>\n",
       "      <th>BALLOTS CAST - REPUBLICAN-:-Ballots Cast - Alabama Republican P-:-REP</th>\n",
       "      <th>BALLOTS CAST - NON-PARTISAN-:-Ballots Cast - Nonpartisan</th>\n",
       "      <th>BALLOTS CAST - BLANK-:-Ballots Cast - Blank</th>\n",
       "      <th>UNITED STATES SENATOR-:-Will Boyd-:-DEM</th>\n",
       "      <th>UNITED STATES SENATOR-:-Lillie Boddie-:-REP</th>\n",
       "      <th>UNITED STATES SENATOR-:-Brandaun Dean-:-DEM</th>\n",
       "      <th>...</th>\n",
       "      <th>MADISON COUNTY REP EXEC COMM DIST 9 PL 9                TRICT 11-:-Elizabeth Black-:-REP</th>\n",
       "      <th>MADISON COUNTY REP EXEC COMM DIST 9 PL 9                TRICT 11-:-Charles Coats-:-REP</th>\n",
       "      <th>MADISON COUNTY REP EXEC COMM DIST 9 PL 9                TRICT 11-:-William Cody Garton-:-REP</th>\n",
       "      <th>MADISON COUNTY REP EXEC COMM DIST 9 PL 9                TRICT 11-:-Over Votes-:-REP</th>\n",
       "      <th>MADISON COUNTY REP EXEC COMM DIST 9 PL 9                TRICT 11-:-Under Votes-:-REP</th>\n",
       "      <th>MADISON COUNTY REP EXEC COMM DIST 11 PL 2               TRICT 11-:-Heath B. Jones-:-REP</th>\n",
       "      <th>MADISON COUNTY REP EXEC COMM DIST 11 PL 2               TRICT 11-:-Stella Stooksbury-:-REP</th>\n",
       "      <th>MADISON COUNTY REP EXEC COMM DIST 11 PL 2               TRICT 11-:-Over Votes-:-REP</th>\n",
       "      <th>MADISON COUNTY REP EXEC COMM DIST 11 PL 2               TRICT 11-:-Under Votes-:-REP</th>\n",
       "      <th>County</th>\n",
       "    </tr>\n",
       "  </thead>\n",
       "  <tbody>\n",
       "    <tr>\n",
       "      <th>0</th>\n",
       "      <td>A &amp; M UNIVERSITY NEW GYM-:-Winston</td>\n",
       "      <td>5742.0</td>\n",
       "      <td>148.0</td>\n",
       "      <td>102.0</td>\n",
       "      <td>46.0</td>\n",
       "      <td>0.0</td>\n",
       "      <td>0.0</td>\n",
       "      <td>70.0</td>\n",
       "      <td>0.0</td>\n",
       "      <td>13.0</td>\n",
       "      <td>...</td>\n",
       "      <td>NaN</td>\n",
       "      <td>NaN</td>\n",
       "      <td>NaN</td>\n",
       "      <td>NaN</td>\n",
       "      <td>NaN</td>\n",
       "      <td>NaN</td>\n",
       "      <td>NaN</td>\n",
       "      <td>NaN</td>\n",
       "      <td>NaN</td>\n",
       "      <td>Winston</td>\n",
       "    </tr>\n",
       "    <tr>\n",
       "      <th>1</th>\n",
       "      <td>ABSENTEE-:-Winston</td>\n",
       "      <td>0.0</td>\n",
       "      <td>1816.0</td>\n",
       "      <td>356.0</td>\n",
       "      <td>1456.0</td>\n",
       "      <td>4.0</td>\n",
       "      <td>0.0</td>\n",
       "      <td>211.0</td>\n",
       "      <td>7.0</td>\n",
       "      <td>67.0</td>\n",
       "      <td>...</td>\n",
       "      <td>45.0</td>\n",
       "      <td>29.0</td>\n",
       "      <td>21.0</td>\n",
       "      <td>0.0</td>\n",
       "      <td>64.0</td>\n",
       "      <td>19.0</td>\n",
       "      <td>6.0</td>\n",
       "      <td>0.0</td>\n",
       "      <td>20.0</td>\n",
       "      <td>Winston</td>\n",
       "    </tr>\n",
       "    <tr>\n",
       "      <th>2</th>\n",
       "      <td>ALDERSGATE UMC-:-Winston</td>\n",
       "      <td>4962.0</td>\n",
       "      <td>1432.0</td>\n",
       "      <td>136.0</td>\n",
       "      <td>1295.0</td>\n",
       "      <td>1.0</td>\n",
       "      <td>0.0</td>\n",
       "      <td>69.0</td>\n",
       "      <td>6.0</td>\n",
       "      <td>43.0</td>\n",
       "      <td>...</td>\n",
       "      <td>NaN</td>\n",
       "      <td>NaN</td>\n",
       "      <td>NaN</td>\n",
       "      <td>NaN</td>\n",
       "      <td>NaN</td>\n",
       "      <td>NaN</td>\n",
       "      <td>NaN</td>\n",
       "      <td>NaN</td>\n",
       "      <td>NaN</td>\n",
       "      <td>Winston</td>\n",
       "    </tr>\n",
       "    <tr>\n",
       "      <th>3</th>\n",
       "      <td>ALL NATIONS-:-Winston</td>\n",
       "      <td>5571.0</td>\n",
       "      <td>549.0</td>\n",
       "      <td>141.0</td>\n",
       "      <td>406.0</td>\n",
       "      <td>2.0</td>\n",
       "      <td>0.0</td>\n",
       "      <td>84.0</td>\n",
       "      <td>1.0</td>\n",
       "      <td>29.0</td>\n",
       "      <td>...</td>\n",
       "      <td>NaN</td>\n",
       "      <td>NaN</td>\n",
       "      <td>NaN</td>\n",
       "      <td>NaN</td>\n",
       "      <td>NaN</td>\n",
       "      <td>NaN</td>\n",
       "      <td>NaN</td>\n",
       "      <td>NaN</td>\n",
       "      <td>NaN</td>\n",
       "      <td>Winston</td>\n",
       "    </tr>\n",
       "    <tr>\n",
       "      <th>4</th>\n",
       "      <td>BOB HARRISON SR_ CTR_-:-Winston</td>\n",
       "      <td>3451.0</td>\n",
       "      <td>629.0</td>\n",
       "      <td>531.0</td>\n",
       "      <td>98.0</td>\n",
       "      <td>0.0</td>\n",
       "      <td>0.0</td>\n",
       "      <td>386.0</td>\n",
       "      <td>1.0</td>\n",
       "      <td>57.0</td>\n",
       "      <td>...</td>\n",
       "      <td>NaN</td>\n",
       "      <td>NaN</td>\n",
       "      <td>NaN</td>\n",
       "      <td>NaN</td>\n",
       "      <td>NaN</td>\n",
       "      <td>NaN</td>\n",
       "      <td>NaN</td>\n",
       "      <td>NaN</td>\n",
       "      <td>NaN</td>\n",
       "      <td>Winston</td>\n",
       "    </tr>\n",
       "  </tbody>\n",
       "</table>\n",
       "<p>5 rows × 279 columns</p>\n",
       "</div>"
      ],
      "text/plain": [
       "pivot_col                               index  \\\n",
       "0          A & M UNIVERSITY NEW GYM-:-Winston   \n",
       "1                          ABSENTEE-:-Winston   \n",
       "2                    ALDERSGATE UMC-:-Winston   \n",
       "3                       ALL NATIONS-:-Winston   \n",
       "4             BOB HARRISON SR_ CTR_-:-Winston   \n",
       "\n",
       "pivot_col  REGISTERED VOTERS - TOTAL-:-Registered Voters - Total  \\\n",
       "0                                                     5742.0       \n",
       "1                                                        0.0       \n",
       "2                                                     4962.0       \n",
       "3                                                     5571.0       \n",
       "4                                                     3451.0       \n",
       "\n",
       "pivot_col  BALLOTS CAST - TOTAL-:-Ballots Cast - Total  \\\n",
       "0                                                148.0   \n",
       "1                                               1816.0   \n",
       "2                                               1432.0   \n",
       "3                                                549.0   \n",
       "4                                                629.0   \n",
       "\n",
       "pivot_col  BALLOTS CAST - DEMOCRAT-:-Ballots Cast - Alabama Democratic P-:-DEM  \\\n",
       "0                                                      102.0                     \n",
       "1                                                      356.0                     \n",
       "2                                                      136.0                     \n",
       "3                                                      141.0                     \n",
       "4                                                      531.0                     \n",
       "\n",
       "pivot_col  BALLOTS CAST - REPUBLICAN-:-Ballots Cast - Alabama Republican P-:-REP  \\\n",
       "0                                                       46.0                       \n",
       "1                                                     1456.0                       \n",
       "2                                                     1295.0                       \n",
       "3                                                      406.0                       \n",
       "4                                                       98.0                       \n",
       "\n",
       "pivot_col  BALLOTS CAST - NON-PARTISAN-:-Ballots Cast - Nonpartisan  \\\n",
       "0                                                        0.0          \n",
       "1                                                        4.0          \n",
       "2                                                        1.0          \n",
       "3                                                        2.0          \n",
       "4                                                        0.0          \n",
       "\n",
       "pivot_col  BALLOTS CAST - BLANK-:-Ballots Cast - Blank  \\\n",
       "0                                                  0.0   \n",
       "1                                                  0.0   \n",
       "2                                                  0.0   \n",
       "3                                                  0.0   \n",
       "4                                                  0.0   \n",
       "\n",
       "pivot_col  UNITED STATES SENATOR-:-Will Boyd-:-DEM  \\\n",
       "0                                             70.0   \n",
       "1                                            211.0   \n",
       "2                                             69.0   \n",
       "3                                             84.0   \n",
       "4                                            386.0   \n",
       "\n",
       "pivot_col  UNITED STATES SENATOR-:-Lillie Boddie-:-REP  \\\n",
       "0                                                  0.0   \n",
       "1                                                  7.0   \n",
       "2                                                  6.0   \n",
       "3                                                  1.0   \n",
       "4                                                  1.0   \n",
       "\n",
       "pivot_col  UNITED STATES SENATOR-:-Brandaun Dean-:-DEM  ...  \\\n",
       "0                                                 13.0  ...   \n",
       "1                                                 67.0  ...   \n",
       "2                                                 43.0  ...   \n",
       "3                                                 29.0  ...   \n",
       "4                                                 57.0  ...   \n",
       "\n",
       "pivot_col  MADISON COUNTY REP EXEC COMM DIST 9 PL 9                TRICT 11-:-Elizabeth Black-:-REP  \\\n",
       "0                                                        NaN                                          \n",
       "1                                                       45.0                                          \n",
       "2                                                        NaN                                          \n",
       "3                                                        NaN                                          \n",
       "4                                                        NaN                                          \n",
       "\n",
       "pivot_col  MADISON COUNTY REP EXEC COMM DIST 9 PL 9                TRICT 11-:-Charles Coats-:-REP  \\\n",
       "0                                                        NaN                                        \n",
       "1                                                       29.0                                        \n",
       "2                                                        NaN                                        \n",
       "3                                                        NaN                                        \n",
       "4                                                        NaN                                        \n",
       "\n",
       "pivot_col  MADISON COUNTY REP EXEC COMM DIST 9 PL 9                TRICT 11-:-William Cody Garton-:-REP  \\\n",
       "0                                                        NaN                                              \n",
       "1                                                       21.0                                              \n",
       "2                                                        NaN                                              \n",
       "3                                                        NaN                                              \n",
       "4                                                        NaN                                              \n",
       "\n",
       "pivot_col  MADISON COUNTY REP EXEC COMM DIST 9 PL 9                TRICT 11-:-Over Votes-:-REP  \\\n",
       "0                                                        NaN                                     \n",
       "1                                                        0.0                                     \n",
       "2                                                        NaN                                     \n",
       "3                                                        NaN                                     \n",
       "4                                                        NaN                                     \n",
       "\n",
       "pivot_col  MADISON COUNTY REP EXEC COMM DIST 9 PL 9                TRICT 11-:-Under Votes-:-REP  \\\n",
       "0                                                        NaN                                      \n",
       "1                                                       64.0                                      \n",
       "2                                                        NaN                                      \n",
       "3                                                        NaN                                      \n",
       "4                                                        NaN                                      \n",
       "\n",
       "pivot_col  MADISON COUNTY REP EXEC COMM DIST 11 PL 2               TRICT 11-:-Heath B. Jones-:-REP  \\\n",
       "0                                                        NaN                                         \n",
       "1                                                       19.0                                         \n",
       "2                                                        NaN                                         \n",
       "3                                                        NaN                                         \n",
       "4                                                        NaN                                         \n",
       "\n",
       "pivot_col  MADISON COUNTY REP EXEC COMM DIST 11 PL 2               TRICT 11-:-Stella Stooksbury-:-REP  \\\n",
       "0                                                        NaN                                            \n",
       "1                                                        6.0                                            \n",
       "2                                                        NaN                                            \n",
       "3                                                        NaN                                            \n",
       "4                                                        NaN                                            \n",
       "\n",
       "pivot_col  MADISON COUNTY REP EXEC COMM DIST 11 PL 2               TRICT 11-:-Over Votes-:-REP  \\\n",
       "0                                                        NaN                                     \n",
       "1                                                        0.0                                     \n",
       "2                                                        NaN                                     \n",
       "3                                                        NaN                                     \n",
       "4                                                        NaN                                     \n",
       "\n",
       "pivot_col  MADISON COUNTY REP EXEC COMM DIST 11 PL 2               TRICT 11-:-Under Votes-:-REP  \\\n",
       "0                                                        NaN                                      \n",
       "1                                                       20.0                                      \n",
       "2                                                        NaN                                      \n",
       "3                                                        NaN                                      \n",
       "4                                                        NaN                                      \n",
       "\n",
       "pivot_col   County  \n",
       "0          Winston  \n",
       "1          Winston  \n",
       "2          Winston  \n",
       "3          Winston  \n",
       "4          Winston  \n",
       "\n",
       "[5 rows x 279 columns]"
      ]
     },
     "execution_count": 36,
     "metadata": {},
     "output_type": "execute_result"
    }
   ],
   "source": [
    "temp_transpose.head()"
   ]
  },
  {
   "cell_type": "code",
   "execution_count": 11,
   "id": "89761584",
   "metadata": {},
   "outputs": [
    {
     "data": {
      "text/plain": [
       "67"
      ]
     },
     "execution_count": 11,
     "metadata": {},
     "output_type": "execute_result"
    }
   ],
   "source": [
    "len(ar_county_list)"
   ]
  },
  {
   "cell_type": "code",
   "execution_count": 9,
   "id": "fb8a6d78",
   "metadata": {},
   "outputs": [
    {
     "data": {
      "text/plain": [
       "0"
      ]
     },
     "execution_count": 9,
     "metadata": {},
     "output_type": "execute_result"
    }
   ],
   "source": [
    "len(ph_county_list)"
   ]
  },
  {
   "cell_type": "code",
   "execution_count": null,
   "id": "b993dd07",
   "metadata": {},
   "outputs": [],
   "source": [
    "comb.shape"
   ]
  },
  {
   "cell_type": "code",
   "execution_count": null,
   "id": "63584d9e",
   "metadata": {
    "scrolled": false
   },
   "outputs": [],
   "source": [
    "comb.head()"
   ]
  },
  {
   "cell_type": "code",
   "execution_count": null,
   "id": "65d7b5eb",
   "metadata": {},
   "outputs": [],
   "source": [
    "comb['County']"
   ]
  },
  {
   "cell_type": "code",
   "execution_count": null,
   "id": "280727f3",
   "metadata": {},
   "outputs": [],
   "source": [
    "temp_transpose.reset_index(inplace = True, drop = False)"
   ]
  },
  {
   "cell_type": "code",
   "execution_count": null,
   "id": "15fdb6e2",
   "metadata": {},
   "outputs": [],
   "source": [
    "index_df.columns = ['test']"
   ]
  },
  {
   "cell_type": "code",
   "execution_count": null,
   "id": "0c1fb044",
   "metadata": {},
   "outputs": [],
   "source": [
    "index_df.shape"
   ]
  },
  {
   "cell_type": "code",
   "execution_count": null,
   "id": "4e3b20d2",
   "metadata": {},
   "outputs": [],
   "source": [
    "index_df.head()"
   ]
  },
  {
   "cell_type": "code",
   "execution_count": null,
   "id": "79219165",
   "metadata": {
    "scrolled": true
   },
   "outputs": [],
   "source": [
    "index_df['test'].value_counts()"
   ]
  },
  {
   "cell_type": "markdown",
   "id": "eda31cf9",
   "metadata": {},
   "source": [
    "<p><a name=\"check\"></a></p>\n",
    "\n",
    "### Vote Totals Check"
   ]
  },
  {
   "cell_type": "markdown",
   "id": "1b9045ed",
   "metadata": {},
   "source": [
    "<p><a name=\"discrepancies\"></a></p>\n",
    "\n",
    "### Checks"
   ]
  },
  {
   "cell_type": "markdown",
   "id": "9803a8d2",
   "metadata": {},
   "source": [
    "<p><a name=\"readme\"></a></p>\n",
    "\n",
    "### Creating README"
   ]
  },
  {
   "cell_type": "markdown",
   "id": "5fd5487f",
   "metadata": {},
   "source": [
    "<p><a name=\"exp\"></a></p>\n",
    "\n",
    "### Exporting Cleaned Precinct-Level Dataset"
   ]
  }
 ],
 "metadata": {
  "kernelspec": {
   "display_name": "Python 3",
   "language": "python",
   "name": "python3"
  },
  "language_info": {
   "codemirror_mode": {
    "name": "ipython",
    "version": 3
   },
   "file_extension": ".py",
   "mimetype": "text/x-python",
   "name": "python",
   "nbconvert_exporter": "python",
   "pygments_lexer": "ipython3",
   "version": "3.8.8"
  }
 },
 "nbformat": 4,
 "nbformat_minor": 5
}
