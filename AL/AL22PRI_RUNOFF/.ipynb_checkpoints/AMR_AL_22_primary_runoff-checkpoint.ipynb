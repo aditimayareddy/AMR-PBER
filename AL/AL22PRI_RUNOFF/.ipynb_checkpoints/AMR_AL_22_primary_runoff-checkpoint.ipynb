{
 "cells": [
  {
   "cell_type": "markdown",
   "id": "0c503936",
   "metadata": {},
   "source": [
    "## Alabama 2022 Primary Runoff Election Returns"
   ]
  },
  {
   "cell_type": "markdown",
   "id": "b640b823",
   "metadata": {},
   "source": [
    "### Sources\n",
    "- [Alabama Primary Runoff Election Results, Precint Level](https://www.sos.alabama.gov/sites/default/files/election-data/2022-07/2022%20Primary%20Runoff%20Precinct%20Results.zip)\n",
    "- [Secretary of State Certified Results, Democratic Party](https://www.sos.alabama.gov/sites/default/files/election-2022/2022%20Democratic%20Runoff%20Results.xlsx)\n",
    "- [Secretary of State Certified Results, Republican Party](https://www.sos.alabama.gov/sites/default/files/election-2022/AL%20Republican%20Party%202022%20Runoff%20Results%20Official.xlsx)"
   ]
  },
  {
   "cell_type": "code",
   "execution_count": 2,
   "id": "9e496996",
   "metadata": {},
   "outputs": [],
   "source": [
    "# import geopandas as gp\n",
    "# import pandas as pd\n",
    "# import os\n",
    "# import numpy as np\n",
    "# import re\n",
    "# import helper_functions as hlp"
   ]
  },
  {
   "cell_type": "markdown",
   "id": "2504c8f3",
   "metadata": {},
   "source": [
    "## Section Heading"
   ]
  },
  {
   "cell_type": "markdown",
   "id": "a68433f6",
   "metadata": {},
   "source": [
    "### Subheading"
   ]
  },
  {
   "cell_type": "markdown",
   "id": "eda31cf9",
   "metadata": {},
   "source": [
    "## Section Heading"
   ]
  },
  {
   "cell_type": "markdown",
   "id": "bb87ab5c",
   "metadata": {},
   "source": [
    "### Subheading"
   ]
  },
  {
   "cell_type": "markdown",
   "id": "1b9045ed",
   "metadata": {},
   "source": [
    "## Checks"
   ]
  },
  {
   "cell_type": "markdown",
   "id": "ff66747f",
   "metadata": {},
   "source": [
    "### Export"
   ]
  },
  {
   "cell_type": "markdown",
   "id": "9803a8d2",
   "metadata": {},
   "source": [
    "## README"
   ]
  },
  {
   "cell_type": "code",
   "execution_count": null,
   "id": "669fd20c",
   "metadata": {},
   "outputs": [],
   "source": []
  }
 ],
 "metadata": {
  "kernelspec": {
   "display_name": "Python 3",
   "language": "python",
   "name": "python3"
  },
  "language_info": {
   "codemirror_mode": {
    "name": "ipython",
    "version": 3
   },
   "file_extension": ".py",
   "mimetype": "text/x-python",
   "name": "python",
   "nbconvert_exporter": "python",
   "pygments_lexer": "ipython3",
   "version": "3.8.8"
  }
 },
 "nbformat": 4,
 "nbformat_minor": 5
}
